{
 "cells": [
  {
   "cell_type": "markdown",
   "metadata": {},
   "source": [
    "# Определение стоимости автомобилей"
   ]
  },
  {
   "cell_type": "markdown",
   "metadata": {},
   "source": [
    "**Описание проекта**\n",
    "\n",
    "Сервис по продаже автомобилей с пробегом «Не бит, не крашен» разрабатывает приложение для привлечения новых клиентов. В нём можно быстро узнать рыночную стоимость своего автомобиля. В вашем распоряжении исторические данные: технические характеристики, комплектации и цены автомобилей. Вам нужно построить модель для определения стоимости. \n",
    "\n",
    "Заказчику важны:\n",
    "\n",
    "- качество предсказания;\n",
    "- скорость предсказания;\n",
    "- время обучения."
   ]
  },
  {
   "cell_type": "markdown",
   "metadata": {},
   "source": [
    "**Инструкция по выполнению проекта**\n",
    "\n",
    "Чтобы усилить исследование, не ограничивайтесь градиентным бустингом. Попробуйте более простые модели — иногда они работают лучше. Это редкие случаи, которые легко пропустить, если всегда применять только бустинг. Поэкспериментируйте и сравните характеристики моделей: скорость работы, точность результата.\n",
    "\n",
    "1. Загрузите и подготовьте данные.\n",
    "1. Обучите разные модели. Для каждой попробуйте различные гиперпараметры.\n",
    "1. Проанализируйте скорость работы и качество моделей.\n",
    "\n",
    "Примечания:\n",
    "* Для оценки качества моделей применяйте метрику RMSE.\n",
    "* Самостоятельно освойте библиотеку LightGBM и её средствами постройте модели градиентного бустинга.\n",
    "* Время выполнения ячейки кода Jupyter Notebook можно получить специальной командой. Найдите её.\n",
    "* Поскольку модель градиентного бустинга может обучаться долго, измените у неё только два-три параметра."
   ]
  },
  {
   "cell_type": "markdown",
   "metadata": {},
   "source": [
    "**Описание данных**\n",
    "\n",
    "Признаки:\n",
    "* `DateCrawled` — дата скачивания анкеты из базы\n",
    "\n",
    "* `VehicleType` — тип автомобильного кузова\n",
    "* `RegistrationYear` — год регистрации автомобиля\n",
    "* `Gearbox` — тип коробки передач\n",
    "* `Power` — мощность (л. с.)\n",
    "* `Model` — модель автомобиля\n",
    "* `Kilometer` — пробег (км)\n",
    "* `RegistrationMonth` — месяц регистрации автомобиля\n",
    "* `FuelType` — тип топлива:\n",
    "    * `Gasoline` – это английское слово, обозначающее автомобильное топливо, бензин.\n",
    "    * `Petrol` (Petroleum) – название торговой марки, то же, что и Gasoline.\n",
    "    * `LPG` (Liquified Petroleum Gas) – сжиженный газ (пропан-бутан). Газ, полученный при добыче и переработке нефти. В жидкое состояние переводят при охлаждении до критической температуры и последующей конденсации в результате отвода теплоты парообразования.\n",
    "    * `CNG` (Compressed Natural Gas) – сжатый природный газ (метан): газообразные углеводороды, образующиеся в земной коре, высокоэкономичное энергетическое топливо.\n",
    "* `Brand` — марка автомобиля\n",
    "* `NotRepaired` — была машина в ремонте или нет\n",
    "* `DateCreated` — дата создания анкеты\n",
    "* `NumberOfPictures` — количество фотографий автомобиля\n",
    "* `PostalCode` — почтовый индекс владельца анкеты (пользователя)\n",
    "* `LastSeen` — дата последней активности пользователя\n",
    "\n",
    "Целевой признак:\n",
    "* `Price` — цена (евро)"
   ]
  },
  {
   "cell_type": "markdown",
   "metadata": {},
   "source": [
    "## Подготовка данных"
   ]
  },
  {
   "cell_type": "markdown",
   "metadata": {},
   "source": [
    "Импортируем библиотеки."
   ]
  },
  {
   "cell_type": "code",
   "execution_count": 1,
   "metadata": {},
   "outputs": [
    {
     "name": "stdout",
     "output_type": "stream",
     "text": [
      "Версия LightGBM:  2.3.1\n"
     ]
    }
   ],
   "source": [
    "import pandas as pd\n",
    "import lightgbm as lgb\n",
    "\n",
    "from sklearn.dummy import DummyRegressor\n",
    "from sklearn.linear_model import RidgeCV\n",
    "from sklearn.linear_model import LassoCV\n",
    "\n",
    "from sklearn.model_selection import train_test_split\n",
    "from sklearn.metrics import mean_squared_error as mse\n",
    "\n",
    "print(\"Версия LightGBM: \", lgb.__version__)"
   ]
  },
  {
   "cell_type": "markdown",
   "metadata": {},
   "source": [
    "Импортируем данные."
   ]
  },
  {
   "cell_type": "code",
   "execution_count": 2,
   "metadata": {},
   "outputs": [],
   "source": [
    "try:  # local import\n",
    "    df = pd.read_csv('./datasets/autos.csv')\n",
    "except:  # from Praktikum server\n",
    "    df = pd.read_csv('/datasets/autos.csv')"
   ]
  },
  {
   "cell_type": "markdown",
   "metadata": {},
   "source": [
    "Посмотрим на данные в первом приближении."
   ]
  },
  {
   "cell_type": "code",
   "execution_count": 3,
   "metadata": {
    "scrolled": false
   },
   "outputs": [
    {
     "data": {
      "text/html": [
       "<div>\n",
       "<style scoped>\n",
       "    .dataframe tbody tr th:only-of-type {\n",
       "        vertical-align: middle;\n",
       "    }\n",
       "\n",
       "    .dataframe tbody tr th {\n",
       "        vertical-align: top;\n",
       "    }\n",
       "\n",
       "    .dataframe thead th {\n",
       "        text-align: right;\n",
       "    }\n",
       "</style>\n",
       "<table border=\"1\" class=\"dataframe\">\n",
       "  <thead>\n",
       "    <tr style=\"text-align: right;\">\n",
       "      <th></th>\n",
       "      <th>DateCrawled</th>\n",
       "      <th>Price</th>\n",
       "      <th>VehicleType</th>\n",
       "      <th>RegistrationYear</th>\n",
       "      <th>Gearbox</th>\n",
       "      <th>Power</th>\n",
       "      <th>Model</th>\n",
       "      <th>Kilometer</th>\n",
       "      <th>RegistrationMonth</th>\n",
       "      <th>FuelType</th>\n",
       "      <th>Brand</th>\n",
       "      <th>NotRepaired</th>\n",
       "      <th>DateCreated</th>\n",
       "      <th>NumberOfPictures</th>\n",
       "      <th>PostalCode</th>\n",
       "      <th>LastSeen</th>\n",
       "    </tr>\n",
       "  </thead>\n",
       "  <tbody>\n",
       "    <tr>\n",
       "      <th>0</th>\n",
       "      <td>2016-03-24 11:52:17</td>\n",
       "      <td>480</td>\n",
       "      <td>NaN</td>\n",
       "      <td>1993</td>\n",
       "      <td>manual</td>\n",
       "      <td>0</td>\n",
       "      <td>golf</td>\n",
       "      <td>150000</td>\n",
       "      <td>0</td>\n",
       "      <td>petrol</td>\n",
       "      <td>volkswagen</td>\n",
       "      <td>NaN</td>\n",
       "      <td>2016-03-24 00:00:00</td>\n",
       "      <td>0</td>\n",
       "      <td>70435</td>\n",
       "      <td>2016-04-07 03:16:57</td>\n",
       "    </tr>\n",
       "    <tr>\n",
       "      <th>1</th>\n",
       "      <td>2016-03-24 10:58:45</td>\n",
       "      <td>18300</td>\n",
       "      <td>coupe</td>\n",
       "      <td>2011</td>\n",
       "      <td>manual</td>\n",
       "      <td>190</td>\n",
       "      <td>NaN</td>\n",
       "      <td>125000</td>\n",
       "      <td>5</td>\n",
       "      <td>gasoline</td>\n",
       "      <td>audi</td>\n",
       "      <td>yes</td>\n",
       "      <td>2016-03-24 00:00:00</td>\n",
       "      <td>0</td>\n",
       "      <td>66954</td>\n",
       "      <td>2016-04-07 01:46:50</td>\n",
       "    </tr>\n",
       "    <tr>\n",
       "      <th>2</th>\n",
       "      <td>2016-03-14 12:52:21</td>\n",
       "      <td>9800</td>\n",
       "      <td>suv</td>\n",
       "      <td>2004</td>\n",
       "      <td>auto</td>\n",
       "      <td>163</td>\n",
       "      <td>grand</td>\n",
       "      <td>125000</td>\n",
       "      <td>8</td>\n",
       "      <td>gasoline</td>\n",
       "      <td>jeep</td>\n",
       "      <td>NaN</td>\n",
       "      <td>2016-03-14 00:00:00</td>\n",
       "      <td>0</td>\n",
       "      <td>90480</td>\n",
       "      <td>2016-04-05 12:47:46</td>\n",
       "    </tr>\n",
       "    <tr>\n",
       "      <th>3</th>\n",
       "      <td>2016-03-17 16:54:04</td>\n",
       "      <td>1500</td>\n",
       "      <td>small</td>\n",
       "      <td>2001</td>\n",
       "      <td>manual</td>\n",
       "      <td>75</td>\n",
       "      <td>golf</td>\n",
       "      <td>150000</td>\n",
       "      <td>6</td>\n",
       "      <td>petrol</td>\n",
       "      <td>volkswagen</td>\n",
       "      <td>no</td>\n",
       "      <td>2016-03-17 00:00:00</td>\n",
       "      <td>0</td>\n",
       "      <td>91074</td>\n",
       "      <td>2016-03-17 17:40:17</td>\n",
       "    </tr>\n",
       "    <tr>\n",
       "      <th>4</th>\n",
       "      <td>2016-03-31 17:25:20</td>\n",
       "      <td>3600</td>\n",
       "      <td>small</td>\n",
       "      <td>2008</td>\n",
       "      <td>manual</td>\n",
       "      <td>69</td>\n",
       "      <td>fabia</td>\n",
       "      <td>90000</td>\n",
       "      <td>7</td>\n",
       "      <td>gasoline</td>\n",
       "      <td>skoda</td>\n",
       "      <td>no</td>\n",
       "      <td>2016-03-31 00:00:00</td>\n",
       "      <td>0</td>\n",
       "      <td>60437</td>\n",
       "      <td>2016-04-06 10:17:21</td>\n",
       "    </tr>\n",
       "  </tbody>\n",
       "</table>\n",
       "</div>"
      ],
      "text/plain": [
       "           DateCrawled  Price VehicleType  RegistrationYear Gearbox  Power  \\\n",
       "0  2016-03-24 11:52:17    480         NaN              1993  manual      0   \n",
       "1  2016-03-24 10:58:45  18300       coupe              2011  manual    190   \n",
       "2  2016-03-14 12:52:21   9800         suv              2004    auto    163   \n",
       "3  2016-03-17 16:54:04   1500       small              2001  manual     75   \n",
       "4  2016-03-31 17:25:20   3600       small              2008  manual     69   \n",
       "\n",
       "   Model  Kilometer  RegistrationMonth  FuelType       Brand NotRepaired  \\\n",
       "0   golf     150000                  0    petrol  volkswagen         NaN   \n",
       "1    NaN     125000                  5  gasoline        audi         yes   \n",
       "2  grand     125000                  8  gasoline        jeep         NaN   \n",
       "3   golf     150000                  6    petrol  volkswagen          no   \n",
       "4  fabia      90000                  7  gasoline       skoda          no   \n",
       "\n",
       "           DateCreated  NumberOfPictures  PostalCode             LastSeen  \n",
       "0  2016-03-24 00:00:00                 0       70435  2016-04-07 03:16:57  \n",
       "1  2016-03-24 00:00:00                 0       66954  2016-04-07 01:46:50  \n",
       "2  2016-03-14 00:00:00                 0       90480  2016-04-05 12:47:46  \n",
       "3  2016-03-17 00:00:00                 0       91074  2016-03-17 17:40:17  \n",
       "4  2016-03-31 00:00:00                 0       60437  2016-04-06 10:17:21  "
      ]
     },
     "metadata": {},
     "output_type": "display_data"
    },
    {
     "name": "stdout",
     "output_type": "stream",
     "text": [
      "<class 'pandas.core.frame.DataFrame'>\n",
      "RangeIndex: 354369 entries, 0 to 354368\n",
      "Data columns (total 16 columns):\n",
      " #   Column             Non-Null Count   Dtype \n",
      "---  ------             --------------   ----- \n",
      " 0   DateCrawled        354369 non-null  object\n",
      " 1   Price              354369 non-null  int64 \n",
      " 2   VehicleType        316879 non-null  object\n",
      " 3   RegistrationYear   354369 non-null  int64 \n",
      " 4   Gearbox            334536 non-null  object\n",
      " 5   Power              354369 non-null  int64 \n",
      " 6   Model              334664 non-null  object\n",
      " 7   Kilometer          354369 non-null  int64 \n",
      " 8   RegistrationMonth  354369 non-null  int64 \n",
      " 9   FuelType           321474 non-null  object\n",
      " 10  Brand              354369 non-null  object\n",
      " 11  NotRepaired        283215 non-null  object\n",
      " 12  DateCreated        354369 non-null  object\n",
      " 13  NumberOfPictures   354369 non-null  int64 \n",
      " 14  PostalCode         354369 non-null  int64 \n",
      " 15  LastSeen           354369 non-null  object\n",
      "dtypes: int64(7), object(9)\n",
      "memory usage: 43.3+ MB\n"
     ]
    }
   ],
   "source": [
    "display(df.head())\n",
    "df.info()"
   ]
  },
  {
   "cell_type": "markdown",
   "metadata": {},
   "source": [
    "**Признаки с пропусками**"
   ]
  },
  {
   "cell_type": "raw",
   "metadata": {},
   "source": [
    "2   VehicleType 10% - 316879 / 354369 non-null  object\n",
    "4   Gearbox     05% - 334536 / 354369 non-null  object\n",
    "6   Model       05% - 334664 / 354369 non-null  object\n",
    "9   FuelType    09% - 321474 / 354369 non-null  object\n",
    "11  NotRepaired 20% - 283215 / 354369 non-null  object"
   ]
  },
  {
   "cell_type": "markdown",
   "metadata": {},
   "source": [
    "**Признаки на удаление**\n",
    "\n",
    "Вероятно, с этими признаками есть простор для feature engineering, однако у меня не возникло идей как их можно использовать.\n",
    "\n",
    "* DateCrawled — дата\n",
    "* RegistrationMonth — месяц регистрации, содержит нули\n",
    "* DateCreated — дата\n",
    "* NumberOfPictures — заполнен нулями\n",
    "* LastSeen — дата"
   ]
  },
  {
   "cell_type": "markdown",
   "metadata": {},
   "source": [
    "<div class=\"alert alert-block alert-info\">\n",
    "    \n",
    "**Комментарий**\n",
    "\n",
    "Признаки отсмотрены с помощью sns.violinplot(), hist(), unique() и sample(). Для визуальной чистоты оставлен только блок с выводами.\n",
    "    \n",
    "</div>"
   ]
  },
  {
   "cell_type": "markdown",
   "metadata": {},
   "source": [
    "**Резюме**\n",
    "\n",
    "Выберем максимально щадящую стратегию. Чем больше данных останется, тем лучше.\n",
    "\n",
    "* Price — содержит 10,7к строк с нулевой ценой и еще 2,5k строк с ценой до 100 евро, для обучения такие объекты не подходят.\n",
    "* VehicleType — заполним пропуски индикаторным значением.\n",
    "* RegistrationYear — содержит цифры > 2016 и > 2019;\n",
    "> кроме того есть годы регистрации < 1980, беглый осмотр показывает что там перемешаны раритетные автомобили со случайно введенными значениями; так как у нас нет цели предсказания цен на раритетные авто, а к тому же их количества может быть и недостаточно для точного предсказания, то разумно на этом этапе удалить такие объекты.\n",
    "* Gearbox — заполним мажоритарным классом (manual).\n",
    "* Power — содержит в одном столбце и мощность в л.с. и объем двигателя, 40к строк с нулями;\n",
    "> микролитражные автомобили имеют объем от 700 см^2, возьмем 600 с запасом, таких объектов всего 394 поэтому ими можно пренебречь; нулевые строки удалим исходя из того, что если в данных есть объекты для восстановления, значит их должно хватить и для обучения модели;\n",
    "* Model — шумный признак, содержит пропуски, и категории _klasse, _reihe, other; заполним пропуски индикаторным значением.\n",
    "* FuelType — следует объединить категории petrol/gasoline, это одно и то же; пропуски заполним мажоритарным классом, так как машин на альтернативном топливе мало и цена ошибки не высока.\n",
    "* Brand — содержит категорию \"sonstige_autos\" (нем. другие), которая несет с собой много шума, избавимся от таких объектов.\n",
    "* NotRepaired — не очевидный признак, заполним пропуски индикаторным значением.\n",
    "* PostalCode — содержит коды длины 5 и 4. Уберем избыточность и сократим коды до первых 3 (1) цифр.\n",
    "> Удаление или модификация столбца на RidgeCV не даёт различий. На градиентном бустинге снижение вариативности даёт небольшой положительный эффект."
   ]
  },
  {
   "cell_type": "markdown",
   "metadata": {},
   "source": [
    "Почистим данные."
   ]
  },
  {
   "cell_type": "code",
   "execution_count": 4,
   "metadata": {},
   "outputs": [],
   "source": [
    "# Drop\n",
    "select = ['DateCrawled', 'RegistrationMonth',\n",
    "          'DateCreated', 'LastSeen', 'NumberOfPictures']\n",
    "df = df.drop(columns=select)"
   ]
  },
  {
   "cell_type": "code",
   "execution_count": 5,
   "metadata": {},
   "outputs": [
    {
     "name": "stdout",
     "output_type": "stream",
     "text": [
      "(301910, 11)\n"
     ]
    }
   ],
   "source": [
    "# Slice\n",
    "df = df[(df.Price >= 100) &\n",
    "        (df.RegistrationYear >= 1980) & (df.RegistrationYear < 2020) &\n",
    "        (df.Power > 0) & (df.Power < 600) &\n",
    "        (df.Brand != 'sonstige_autos')\n",
    "        ]\n",
    "\n",
    "# Replace\n",
    "df.FuelType.replace(to_replace='petrol', value='gasoline', inplace=True)\n",
    "\n",
    "# Fill\n",
    "df.VehicleType.fillna('n/a', inplace=True)\n",
    "df.Gearbox.fillna('manual', inplace=True)\n",
    "df.Model.fillna('n/a', inplace=True)\n",
    "df.FuelType.fillna('gasoline', inplace=True)\n",
    "df.NotRepaired.fillna('n/a', inplace=True)\n",
    "\n",
    "# Alternative way (RMSE Test Score: 2512 против 2415 на RidgeCV)\n",
    "# df.dropna(subset=['VehicleType', 'Gearbox', 'Model', 'FuelType', 'NotRepaired'])\n",
    "\n",
    "# Variability reduction\n",
    "df.PostalCode -= df.PostalCode % 1000\n",
    "\n",
    "print(df.shape)"
   ]
  },
  {
   "cell_type": "markdown",
   "metadata": {},
   "source": [
    "## Обучение моделей"
   ]
  },
  {
   "cell_type": "markdown",
   "metadata": {},
   "source": [
    "Заведём функцию для оценки RMSE."
   ]
  },
  {
   "cell_type": "code",
   "execution_count": 6,
   "metadata": {},
   "outputs": [],
   "source": [
    "def evaluate(estimator):\n",
    "    print('Test  RMSE Score: %.0f'%mse(y_test, estimator.predict(X_test), squared=False))\n",
    "    print('Train RMSE Score: %.0f'%mse(y_train, estimator.predict(X_train), squared=False), '\\n')"
   ]
  },
  {
   "cell_type": "markdown",
   "metadata": {},
   "source": [
    "Заведём класс для хранения результатов."
   ]
  },
  {
   "cell_type": "code",
   "execution_count": 7,
   "metadata": {},
   "outputs": [],
   "source": [
    "class Vault:\n",
    "    def __init__(self):\n",
    "        self.vault = dict(model=[],\n",
    "                          rmse_test=[], rmse_train=[],\n",
    "                          fit_time=[], predict_time=[],\n",
    "                          parameters=[])\n",
    "\n",
    "    def save(self, model, rmse_test, rmse_train, fit_time, predict_time, parameters):\n",
    "        self.vault['model'].append(model)\n",
    "        self.vault['rmse_test'].append(rmse_test)\n",
    "        self.vault['rmse_train'].append(rmse_train)\n",
    "        self.vault['fit_time'].append(fit_time)\n",
    "        self.vault['predict_time'].append(predict_time)\n",
    "        self.vault['parameters'].append(parameters)\n",
    "        \n",
    "    def pop(self):\n",
    "        self.vault['model'].pop()\n",
    "        self.vault['rmse_test'].pop()\n",
    "        self.vault['rmse_train'].pop()\n",
    "        self.vault['fit_time'].pop()\n",
    "        self.vault['predict_time'].pop()\n",
    "        self.vault['parameters'].pop()\n",
    "\n",
    "    def display(self):\n",
    "        return display(pd.DataFrame(self.vault).sort_values(by='rmse_test'))"
   ]
  },
  {
   "cell_type": "code",
   "execution_count": 8,
   "metadata": {},
   "outputs": [],
   "source": [
    "stats = Vault()"
   ]
  },
  {
   "cell_type": "markdown",
   "metadata": {},
   "source": [
    "Выделим категориальные признаки."
   ]
  },
  {
   "cell_type": "code",
   "execution_count": 9,
   "metadata": {},
   "outputs": [
    {
     "name": "stdout",
     "output_type": "stream",
     "text": [
      "Категориальные признаки: ['VehicleType', 'Gearbox', 'Model', 'FuelType', 'Brand', 'NotRepaired']\n"
     ]
    }
   ],
   "source": [
    "categorical = df.select_dtypes(include=['object']).columns.tolist()\n",
    "target = 'Price'\n",
    "\n",
    "print('Категориальные признаки:', categorical)"
   ]
  },
  {
   "cell_type": "markdown",
   "metadata": {},
   "source": [
    "Кодируем категориальные признаки и подготовим выборки для линейных моделей."
   ]
  },
  {
   "cell_type": "code",
   "execution_count": 10,
   "metadata": {},
   "outputs": [],
   "source": [
    "df_encoded = pd.get_dummies(df, columns=categorical, drop_first=True)\n",
    "\n",
    "X = df_encoded.drop(target, axis=1)\n",
    "y = df_encoded[target]\n",
    "\n",
    "X_train, X_test, y_train, y_test = train_test_split(X, y, random_state=42)"
   ]
  },
  {
   "cell_type": "markdown",
   "metadata": {},
   "source": [
    "### DummyRegressor"
   ]
  },
  {
   "cell_type": "raw",
   "metadata": {},
   "source": [
    "%time dummy = DummyRegressor(strategy=\"mean\").fit(X_train, y_train)"
   ]
  },
  {
   "cell_type": "raw",
   "metadata": {},
   "source": [
    "CPU times: user 1.53 ms, sys: 704 µs, total: 2.24 ms\n",
    "Wall time: 1.16 ms"
   ]
  },
  {
   "cell_type": "raw",
   "metadata": {},
   "source": [
    "%time evaluate(dummy)"
   ]
  },
  {
   "cell_type": "raw",
   "metadata": {},
   "source": [
    "Test  RMSE Score: 4558\n",
    "Train RMSE Score: 4567\n",
    "\n",
    "CPU times: user 6.68 ms, sys: 3.59 ms, total: 10.3 ms\n",
    "Wall time: 6.7 ms"
   ]
  },
  {
   "cell_type": "code",
   "execution_count": 11,
   "metadata": {},
   "outputs": [],
   "source": [
    "stats.save('DummyRegressor', 4558, 4567, '1.16 ms', '6.7 ms', 'strategy=\"mean\"')"
   ]
  },
  {
   "cell_type": "markdown",
   "metadata": {},
   "source": [
    "### RidgeCV"
   ]
  },
  {
   "cell_type": "raw",
   "metadata": {},
   "source": [
    "%time reg = RidgeCV(alphas=[1e-3, 1e-2, 1e-1, 1], normalize=True).fit(X_train, y_train)"
   ]
  },
  {
   "cell_type": "raw",
   "metadata": {},
   "source": [
    "CPU times: user 19.1 s, sys: 5.27 s, total: 24.4 s\n",
    "Wall time: 16.4 s"
   ]
  },
  {
   "cell_type": "raw",
   "metadata": {},
   "source": [
    "%time evaluate(reg)"
   ]
  },
  {
   "cell_type": "raw",
   "metadata": {},
   "source": [
    "Test  RMSE Score: 2415\n",
    "Train RMSE Score: 2434\n",
    "\n",
    "CPU times: user 1.42 s, sys: 729 ms, total: 2.15 s\n",
    "Wall time: 1.81 s"
   ]
  },
  {
   "cell_type": "code",
   "execution_count": 12,
   "metadata": {},
   "outputs": [],
   "source": [
    "stats.save('RidgeCV', 2415, 2434, '16.4 s', '1.81 s', 'alphas=[1e-3, 1e-2, 1e-1, 1]')"
   ]
  },
  {
   "cell_type": "markdown",
   "metadata": {},
   "source": [
    "### LassoCV"
   ]
  },
  {
   "cell_type": "raw",
   "metadata": {},
   "source": [
    "%time reg = LassoCV(alphas=[1e-3, 1e-2, 1e-1, 1], normalize=True, random_state=42).fit(X_train, y_train)"
   ]
  },
  {
   "cell_type": "raw",
   "metadata": {},
   "source": [
    "CPU times: user 4min 23s, sys: 6.58 s, total: 4min 30s\n",
    "Wall time: 2min 37s"
   ]
  },
  {
   "cell_type": "raw",
   "metadata": {},
   "source": [
    "%time evaluate(reg)"
   ]
  },
  {
   "cell_type": "raw",
   "metadata": {},
   "source": [
    "Test  RMSE Score: 2415\n",
    "Train RMSE Score: 2434\n",
    "\n",
    "CPU times: user 1.52 s, sys: 720 ms, total: 2.23 s\n",
    "Wall time: 1.79 s"
   ]
  },
  {
   "cell_type": "code",
   "execution_count": 13,
   "metadata": {},
   "outputs": [],
   "source": [
    "stats.save('LassoCV', 2415, 2434, '2min 37s', '1.79 s', 'alphas=[1e-3, 1e-2, 1e-1, 1]')"
   ]
  },
  {
   "cell_type": "markdown",
   "metadata": {},
   "source": [
    "### LightGBM"
   ]
  },
  {
   "cell_type": "markdown",
   "metadata": {},
   "source": [
    "Кодируем категориальные признаки и подготовим выборки для градиентного бустинга."
   ]
  },
  {
   "cell_type": "code",
   "execution_count": 14,
   "metadata": {},
   "outputs": [],
   "source": [
    "df_labeled = df.copy()\n",
    "\n",
    "for cat in categorical:\n",
    "    df_labeled[cat] = df_labeled[cat].astype('category').cat.codes\n",
    "\n",
    "X = df_labeled.drop(target, axis=1)\n",
    "y = df_labeled[target]\n",
    "\n",
    "X_train, X_test, y_train, y_test = train_test_split(X, y, random_state=42)\n",
    "\n",
    "train_dataset = lgb.Dataset(X_train, y_train, feature_name=X.columns.tolist(), categorical_feature=categorical)\n",
    "test_dataset = lgb.Dataset(X_test, y_test, feature_name=X.columns.tolist(), categorical_feature=categorical)"
   ]
  },
  {
   "cell_type": "markdown",
   "metadata": {},
   "source": [
    "**I. значения по-умолчанию: метод gbdt, 100 деревьев**"
   ]
  },
  {
   "cell_type": "raw",
   "metadata": {},
   "source": [
    "params = dict(\n",
    "    objective='regression',\n",
    "    seed=42,\n",
    "    boosting='gbdt'\n",
    ")\n",
    "\n",
    "%time booster = lgb.train(params, \\\n",
    "                    train_set=train_dataset, valid_sets=(test_dataset,), \\\n",
    "                    feature_name=X.columns.tolist(), categorical_feature=categorical, \\\n",
    "                    num_boost_round=100, verbose_eval=False)"
   ]
  },
  {
   "cell_type": "raw",
   "metadata": {},
   "source": [
    "CPU times: user 2.69 s, sys: 20.7 ms, total: 2.71 s\n",
    "Wall time: 1.36 s"
   ]
  },
  {
   "cell_type": "raw",
   "metadata": {},
   "source": [
    "%time evaluate(booster)"
   ]
  },
  {
   "cell_type": "raw",
   "metadata": {},
   "source": [
    "Test  RMSE Score: 1565\n",
    "Train RMSE Score: 1542 \n",
    "\n",
    "CPU times: user 2.95 s, sys: 30.1 ms, total: 2.98 s\n",
    "Wall time: 1.5 s"
   ]
  },
  {
   "cell_type": "code",
   "execution_count": 15,
   "metadata": {},
   "outputs": [],
   "source": [
    "stats.save('LightGBM', 1565, 1542, '1.36 s', '1.5 s', 'gbdt, num_boost_round=100')"
   ]
  },
  {
   "cell_type": "markdown",
   "metadata": {},
   "source": [
    "**II. метод gbdt, 1000 деревьев (переобучение)**"
   ]
  },
  {
   "cell_type": "raw",
   "metadata": {},
   "source": [
    "params = dict(\n",
    "    objective='regression',\n",
    "    seed=42,\n",
    "    boosting='gbdt'\n",
    ")\n",
    "\n",
    "%time booster = lgb.train(params, \\\n",
    "                    train_set=train_dataset, valid_sets=(test_dataset,), \\\n",
    "                    feature_name=X.columns.tolist(), categorical_feature=categorical, \\\n",
    "                    num_boost_round=1000, verbose_eval=False)"
   ]
  },
  {
   "cell_type": "raw",
   "metadata": {},
   "source": [
    "CPU times: user 15.7 s, sys: 144 ms, total: 15.9 s\n",
    "Wall time: 8.13 s"
   ]
  },
  {
   "cell_type": "raw",
   "metadata": {},
   "source": [
    "%time evaluate(booster)"
   ]
  },
  {
   "cell_type": "raw",
   "metadata": {},
   "source": [
    "Test  RMSE Score: 1475\n",
    "Train RMSE Score: 1307 \n",
    "\n",
    "CPU times: user 21.1 s, sys: 87.7 ms, total: 21.2 s\n",
    "Wall time: 10.7 s"
   ]
  },
  {
   "cell_type": "code",
   "execution_count": 16,
   "metadata": {},
   "outputs": [],
   "source": [
    "stats.save('LightGBM', 1475, 1307, '8.13 s', '10.7 s', 'gbdt, num_boost_round=1000')"
   ]
  },
  {
   "cell_type": "markdown",
   "metadata": {},
   "source": [
    "**III. метод dart, 1000 деревьев**"
   ]
  },
  {
   "cell_type": "raw",
   "metadata": {},
   "source": [
    "params = dict(\n",
    "    objective='regression',\n",
    "    seed=42,\n",
    "    boosting='dart'\n",
    ")\n",
    "\n",
    "%time booster = lgb.train(params, \\\n",
    "                    train_set=train_dataset, valid_sets=(test_dataset,), \\\n",
    "                    feature_name=X.columns.tolist(), categorical_feature=categorical, \\\n",
    "                    num_boost_round=1000, verbose_eval=False)"
   ]
  },
  {
   "cell_type": "raw",
   "metadata": {},
   "source": [
    "CPU times: user 9min 30s, sys: 2.43 s, total: 9min 32s\n",
    "Wall time: 4min 53s"
   ]
  },
  {
   "cell_type": "raw",
   "metadata": {},
   "source": [
    "%time evaluate(booster)"
   ]
  },
  {
   "cell_type": "raw",
   "metadata": {},
   "source": [
    "Test  RMSE Score: 1491\n",
    "Train RMSE Score: 1428 \n",
    "\n",
    "CPU times: user 33.1 s, sys: 155 ms, total: 33.2 s\n",
    "Wall time: 17 s"
   ]
  },
  {
   "cell_type": "code",
   "execution_count": 17,
   "metadata": {},
   "outputs": [],
   "source": [
    "stats.save('LightGBM', 1491, 1428, '4min 53s', '17 s', 'dart, num_boost_round=1000')"
   ]
  },
  {
   "cell_type": "markdown",
   "metadata": {},
   "source": [
    "## Анализ моделей"
   ]
  },
  {
   "cell_type": "code",
   "execution_count": 18,
   "metadata": {},
   "outputs": [
    {
     "data": {
      "text/html": [
       "<div>\n",
       "<style scoped>\n",
       "    .dataframe tbody tr th:only-of-type {\n",
       "        vertical-align: middle;\n",
       "    }\n",
       "\n",
       "    .dataframe tbody tr th {\n",
       "        vertical-align: top;\n",
       "    }\n",
       "\n",
       "    .dataframe thead th {\n",
       "        text-align: right;\n",
       "    }\n",
       "</style>\n",
       "<table border=\"1\" class=\"dataframe\">\n",
       "  <thead>\n",
       "    <tr style=\"text-align: right;\">\n",
       "      <th></th>\n",
       "      <th>model</th>\n",
       "      <th>rmse_test</th>\n",
       "      <th>rmse_train</th>\n",
       "      <th>fit_time</th>\n",
       "      <th>predict_time</th>\n",
       "      <th>parameters</th>\n",
       "    </tr>\n",
       "  </thead>\n",
       "  <tbody>\n",
       "    <tr>\n",
       "      <th>4</th>\n",
       "      <td>LightGBM</td>\n",
       "      <td>1475</td>\n",
       "      <td>1307</td>\n",
       "      <td>8.13 s</td>\n",
       "      <td>10.7 s</td>\n",
       "      <td>gbdt, num_boost_round=1000</td>\n",
       "    </tr>\n",
       "    <tr>\n",
       "      <th>5</th>\n",
       "      <td>LightGBM</td>\n",
       "      <td>1491</td>\n",
       "      <td>1428</td>\n",
       "      <td>4min 53s</td>\n",
       "      <td>17 s</td>\n",
       "      <td>dart, num_boost_round=1000</td>\n",
       "    </tr>\n",
       "    <tr>\n",
       "      <th>3</th>\n",
       "      <td>LightGBM</td>\n",
       "      <td>1565</td>\n",
       "      <td>1542</td>\n",
       "      <td>1.36 s</td>\n",
       "      <td>1.5 s</td>\n",
       "      <td>gbdt, num_boost_round=100</td>\n",
       "    </tr>\n",
       "    <tr>\n",
       "      <th>1</th>\n",
       "      <td>RidgeCV</td>\n",
       "      <td>2415</td>\n",
       "      <td>2434</td>\n",
       "      <td>16.4 s</td>\n",
       "      <td>1.81 s</td>\n",
       "      <td>alphas=[1e-3, 1e-2, 1e-1, 1]</td>\n",
       "    </tr>\n",
       "    <tr>\n",
       "      <th>2</th>\n",
       "      <td>LassoCV</td>\n",
       "      <td>2415</td>\n",
       "      <td>2434</td>\n",
       "      <td>2min 37s</td>\n",
       "      <td>1.79 s</td>\n",
       "      <td>alphas=[1e-3, 1e-2, 1e-1, 1]</td>\n",
       "    </tr>\n",
       "    <tr>\n",
       "      <th>0</th>\n",
       "      <td>DummyRegressor</td>\n",
       "      <td>4558</td>\n",
       "      <td>4567</td>\n",
       "      <td>1.16 ms</td>\n",
       "      <td>6.7 ms</td>\n",
       "      <td>strategy=\"mean\"</td>\n",
       "    </tr>\n",
       "  </tbody>\n",
       "</table>\n",
       "</div>"
      ],
      "text/plain": [
       "            model  rmse_test  rmse_train  fit_time predict_time  \\\n",
       "4        LightGBM       1475        1307    8.13 s       10.7 s   \n",
       "5        LightGBM       1491        1428  4min 53s         17 s   \n",
       "3        LightGBM       1565        1542    1.36 s        1.5 s   \n",
       "1         RidgeCV       2415        2434    16.4 s       1.81 s   \n",
       "2         LassoCV       2415        2434  2min 37s       1.79 s   \n",
       "0  DummyRegressor       4558        4567   1.16 ms       6.7 ms   \n",
       "\n",
       "                     parameters  \n",
       "4    gbdt, num_boost_round=1000  \n",
       "5    dart, num_boost_round=1000  \n",
       "3     gbdt, num_boost_round=100  \n",
       "1  alphas=[1e-3, 1e-2, 1e-1, 1]  \n",
       "2  alphas=[1e-3, 1e-2, 1e-1, 1]  \n",
       "0               strategy=\"mean\"  "
      ]
     },
     "metadata": {},
     "output_type": "display_data"
    }
   ],
   "source": [
    "stats.display()"
   ]
  },
  {
   "cell_type": "markdown",
   "metadata": {},
   "source": [
    "Для сравнения с градиентным бустингом я взял легковесные и быстрые линейные модели с L1 и L2 регуляризацией. Чтобы обозначить порог полностью случайного предсказания добавил Dummy Regressor.\n",
    "\n",
    "Лучший результат в эксперименте показал градиентный бустинг. Метод демонстрирует существенный прирост качества уже с настройками по-умолчанию. Как и всегда, немаловажную роль играет очистка и подготовка данных.\n",
    "\n",
    "Перебор параметров из документации фреймворка не дал значимого прироста качества и в основном приводил к переобучению. В тетради оставлены 3 самых интересных, на мой взгляд, прохода."
   ]
  }
 ],
 "metadata": {
  "kernelspec": {
   "display_name": "Python 3",
   "language": "python",
   "name": "python3"
  },
  "language_info": {
   "codemirror_mode": {
    "name": "ipython",
    "version": 3
   },
   "file_extension": ".py",
   "mimetype": "text/x-python",
   "name": "python",
   "nbconvert_exporter": "python",
   "pygments_lexer": "ipython3",
   "version": "3.8.10"
  },
  "toc": {
   "base_numbering": 1,
   "nav_menu": {},
   "number_sections": true,
   "sideBar": true,
   "skip_h1_title": true,
   "title_cell": "Table of Contents",
   "title_sidebar": "Contents",
   "toc_cell": false,
   "toc_position": {},
   "toc_section_display": true,
   "toc_window_display": false
  }
 },
 "nbformat": 4,
 "nbformat_minor": 2
}
