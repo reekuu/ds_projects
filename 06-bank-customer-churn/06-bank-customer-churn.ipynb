{
 "cells": [
  {
   "cell_type": "markdown",
   "id": "233982f6",
   "metadata": {},
   "source": [
    "# Отток клиентов"
   ]
  },
  {
   "cell_type": "markdown",
   "id": "1f4dd296",
   "metadata": {},
   "source": [
    "**Описание проекта**\n",
    "\n",
    "Из «Бета-Банка» стали уходить клиенты. Каждый месяц. Немного, но заметно. Банковские маркетологи посчитали: сохранять текущих клиентов дешевле, чем привлекать новых.\n",
    "\n",
    "Нужно спрогнозировать, уйдёт клиент из банка в ближайшее время или нет. Вам предоставлены исторические данные о поведении клиентов и расторжении договоров с банком.\n",
    "\n",
    "Постройте модель с предельно большим значением F1-меры. Чтобы сдать проект успешно, нужно довести метрику до 0.59. Проверьте F1-меру на тестовой выборке самостоятельно.\n",
    "\n",
    "Дополнительно измеряйте AUC-ROC, сравнивайте её значение с F1-мерой.\n",
    "\n",
    "Источник данных: [https://www.kaggle.com/barelydedicated/bank-customer-churn-modeling](https://www.kaggle.com/barelydedicated/bank-customer-churn-modeling)"
   ]
  },
  {
   "cell_type": "markdown",
   "id": "a9bec0f7",
   "metadata": {},
   "source": [
    "**Инструкция по выполнению проекта**\n",
    "\n",
    "1. Загрузите и подготовьте данные. Поясните порядок действий.\n",
    "\n",
    "\n",
    "2. Исследуйте баланс классов, обучите модель без учёта дисбаланса. Кратко опишите выводы.\n",
    "\n",
    "\n",
    "3. Улучшите качество модели, учитывая дисбаланс классов. Обучите разные модели и найдите лучшую. Кратко опишите выводы.\n",
    "\n",
    "\n",
    "4. Проведите финальное тестирование."
   ]
  },
  {
   "cell_type": "markdown",
   "id": "bcfb3b32",
   "metadata": {},
   "source": [
    "**Описание данных**\n",
    "\n",
    "Признаки:\n",
    "* `RowNumber` — индекс строки в данных\n",
    "\n",
    "* `CustomerId` — уникальный идентификатор клиента\n",
    "* `Surname` — фамилия\n",
    "* `CreditScore` — кредитный рейтинг\n",
    "* `Geography` — страна проживания\n",
    "* `Gender` — пол\n",
    "* `Age` — возраст\n",
    "* `Tenure` — сколько лет человек является клиентом банка\n",
    "* `Balance` — баланс на счёте\n",
    "* `NumOfProducts` — количество продуктов банка, используемых клиентом\n",
    "* `HasCrCard` — наличие кредитной карты\n",
    "* `IsActiveMember` — активность клиента\n",
    "* `EstimatedSalary` — предполагаемая зарплата\n",
    "\n",
    "**Целевой признак**\n",
    "* `Exited` — факт ухода клиента"
   ]
  },
  {
   "cell_type": "markdown",
   "id": "58a86997",
   "metadata": {},
   "source": [
    "<h1>План проекта<span class=\"tocSkip\"></span></h1>\n",
    "<div class=\"toc\"><ul class=\"toc-item\"><li><span><a href=\"#Введение\" data-toc-modified-id=\"Введение-1\"><span class=\"toc-item-num\">1&nbsp;&nbsp;</span>Введение</a></span><ul class=\"toc-item\"><li><span><a href=\"#Импорт-библиотек\" data-toc-modified-id=\"Импорт-библиотек-1.1\"><span class=\"toc-item-num\">1.1&nbsp;&nbsp;</span>Импорт библиотек</a></span></li><li><span><a href=\"#Импорт-датасета\" data-toc-modified-id=\"Импорт-датасета-1.2\"><span class=\"toc-item-num\">1.2&nbsp;&nbsp;</span>Импорт датасета</a></span></li><li><span><a href=\"#Разведочный-анализ-данных\" data-toc-modified-id=\"Разведочный-анализ-данных-1.3\"><span class=\"toc-item-num\">1.3&nbsp;&nbsp;</span>Разведочный анализ данных</a></span></li><li><span><a href=\"#Pandas-profiling-(EDA)\" data-toc-modified-id=\"Pandas-profiling-(EDA)-1.4\"><span class=\"toc-item-num\">1.4&nbsp;&nbsp;</span>Pandas profiling (EDA)</a></span></li><li><span><a href=\"#Обработка-пропусков\" data-toc-modified-id=\"Обработка-пропусков-1.5\"><span class=\"toc-item-num\">1.5&nbsp;&nbsp;</span>Обработка пропусков</a></span></li><li><span><a href=\"#Выделение-признаков\" data-toc-modified-id=\"Выделение-признаков-1.6\"><span class=\"toc-item-num\">1.6&nbsp;&nbsp;</span>Выделение признаков</a></span></li><li><span><a href=\"#Кодирование-признаков\" data-toc-modified-id=\"Кодирование-признаков-1.7\"><span class=\"toc-item-num\">1.7&nbsp;&nbsp;</span>Кодирование признаков</a></span></li><li><span><a href=\"#Разделение-на-выборки\" data-toc-modified-id=\"Разделение-на-выборки-1.8\"><span class=\"toc-item-num\">1.8&nbsp;&nbsp;</span>Разделение на выборки</a></span></li></ul></li><li><span><a href=\"#Исследование-задачи\" data-toc-modified-id=\"Исследование-задачи-2\"><span class=\"toc-item-num\">2&nbsp;&nbsp;</span>Исследование задачи</a></span><ul class=\"toc-item\"><li><span><a href=\"#Баланс-классов\" data-toc-modified-id=\"Баланс-классов-2.1\"><span class=\"toc-item-num\">2.1&nbsp;&nbsp;</span>Баланс классов</a></span></li><li><span><a href=\"#Обучение-baseline-модели\" data-toc-modified-id=\"Обучение-baseline-модели-2.2\"><span class=\"toc-item-num\">2.2&nbsp;&nbsp;</span>Обучение baseline модели</a></span></li><li><span><a href=\"#Исследование-важности-признаков\" data-toc-modified-id=\"Исследование-важности-признаков-2.3\"><span class=\"toc-item-num\">2.3&nbsp;&nbsp;</span>Исследование важности признаков</a></span></li></ul></li><li><span><a href=\"#Борьба-с-дисбалансом\" data-toc-modified-id=\"Борьба-с-дисбалансом-3\"><span class=\"toc-item-num\">3&nbsp;&nbsp;</span>Борьба с дисбалансом</a></span></li><li><span><a href=\"#Тестирование-модели\" data-toc-modified-id=\"Тестирование-модели-4\"><span class=\"toc-item-num\">4&nbsp;&nbsp;</span>Тестирование модели</a></span></li></ul></div>"
   ]
  },
  {
   "cell_type": "markdown",
   "id": "1bdc66b5",
   "metadata": {},
   "source": [
    "## Введение"
   ]
  },
  {
   "cell_type": "markdown",
   "id": "385e0b55",
   "metadata": {},
   "source": [
    "### Импорт библиотек"
   ]
  },
  {
   "cell_type": "code",
   "execution_count": 1,
   "id": "6b94c361",
   "metadata": {},
   "outputs": [],
   "source": [
    "# gentleman's set\n",
    "import pandas as pd\n",
    "import numpy as np\n",
    "import matplotlib.pyplot as plt\n",
    "import seaborn as sns\n",
    "from pandas_profiling import ProfileReport\n",
    "\n",
    "# models\n",
    "from sklearn.linear_model import LogisticRegression\n",
    "from sklearn.tree import DecisionTreeClassifier\n",
    "from sklearn.ensemble import RandomForestClassifier\n",
    "\n",
    "# metrics\n",
    "from sklearn.metrics import f1_score, roc_auc_score\n",
    "from sklearn.metrics import confusion_matrix\n",
    "\n",
    "# support\n",
    "from sklearn.model_selection import train_test_split, GridSearchCV\n",
    "from sklearn.inspection import permutation_importance\n",
    "from sklearn.preprocessing import StandardScaler\n",
    "from imblearn.pipeline import Pipeline\n",
    "\n",
    "# sampling\n",
    "from imblearn.over_sampling import RandomOverSampler \n",
    "from imblearn.under_sampling import RandomUnderSampler\n",
    "\n",
    "# display\n",
    "from IPython.display import display\n",
    "pd.set_option('max_colwidth', 400)"
   ]
  },
  {
   "cell_type": "markdown",
   "id": "e896c2e7",
   "metadata": {},
   "source": [
    "### Импорт датасета"
   ]
  },
  {
   "cell_type": "code",
   "execution_count": 2,
   "id": "1940e1b1",
   "metadata": {},
   "outputs": [],
   "source": [
    "try:  # local import\n",
    "    df = pd.read_csv('./datasets/Churn.csv', index_col='RowNumber')\n",
    "\n",
    "except:  # local import is unavailable => import from Praktikum server\n",
    "    df = pd.read_csv('/datasets/Churn.csv', index_col='RowNumber')\n",
    "\n",
    "df.index.name = None"
   ]
  },
  {
   "cell_type": "markdown",
   "id": "14b35cfe",
   "metadata": {},
   "source": [
    "### Разведочный анализ данных"
   ]
  },
  {
   "cell_type": "code",
   "execution_count": 3,
   "id": "b4f44e10",
   "metadata": {},
   "outputs": [
    {
     "data": {
      "text/html": [
       "<div>\n",
       "<style scoped>\n",
       "    .dataframe tbody tr th:only-of-type {\n",
       "        vertical-align: middle;\n",
       "    }\n",
       "\n",
       "    .dataframe tbody tr th {\n",
       "        vertical-align: top;\n",
       "    }\n",
       "\n",
       "    .dataframe thead th {\n",
       "        text-align: right;\n",
       "    }\n",
       "</style>\n",
       "<table border=\"1\" class=\"dataframe\">\n",
       "  <thead>\n",
       "    <tr style=\"text-align: right;\">\n",
       "      <th></th>\n",
       "      <th>CustomerId</th>\n",
       "      <th>Surname</th>\n",
       "      <th>CreditScore</th>\n",
       "      <th>Geography</th>\n",
       "      <th>Gender</th>\n",
       "      <th>Age</th>\n",
       "      <th>Tenure</th>\n",
       "      <th>Balance</th>\n",
       "      <th>NumOfProducts</th>\n",
       "      <th>HasCrCard</th>\n",
       "      <th>IsActiveMember</th>\n",
       "      <th>EstimatedSalary</th>\n",
       "      <th>Exited</th>\n",
       "    </tr>\n",
       "  </thead>\n",
       "  <tbody>\n",
       "    <tr>\n",
       "      <th>1</th>\n",
       "      <td>15634602</td>\n",
       "      <td>Hargrave</td>\n",
       "      <td>619</td>\n",
       "      <td>France</td>\n",
       "      <td>Female</td>\n",
       "      <td>42</td>\n",
       "      <td>2.0</td>\n",
       "      <td>0.00</td>\n",
       "      <td>1</td>\n",
       "      <td>1</td>\n",
       "      <td>1</td>\n",
       "      <td>101348.88</td>\n",
       "      <td>1</td>\n",
       "    </tr>\n",
       "    <tr>\n",
       "      <th>2</th>\n",
       "      <td>15647311</td>\n",
       "      <td>Hill</td>\n",
       "      <td>608</td>\n",
       "      <td>Spain</td>\n",
       "      <td>Female</td>\n",
       "      <td>41</td>\n",
       "      <td>1.0</td>\n",
       "      <td>83807.86</td>\n",
       "      <td>1</td>\n",
       "      <td>0</td>\n",
       "      <td>1</td>\n",
       "      <td>112542.58</td>\n",
       "      <td>0</td>\n",
       "    </tr>\n",
       "    <tr>\n",
       "      <th>3</th>\n",
       "      <td>15619304</td>\n",
       "      <td>Onio</td>\n",
       "      <td>502</td>\n",
       "      <td>France</td>\n",
       "      <td>Female</td>\n",
       "      <td>42</td>\n",
       "      <td>8.0</td>\n",
       "      <td>159660.80</td>\n",
       "      <td>3</td>\n",
       "      <td>1</td>\n",
       "      <td>0</td>\n",
       "      <td>113931.57</td>\n",
       "      <td>1</td>\n",
       "    </tr>\n",
       "    <tr>\n",
       "      <th>4</th>\n",
       "      <td>15701354</td>\n",
       "      <td>Boni</td>\n",
       "      <td>699</td>\n",
       "      <td>France</td>\n",
       "      <td>Female</td>\n",
       "      <td>39</td>\n",
       "      <td>1.0</td>\n",
       "      <td>0.00</td>\n",
       "      <td>2</td>\n",
       "      <td>0</td>\n",
       "      <td>0</td>\n",
       "      <td>93826.63</td>\n",
       "      <td>0</td>\n",
       "    </tr>\n",
       "    <tr>\n",
       "      <th>5</th>\n",
       "      <td>15737888</td>\n",
       "      <td>Mitchell</td>\n",
       "      <td>850</td>\n",
       "      <td>Spain</td>\n",
       "      <td>Female</td>\n",
       "      <td>43</td>\n",
       "      <td>2.0</td>\n",
       "      <td>125510.82</td>\n",
       "      <td>1</td>\n",
       "      <td>1</td>\n",
       "      <td>1</td>\n",
       "      <td>79084.10</td>\n",
       "      <td>0</td>\n",
       "    </tr>\n",
       "    <tr>\n",
       "      <th>6</th>\n",
       "      <td>15574012</td>\n",
       "      <td>Chu</td>\n",
       "      <td>645</td>\n",
       "      <td>Spain</td>\n",
       "      <td>Male</td>\n",
       "      <td>44</td>\n",
       "      <td>8.0</td>\n",
       "      <td>113755.78</td>\n",
       "      <td>2</td>\n",
       "      <td>1</td>\n",
       "      <td>0</td>\n",
       "      <td>149756.71</td>\n",
       "      <td>1</td>\n",
       "    </tr>\n",
       "    <tr>\n",
       "      <th>7</th>\n",
       "      <td>15592531</td>\n",
       "      <td>Bartlett</td>\n",
       "      <td>822</td>\n",
       "      <td>France</td>\n",
       "      <td>Male</td>\n",
       "      <td>50</td>\n",
       "      <td>7.0</td>\n",
       "      <td>0.00</td>\n",
       "      <td>2</td>\n",
       "      <td>1</td>\n",
       "      <td>1</td>\n",
       "      <td>10062.80</td>\n",
       "      <td>0</td>\n",
       "    </tr>\n",
       "    <tr>\n",
       "      <th>8</th>\n",
       "      <td>15656148</td>\n",
       "      <td>Obinna</td>\n",
       "      <td>376</td>\n",
       "      <td>Germany</td>\n",
       "      <td>Female</td>\n",
       "      <td>29</td>\n",
       "      <td>4.0</td>\n",
       "      <td>115046.74</td>\n",
       "      <td>4</td>\n",
       "      <td>1</td>\n",
       "      <td>0</td>\n",
       "      <td>119346.88</td>\n",
       "      <td>1</td>\n",
       "    </tr>\n",
       "    <tr>\n",
       "      <th>9</th>\n",
       "      <td>15792365</td>\n",
       "      <td>He</td>\n",
       "      <td>501</td>\n",
       "      <td>France</td>\n",
       "      <td>Male</td>\n",
       "      <td>44</td>\n",
       "      <td>4.0</td>\n",
       "      <td>142051.07</td>\n",
       "      <td>2</td>\n",
       "      <td>0</td>\n",
       "      <td>1</td>\n",
       "      <td>74940.50</td>\n",
       "      <td>0</td>\n",
       "    </tr>\n",
       "    <tr>\n",
       "      <th>10</th>\n",
       "      <td>15592389</td>\n",
       "      <td>H?</td>\n",
       "      <td>684</td>\n",
       "      <td>France</td>\n",
       "      <td>Male</td>\n",
       "      <td>27</td>\n",
       "      <td>2.0</td>\n",
       "      <td>134603.88</td>\n",
       "      <td>1</td>\n",
       "      <td>1</td>\n",
       "      <td>1</td>\n",
       "      <td>71725.73</td>\n",
       "      <td>0</td>\n",
       "    </tr>\n",
       "  </tbody>\n",
       "</table>\n",
       "</div>"
      ],
      "text/plain": [
       "    CustomerId   Surname  CreditScore Geography  Gender  Age  Tenure  \\\n",
       "1     15634602  Hargrave          619    France  Female   42     2.0   \n",
       "2     15647311      Hill          608     Spain  Female   41     1.0   \n",
       "3     15619304      Onio          502    France  Female   42     8.0   \n",
       "4     15701354      Boni          699    France  Female   39     1.0   \n",
       "5     15737888  Mitchell          850     Spain  Female   43     2.0   \n",
       "6     15574012       Chu          645     Spain    Male   44     8.0   \n",
       "7     15592531  Bartlett          822    France    Male   50     7.0   \n",
       "8     15656148    Obinna          376   Germany  Female   29     4.0   \n",
       "9     15792365        He          501    France    Male   44     4.0   \n",
       "10    15592389        H?          684    France    Male   27     2.0   \n",
       "\n",
       "      Balance  NumOfProducts  HasCrCard  IsActiveMember  EstimatedSalary  \\\n",
       "1        0.00              1          1               1        101348.88   \n",
       "2    83807.86              1          0               1        112542.58   \n",
       "3   159660.80              3          1               0        113931.57   \n",
       "4        0.00              2          0               0         93826.63   \n",
       "5   125510.82              1          1               1         79084.10   \n",
       "6   113755.78              2          1               0        149756.71   \n",
       "7        0.00              2          1               1         10062.80   \n",
       "8   115046.74              4          1               0        119346.88   \n",
       "9   142051.07              2          0               1         74940.50   \n",
       "10  134603.88              1          1               1         71725.73   \n",
       "\n",
       "    Exited  \n",
       "1        1  \n",
       "2        0  \n",
       "3        1  \n",
       "4        0  \n",
       "5        0  \n",
       "6        1  \n",
       "7        0  \n",
       "8        1  \n",
       "9        0  \n",
       "10       0  "
      ]
     },
     "metadata": {},
     "output_type": "display_data"
    },
    {
     "name": "stdout",
     "output_type": "stream",
     "text": [
      "<class 'pandas.core.frame.DataFrame'>\n",
      "Int64Index: 10000 entries, 1 to 10000\n",
      "Data columns (total 13 columns):\n",
      " #   Column           Non-Null Count  Dtype  \n",
      "---  ------           --------------  -----  \n",
      " 0   CustomerId       10000 non-null  int64  \n",
      " 1   Surname          10000 non-null  object \n",
      " 2   CreditScore      10000 non-null  int64  \n",
      " 3   Geography        10000 non-null  object \n",
      " 4   Gender           10000 non-null  object \n",
      " 5   Age              10000 non-null  int64  \n",
      " 6   Tenure           9091 non-null   float64\n",
      " 7   Balance          10000 non-null  float64\n",
      " 8   NumOfProducts    10000 non-null  int64  \n",
      " 9   HasCrCard        10000 non-null  int64  \n",
      " 10  IsActiveMember   10000 non-null  int64  \n",
      " 11  EstimatedSalary  10000 non-null  float64\n",
      " 12  Exited           10000 non-null  int64  \n",
      "dtypes: float64(3), int64(7), object(3)\n",
      "memory usage: 1.1+ MB\n"
     ]
    }
   ],
   "source": [
    "display(df.head(10))\n",
    "df.info()"
   ]
  },
  {
   "cell_type": "markdown",
   "id": "b3765aec",
   "metadata": {},
   "source": [
    "Столбец `Tenure` содержит 909 (9.1%) пропущенных значений. "
   ]
  },
  {
   "cell_type": "markdown",
   "id": "a555a04b",
   "metadata": {},
   "source": [
    "### Pandas profiling (EDA)"
   ]
  },
  {
   "cell_type": "code",
   "execution_count": 19,
   "id": "5b965900",
   "metadata": {},
   "outputs": [
    {
     "data": {
      "application/vnd.jupyter.widget-view+json": {
       "model_id": "b6ceef73dcf94323ad928c6f012ee0cd",
       "version_major": 2,
       "version_minor": 0
      },
      "text/plain": [
       "Summarize dataset:   0%|          | 0/27 [00:00<?, ?it/s]"
      ]
     },
     "metadata": {},
     "output_type": "display_data"
    },
    {
     "data": {
      "application/vnd.jupyter.widget-view+json": {
       "model_id": "58dfe21f375447ad801442839b530458",
       "version_major": 2,
       "version_minor": 0
      },
      "text/plain": [
       "Generate report structure:   0%|          | 0/1 [00:00<?, ?it/s]"
      ]
     },
     "metadata": {},
     "output_type": "display_data"
    },
    {
     "data": {
      "application/vnd.jupyter.widget-view+json": {
       "model_id": "",
       "version_major": 2,
       "version_minor": 0
      },
      "text/plain": [
       "Render widgets:   0%|          | 0/1 [00:00<?, ?it/s]"
      ]
     },
     "metadata": {},
     "output_type": "display_data"
    },
    {
     "data": {
      "application/vnd.jupyter.widget-view+json": {
       "model_id": "1ed4f3b2dc294defb1b083795793c255",
       "version_major": 2,
       "version_minor": 0
      },
      "text/plain": [
       "VBox(children=(Tab(children=(Tab(children=(GridBox(children=(VBox(children=(GridspecLayout(children=(HTML(valu…"
      ]
     },
     "metadata": {},
     "output_type": "display_data"
    }
   ],
   "source": [
    "profile = ProfileReport(df, title=\"Pandas Profiling Report\", explorative=True)\n",
    "profile.to_widgets()"
   ]
  },
  {
   "cell_type": "markdown",
   "id": "1ced3358",
   "metadata": {},
   "source": [
    "<div class=\"alert alert-block alert-info\">\n",
    "    \n",
    "**Комментарий**\n",
    "\n",
    "EDA проведён в Pandas Profiling. Глобальных проблем не обнаружено.\n",
    "    \n",
    "</div>"
   ]
  },
  {
   "cell_type": "markdown",
   "id": "39b6f97d",
   "metadata": {},
   "source": [
    "### Обработка пропусков"
   ]
  },
  {
   "cell_type": "code",
   "execution_count": 4,
   "id": "03c7a8fd",
   "metadata": {},
   "outputs": [],
   "source": [
    "def fill_random(df, inplace=False):\n",
    "    '''\n",
    "    Fills NaN with values picked from the column itself.\n",
    "    Using np.random.choice\n",
    "    '''\n",
    "    nan_count = df.isna().sum()\n",
    "    data = np.random.choice(df[df.notnull()], nan_count)\n",
    "    index = df[df.isna()].index\n",
    "\n",
    "    return df.fillna(pd.Series(data, index), inplace=inplace)"
   ]
  },
  {
   "cell_type": "code",
   "execution_count": 5,
   "id": "4228857e",
   "metadata": {},
   "outputs": [],
   "source": [
    "fill_random(df['Tenure'], inplace=True)"
   ]
  },
  {
   "cell_type": "markdown",
   "id": "1409f55b",
   "metadata": {},
   "source": [
    "Пропуски в `Tenure` заполнены псевослучайно выбранными значениями из того же столбца. Плюс метода в том, что он меньше нарушает форму распределения, в сравнении с другими наивными способами. Минус в том, что метод создаёт дополнительный шум, однако это хорошая альтернатива вертикальному или горизонтальному удалению."
   ]
  },
  {
   "cell_type": "markdown",
   "id": "5f3d6ac8",
   "metadata": {},
   "source": [
    "### Выделение признаков"
   ]
  },
  {
   "cell_type": "code",
   "execution_count": 6,
   "id": "ae5863e7",
   "metadata": {},
   "outputs": [],
   "source": [
    "X = df.drop(['CustomerId', 'Surname', 'Exited'], axis=1)  # features\n",
    "y = df['Exited']  # target"
   ]
  },
  {
   "cell_type": "markdown",
   "id": "3b31f205",
   "metadata": {},
   "source": [
    "### Кодирование признаков"
   ]
  },
  {
   "cell_type": "code",
   "execution_count": 7,
   "id": "9c9539cc",
   "metadata": {},
   "outputs": [],
   "source": [
    "categorial = ['Geography', 'Gender']\n",
    "X = pd.get_dummies(X, columns=categorial, drop_first=True)"
   ]
  },
  {
   "cell_type": "markdown",
   "id": "0a8b65e2",
   "metadata": {},
   "source": [
    "Признаки с object-значениями необходимо привести к численному виду. Прямое кодирование подходит для всех используемых далее моделей. Использование универсального метода экономит время и не содаёт много шума в наших условиях. Для уменьшения колиичества степеней свободы первый признак дропается."
   ]
  },
  {
   "cell_type": "markdown",
   "id": "d58331ef",
   "metadata": {},
   "source": [
    "### Разделение на выборки"
   ]
  },
  {
   "cell_type": "code",
   "execution_count": 8,
   "id": "3ea1b002",
   "metadata": {},
   "outputs": [],
   "source": [
    "X_train, X_test, y_train, y_test = train_test_split(\n",
    "    X, y,\n",
    "    test_size=0.2,\n",
    "    random_state=42,\n",
    "    stratify=y\n",
    ")"
   ]
  },
  {
   "cell_type": "markdown",
   "id": "352b7e99",
   "metadata": {},
   "source": [
    "Промежуточная валидация выполняется методом кросс-валидации. Тестовая выборка необходима для оценки финального результата."
   ]
  },
  {
   "cell_type": "markdown",
   "id": "5b3b9798",
   "metadata": {},
   "source": [
    "## Исследование задачи"
   ]
  },
  {
   "cell_type": "code",
   "execution_count": 9,
   "id": "89849427",
   "metadata": {},
   "outputs": [],
   "source": [
    "def cls_balance(feature):\n",
    "    '''\n",
    "    Displays target class balance using Seaborn countplot.\n",
    "    '''\n",
    "    sns.countplot(x=feature)\n",
    "    plt.title('Баланс классов целевого признака')\n",
    "    plt.xlabel('Значение класса')\n",
    "    plt.ylabel('Частота класса')\n",
    "\n",
    "    val = feature.value_counts()\n",
    "    val_n = feature.value_counts(normalize=True)\n",
    "    for i in range(2):\n",
    "        plt.text(i, val[0]*0.1, '{} / {:.2%}'.format(val[i], val_n[i]),\n",
    "                 ha='center', c='white', size='large', weight='bold')\n",
    "    plt.show()"
   ]
  },
  {
   "cell_type": "code",
   "execution_count": 10,
   "id": "88ceb23e",
   "metadata": {},
   "outputs": [],
   "source": [
    "def permutation_plot(clf, X, y, scoring='f1', random_state=42):\n",
    "    '''\n",
    "    Assesses the estimated impact of each feature\n",
    "    from X_train on the quality of the fitted classifier.\n",
    "    '''\n",
    "    perm_importance = permutation_importance(clf, X=X, y=y, scoring=scoring, random_state=random_state)\n",
    "    sorted_idx = perm_importance.importances_mean.argsort()\n",
    "\n",
    "    plt.figure(figsize=(14, 6))\n",
    "    sns.barplot(x=perm_importance.importances_mean[sorted_idx], y=X.columns[sorted_idx], orient='h')\n",
    "    plt.xlabel(\"Permutation Importance\")\n",
    "    plt.ylabel(\"Название столбца\")\n",
    "    plt.title('Влияние перетасовки признака на качество модели')\n",
    "    plt.axvline(0, ls='--')\n",
    "    plt.show()"
   ]
  },
  {
   "cell_type": "code",
   "execution_count": 11,
   "id": "3eb94ad7",
   "metadata": {},
   "outputs": [],
   "source": [
    "def cf_matrix(clf):\n",
    "    '''\n",
    "    Custom interface for the Confusion Matrix output.\n",
    "    '''\n",
    "    plt.figure(figsize=(7, 6))\n",
    "\n",
    "    cf_matrix = confusion_matrix(y_test, clf.predict(X_test))\n",
    "\n",
    "    group_names = ['True Neg', 'False Pos', 'False Neg', 'True Pos']\n",
    "\n",
    "    group_counts = ['{0:0.0f}'.format(value) for value in\n",
    "                    cf_matrix.flatten()]\n",
    "\n",
    "    group_percentages = ['{0:.2%}'.format(value) for value in\n",
    "                         cf_matrix.flatten()/np.sum(cf_matrix)]\n",
    "\n",
    "    labels = [f\"{v1}\\n{v2}\\n{v3}\" for v1, v2, v3 in\n",
    "              zip(group_names, group_counts, group_percentages)]\n",
    "\n",
    "    labels = np.asarray(labels).reshape(2, 2)\n",
    "    sns.heatmap(cf_matrix, annot=labels, fmt='', cmap='Blues')\n",
    "      \n",
    "    plt.title('Матрица ошибок предсказаний целевого признака')\n",
    "    plt.show()"
   ]
  },
  {
   "cell_type": "code",
   "execution_count": 12,
   "id": "51c45285",
   "metadata": {},
   "outputs": [],
   "source": [
    "def clf(names, samplers, classifiers, parameters, log=True, perm=False, test=False):\n",
    "    '''\n",
    "    Multifunctional bicycle (Pipeline interface) with GridSearchCV,\n",
    "    StandardScaler and output interfaces.\n",
    "    '''\n",
    "    for name, sampler, classifier, params in zip(names, samplers, classifiers, parameters):\n",
    "\n",
    "        clf_pipe = Pipeline(\n",
    "            steps=[\n",
    "                ('scaler', StandardScaler()),\n",
    "                ('sampler', sampler),\n",
    "                ('clf', classifier)\n",
    "            ])\n",
    "        \n",
    "        scoring = ['f1', 'roc_auc']\n",
    "\n",
    "        gs_clf = GridSearchCV(clf_pipe, param_grid=params, n_jobs=-1, scoring=scoring, refit='f1')\n",
    "        clf = gs_clf.fit(X_train, y_train)\n",
    "\n",
    "        if not test:\n",
    "            score_f1 = float(clf.best_score_)\n",
    "            idx = [*clf.cv_results_['rank_test_f1']].index(1)\n",
    "            score_auc = clf.cv_results_['mean_test_roc_auc'][idx]\n",
    "        else:\n",
    "            score_f1 = clf.score(X_test, y_test)\n",
    "            score_auc = roc_auc_score(y_test, clf.predict_proba(X_test)[:, 1])\n",
    "\n",
    "        if sampler == 'passthrough':\n",
    "            sampler = None\n",
    "\n",
    "        if log:\n",
    "            stats['name'].append(name)\n",
    "            stats['sampler'].append(sampler)\n",
    "            stats['f1_score'].append(score_f1)\n",
    "            stats['roc_auc_score'].append(score_auc)\n",
    "            stats['best_params_'].append(clf.best_params_)\n",
    "        else:\n",
    "            print('{} score_f1: {:.6}, roc_auc_score {:.6}'.format(name, score_f1, score_auc))\n",
    "\n",
    "        if perm:\n",
    "            permutation_plot(clf, X_train, y_train)\n",
    "        \n",
    "        if test:\n",
    "            cf_matrix(clf)\n",
    "            return clf"
   ]
  },
  {
   "cell_type": "markdown",
   "id": "2cdfc6ad",
   "metadata": {},
   "source": [
    "### Баланс классов"
   ]
  },
  {
   "cell_type": "code",
   "execution_count": 13,
   "id": "ba4b4489",
   "metadata": {},
   "outputs": [
    {
     "data": {
      "image/png": "[encoded data removed]",
      "text/plain": [
       "<Figure size 432x288 with 1 Axes>"
      ]
     },
     "metadata": {
      "needs_background": "light"
     },
     "output_type": "display_data"
    }
   ],
   "source": [
    "cls_balance(y)"
   ]
  },
  {
   "cell_type": "markdown",
   "id": "77cd1551",
   "metadata": {},
   "source": [
    "> Баланс смещён в пользу отрицательного класса, в соотношении 4 к 1. Смещенный баланс оказывает влияние на качество работы логистической регрессии. По тому, к какому классу смещён баланс относительно целевого класса принимают решение об используемых метриках качества."
   ]
  },
  {
   "cell_type": "markdown",
   "id": "6567cc5c",
   "metadata": {},
   "source": [
    "### Обучение baseline модели"
   ]
  },
  {
   "cell_type": "code",
   "execution_count": 14,
   "id": "ba7b970a",
   "metadata": {
    "scrolled": true
   },
   "outputs": [
    {
     "data": {
      "text/html": [
       "<div>\n",
       "<style scoped>\n",
       "    .dataframe tbody tr th:only-of-type {\n",
       "        vertical-align: middle;\n",
       "    }\n",
       "\n",
       "    .dataframe tbody tr th {\n",
       "        vertical-align: top;\n",
       "    }\n",
       "\n",
       "    .dataframe thead th {\n",
       "        text-align: right;\n",
       "    }\n",
       "</style>\n",
       "<table border=\"1\" class=\"dataframe\">\n",
       "  <thead>\n",
       "    <tr style=\"text-align: right;\">\n",
       "      <th></th>\n",
       "      <th>name</th>\n",
       "      <th>sampler</th>\n",
       "      <th>f1_score</th>\n",
       "      <th>roc_auc_score</th>\n",
       "      <th>best_params_</th>\n",
       "    </tr>\n",
       "  </thead>\n",
       "  <tbody>\n",
       "    <tr>\n",
       "      <th>2</th>\n",
       "      <td>Random Forest</td>\n",
       "      <td>None</td>\n",
       "      <td>0.578214</td>\n",
       "      <td>0.854239</td>\n",
       "      <td>{'clf__class_weight': None}</td>\n",
       "    </tr>\n",
       "    <tr>\n",
       "      <th>1</th>\n",
       "      <td>Decision Tree</td>\n",
       "      <td>None</td>\n",
       "      <td>0.497874</td>\n",
       "      <td>0.687003</td>\n",
       "      <td>{'clf__class_weight': None}</td>\n",
       "    </tr>\n",
       "    <tr>\n",
       "      <th>0</th>\n",
       "      <td>Logistic Regression</td>\n",
       "      <td>None</td>\n",
       "      <td>0.316234</td>\n",
       "      <td>0.763421</td>\n",
       "      <td>{'clf__class_weight': None}</td>\n",
       "    </tr>\n",
       "  </tbody>\n",
       "</table>\n",
       "</div>"
      ],
      "text/plain": [
       "                  name sampler  f1_score roc_auc_score  \\\n",
       "2        Random Forest    None  0.578214      0.854239   \n",
       "1        Decision Tree    None  0.497874      0.687003   \n",
       "0  Logistic Regression    None  0.316234      0.763421   \n",
       "\n",
       "                  best_params_  \n",
       "2  {'clf__class_weight': None}  \n",
       "1  {'clf__class_weight': None}  \n",
       "0  {'clf__class_weight': None}  "
      ]
     },
     "metadata": {},
     "output_type": "display_data"
    }
   ],
   "source": [
    "stats = {\n",
    "    'name': [],\n",
    "    'sampler': [],\n",
    "    'f1_score': [],\n",
    "    'roc_auc_score': [],\n",
    "    'best_params_': [],\n",
    "}\n",
    "\n",
    "names = [\n",
    "    'Logistic Regression',\n",
    "    'Decision Tree',\n",
    "    'Random Forest',\n",
    "]\n",
    "\n",
    "samplers = [\n",
    "    *['passthrough']*3,\n",
    "]\n",
    "\n",
    "classifiers = [\n",
    "    LogisticRegression(random_state=42),\n",
    "    DecisionTreeClassifier(random_state=42),\n",
    "    RandomForestClassifier(random_state=42),\n",
    "]\n",
    "\n",
    "parameters = [\n",
    "    *[{'clf__class_weight': [None]}]*3,\n",
    "]\n",
    "\n",
    "clf(names, samplers, classifiers, parameters)\n",
    "display(pd.DataFrame\n",
    "        .from_dict(stats, orient='index').transpose()\n",
    "        .sort_values(by='f1_score', ascending=False))"
   ]
  },
  {
   "cell_type": "markdown",
   "id": "811d1225",
   "metadata": {},
   "source": [
    "Все три алгоритма запущены с параметрами по-умолчанию. Алгоритмы с деревьями демонстрируют устойчивость к дисбалансу классов. Случайный лес выдаёт самый лучший результат. "
   ]
  },
  {
   "cell_type": "markdown",
   "id": "8035bd3a",
   "metadata": {},
   "source": [
    "### Исследование важности признаков"
   ]
  },
  {
   "cell_type": "code",
   "execution_count": 15,
   "id": "b0cef65b",
   "metadata": {},
   "outputs": [
    {
     "name": "stdout",
     "output_type": "stream",
     "text": [
      "Random Forest score_f1: 0.578214, roc_auc_score 0.854239\n"
     ]
    },
    {
     "data": {
      "image/png": "[encoded data removed]",
      "text/plain": [
       "<Figure size 1008x432 with 1 Axes>"
      ]
     },
     "metadata": {
      "needs_background": "light"
     },
     "output_type": "display_data"
    }
   ],
   "source": [
    "names = [\n",
    "    'Random Forest',\n",
    "]\n",
    "\n",
    "samplers = [\n",
    "    'passthrough',\n",
    "]\n",
    "\n",
    "classifiers = [\n",
    "    RandomForestClassifier(random_state=42),\n",
    "]\n",
    "\n",
    "parameters = [\n",
    "    {'clf__class_weight': [None]},\n",
    "]\n",
    "\n",
    "clf(names, samplers, classifiers, parameters, log=False, perm=True)"
   ]
  },
  {
   "cell_type": "markdown",
   "id": "61d4f474",
   "metadata": {},
   "source": [
    "Каждый из признаком оказывает влияние на качество предсказания. Самоё большое влияние оказывают возраст клиента, количество банковских продуктов, баланс счёта и бинарный флаг активности. Блиц-проверка показала, что удаление любого из признаков приводит к падению качества предсказания на обучающей выборке."
   ]
  },
  {
   "cell_type": "markdown",
   "id": "44eb16e0",
   "metadata": {},
   "source": [
    "## Борьба с дисбалансом"
   ]
  },
  {
   "cell_type": "raw",
   "id": "532912f6",
   "metadata": {},
   "source": [
    "# Search field for the Grid Search\n",
    "parameters = [\n",
    "    # LogisticRegression -- for 3 runs\n",
    "    *[{'clf__C': (np.logspace(-3, 3, 7)),\n",
    "       'clf__class_weight': [None]}]*2,\n",
    "\n",
    "    {'clf__C': (np.logspace(-3, 3, 7)),\n",
    "     'clf__class_weight': ['balanced']},\n",
    "\n",
    "    # DecisionTreeClassifier -- for 3 runs\n",
    "    *[{'clf__max_depth': (range(2, 14+1, 2)),\n",
    "       'clf__class_weight': [None]}]*2,\n",
    "\n",
    "    {'clf__max_depth': (range(2, 14+1, 2)),\n",
    "     'clf__class_weight': ['balanced']},\n",
    "     \n",
    "    # RandomForestClassifier -- for 3 runs\n",
    "    *[{'clf__n_estimators': (range(30, 60+1, 5)),\n",
    "       'clf__max_depth': (range(2, 14+1, 2)),\n",
    "       'clf__class_weight': [None]}]*2,\n",
    "\n",
    "    {'clf__n_estimators': (range(30, 60+1, 5)),\n",
    "     'clf__max_depth': (range(2, 14+1, 2)),\n",
    "     'clf__class_weight': ['balanced']},\n",
    "]"
   ]
  },
  {
   "cell_type": "markdown",
   "id": "17db401c",
   "metadata": {},
   "source": [
    "<div class=\"alert alert-block alert-info\">\n",
    "    \n",
    "**Комментарий**\n",
    "\n",
    "По сетке подобраны оптимальные параметры. В ячейке сверху расположен шаблон сетки. В ячейке внизу в шаблоне оставлены только оптимальные параметры. Поиск был ограничен вычислительной мощностью рабочего ноутбука. Вероятно существует набор параметров выдающий  качество лучше.\n",
    "    \n",
    "</div>"
   ]
  },
  {
   "cell_type": "code",
   "execution_count": 16,
   "id": "89800e4e",
   "metadata": {},
   "outputs": [
    {
     "data": {
      "text/html": [
       "<div>\n",
       "<style scoped>\n",
       "    .dataframe tbody tr th:only-of-type {\n",
       "        vertical-align: middle;\n",
       "    }\n",
       "\n",
       "    .dataframe tbody tr th {\n",
       "        vertical-align: top;\n",
       "    }\n",
       "\n",
       "    .dataframe thead th {\n",
       "        text-align: right;\n",
       "    }\n",
       "</style>\n",
       "<table border=\"1\" class=\"dataframe\">\n",
       "  <thead>\n",
       "    <tr style=\"text-align: right;\">\n",
       "      <th></th>\n",
       "      <th>name</th>\n",
       "      <th>sampler</th>\n",
       "      <th>f1_score</th>\n",
       "      <th>roc_auc_score</th>\n",
       "      <th>best_params_</th>\n",
       "    </tr>\n",
       "  </thead>\n",
       "  <tbody>\n",
       "    <tr>\n",
       "      <th>11</th>\n",
       "      <td>Random Forest</td>\n",
       "      <td>None</td>\n",
       "      <td>0.615526</td>\n",
       "      <td>0.85832</td>\n",
       "      <td>{'clf__class_weight': 'balanced', 'clf__max_depth': 10, 'clf__n_estimators': 55}</td>\n",
       "    </tr>\n",
       "    <tr>\n",
       "      <th>9</th>\n",
       "      <td>Random Forest</td>\n",
       "      <td>RandomOverSampler(random_state=42)</td>\n",
       "      <td>0.612968</td>\n",
       "      <td>0.857551</td>\n",
       "      <td>{'clf__class_weight': None, 'clf__max_depth': 10, 'clf__n_estimators': 55}</td>\n",
       "    </tr>\n",
       "    <tr>\n",
       "      <th>10</th>\n",
       "      <td>Random Forest</td>\n",
       "      <td>RandomUnderSampler(random_state=42)</td>\n",
       "      <td>0.598384</td>\n",
       "      <td>0.854163</td>\n",
       "      <td>{'clf__class_weight': None, 'clf__max_depth': 8, 'clf__n_estimators': 45}</td>\n",
       "    </tr>\n",
       "    <tr>\n",
       "      <th>2</th>\n",
       "      <td>Random Forest</td>\n",
       "      <td>None</td>\n",
       "      <td>0.578214</td>\n",
       "      <td>0.854239</td>\n",
       "      <td>{'clf__class_weight': None}</td>\n",
       "    </tr>\n",
       "    <tr>\n",
       "      <th>8</th>\n",
       "      <td>Decision Tree</td>\n",
       "      <td>None</td>\n",
       "      <td>0.562562</td>\n",
       "      <td>0.824197</td>\n",
       "      <td>{'clf__class_weight': 'balanced', 'clf__max_depth': 6}</td>\n",
       "    </tr>\n",
       "    <tr>\n",
       "      <th>6</th>\n",
       "      <td>Decision Tree</td>\n",
       "      <td>RandomOverSampler(random_state=42)</td>\n",
       "      <td>0.56048</td>\n",
       "      <td>0.823074</td>\n",
       "      <td>{'clf__class_weight': None, 'clf__max_depth': 6}</td>\n",
       "    </tr>\n",
       "    <tr>\n",
       "      <th>7</th>\n",
       "      <td>Decision Tree</td>\n",
       "      <td>RandomUnderSampler(random_state=42)</td>\n",
       "      <td>0.559383</td>\n",
       "      <td>0.82569</td>\n",
       "      <td>{'clf__class_weight': None, 'clf__max_depth': 6}</td>\n",
       "    </tr>\n",
       "    <tr>\n",
       "      <th>1</th>\n",
       "      <td>Decision Tree</td>\n",
       "      <td>None</td>\n",
       "      <td>0.497874</td>\n",
       "      <td>0.687003</td>\n",
       "      <td>{'clf__class_weight': None}</td>\n",
       "    </tr>\n",
       "    <tr>\n",
       "      <th>4</th>\n",
       "      <td>Logistic Regression</td>\n",
       "      <td>RandomUnderSampler(random_state=42)</td>\n",
       "      <td>0.493246</td>\n",
       "      <td>0.764965</td>\n",
       "      <td>{'clf__C': 0.1, 'clf__class_weight': None}</td>\n",
       "    </tr>\n",
       "    <tr>\n",
       "      <th>5</th>\n",
       "      <td>Logistic Regression</td>\n",
       "      <td>None</td>\n",
       "      <td>0.492179</td>\n",
       "      <td>0.765106</td>\n",
       "      <td>{'clf__C': 0.001, 'clf__class_weight': 'balanced'}</td>\n",
       "    </tr>\n",
       "    <tr>\n",
       "      <th>3</th>\n",
       "      <td>Logistic Regression</td>\n",
       "      <td>RandomOverSampler(random_state=42)</td>\n",
       "      <td>0.490704</td>\n",
       "      <td>0.765623</td>\n",
       "      <td>{'clf__C': 0.001, 'clf__class_weight': None}</td>\n",
       "    </tr>\n",
       "    <tr>\n",
       "      <th>0</th>\n",
       "      <td>Logistic Regression</td>\n",
       "      <td>None</td>\n",
       "      <td>0.316234</td>\n",
       "      <td>0.763421</td>\n",
       "      <td>{'clf__class_weight': None}</td>\n",
       "    </tr>\n",
       "  </tbody>\n",
       "</table>\n",
       "</div>"
      ],
      "text/plain": [
       "                   name                              sampler  f1_score  \\\n",
       "11        Random Forest                                 None  0.615526   \n",
       "9         Random Forest   RandomOverSampler(random_state=42)  0.612968   \n",
       "10        Random Forest  RandomUnderSampler(random_state=42)  0.598384   \n",
       "2         Random Forest                                 None  0.578214   \n",
       "8         Decision Tree                                 None  0.562562   \n",
       "6         Decision Tree   RandomOverSampler(random_state=42)   0.56048   \n",
       "7         Decision Tree  RandomUnderSampler(random_state=42)  0.559383   \n",
       "1         Decision Tree                                 None  0.497874   \n",
       "4   Logistic Regression  RandomUnderSampler(random_state=42)  0.493246   \n",
       "5   Logistic Regression                                 None  0.492179   \n",
       "3   Logistic Regression   RandomOverSampler(random_state=42)  0.490704   \n",
       "0   Logistic Regression                                 None  0.316234   \n",
       "\n",
       "   roc_auc_score  \\\n",
       "11       0.85832   \n",
       "9       0.857551   \n",
       "10      0.854163   \n",
       "2       0.854239   \n",
       "8       0.824197   \n",
       "6       0.823074   \n",
       "7        0.82569   \n",
       "1       0.687003   \n",
       "4       0.764965   \n",
       "5       0.765106   \n",
       "3       0.765623   \n",
       "0       0.763421   \n",
       "\n",
       "                                                                        best_params_  \n",
       "11  {'clf__class_weight': 'balanced', 'clf__max_depth': 10, 'clf__n_estimators': 55}  \n",
       "9         {'clf__class_weight': None, 'clf__max_depth': 10, 'clf__n_estimators': 55}  \n",
       "10         {'clf__class_weight': None, 'clf__max_depth': 8, 'clf__n_estimators': 45}  \n",
       "2                                                        {'clf__class_weight': None}  \n",
       "8                             {'clf__class_weight': 'balanced', 'clf__max_depth': 6}  \n",
       "6                                   {'clf__class_weight': None, 'clf__max_depth': 6}  \n",
       "7                                   {'clf__class_weight': None, 'clf__max_depth': 6}  \n",
       "1                                                        {'clf__class_weight': None}  \n",
       "4                                         {'clf__C': 0.1, 'clf__class_weight': None}  \n",
       "5                                 {'clf__C': 0.001, 'clf__class_weight': 'balanced'}  \n",
       "3                                       {'clf__C': 0.001, 'clf__class_weight': None}  \n",
       "0                                                        {'clf__class_weight': None}  "
      ]
     },
     "metadata": {},
     "output_type": "display_data"
    }
   ],
   "source": [
    "names = [\n",
    "    *['Logistic Regression']*3,\n",
    "    *['Decision Tree']*3,\n",
    "    *['Random Forest']*3,\n",
    "]\n",
    "\n",
    "samplers = [\n",
    "    *[RandomOverSampler(random_state=42),\n",
    "      RandomUnderSampler(random_state=42),\n",
    "      'passthrough']*3,\n",
    "]\n",
    "\n",
    "classifiers = [\n",
    "    *[LogisticRegression(random_state=42)]*3,\n",
    "    *[DecisionTreeClassifier(random_state=42)]*3,\n",
    "    *[RandomForestClassifier(random_state=42)]*3,\n",
    "]\n",
    "\n",
    "parameters = [\n",
    "    # LogisticRegression -- for 3 runs\n",
    "    {'clf__C': [0.001], 'clf__class_weight': [None]},\n",
    "    {'clf__C': [0.1], 'clf__class_weight': [None]},\n",
    "    {'clf__C': [0.001], 'clf__class_weight': ['balanced']},\n",
    "    \n",
    "    # DecisionTreeClassifier -- for 3 runs\n",
    "    {'clf__class_weight': [None], 'clf__max_depth': [6]},\n",
    "    {'clf__class_weight': [None], 'clf__max_depth': [6]},\n",
    "    {'clf__class_weight': ['balanced'], 'clf__max_depth': [6]},\n",
    "    \n",
    "    # RandomForestClassifier -- for 3 runs\n",
    "    {'clf__class_weight': [None], 'clf__max_depth': [10], 'clf__n_estimators': [55]},\n",
    "    {'clf__class_weight': [None], 'clf__max_depth': [8], 'clf__n_estimators': [45]},\n",
    "    {'clf__class_weight': ['balanced'], 'clf__max_depth': [10], 'clf__n_estimators': [55]},\n",
    "]\n",
    "\n",
    "clf(names, samplers, classifiers, parameters)\n",
    "display(pd.DataFrame\n",
    "        .from_dict(stats, orient='index').transpose()\n",
    "        .sort_values(by='f1_score', ascending=False))"
   ]
  },
  {
   "cell_type": "markdown",
   "id": "67236ca1",
   "metadata": {},
   "source": [
    "* Лучший результат показывает случайный лес, в сочетании с синтетически увеличенной выборкой по миноритарному классу.\n",
    "\n",
    "\n",
    "* В случае со случайным лесом оценка ROC-AUC увеличивается согласованно с F1-мерой, но в целом изменяется в очень небольшом интервале. Примечательно, что в случае с логистической регрессией такой согласованности нет, таким образом AUC-ROC сообщает больше информации.\n",
    "\n",
    "\n",
    "* Метод борьбы с дисбалансом играет бóльшее значение для случайного леса, чем для логистической регресии."
   ]
  },
  {
   "cell_type": "markdown",
   "id": "e64e935e",
   "metadata": {},
   "source": [
    "## Тестирование модели"
   ]
  },
  {
   "cell_type": "code",
   "execution_count": 17,
   "id": "8dfe5a5c",
   "metadata": {},
   "outputs": [
    {
     "name": "stdout",
     "output_type": "stream",
     "text": [
      "Random Forest score_f1: 0.615556, roc_auc_score 0.860364\n"
     ]
    },
    {
     "data": {
      "image/png": "[encoded data removed]",
      "text/plain": [
       "<Figure size 504x432 with 2 Axes>"
      ]
     },
     "metadata": {
      "needs_background": "light"
     },
     "output_type": "display_data"
    }
   ],
   "source": [
    "names = [\n",
    "    'Random Forest',\n",
    "]\n",
    "\n",
    "samplers = [\n",
    "    RandomOverSampler(random_state=42),\n",
    "]\n",
    "\n",
    "classifiers = [\n",
    "    RandomForestClassifier(random_state=42),\n",
    "]\n",
    "\n",
    "parameters = [\n",
    "    {'clf__class_weight': [None],\n",
    "     'clf__max_depth': [10],\n",
    "     'clf__n_estimators': [55]},\n",
    "]\n",
    "\n",
    "rf = clf(names, samplers, classifiers, parameters, log=False, test=True)"
   ]
  },
  {
   "cell_type": "markdown",
   "id": "e6d323a6",
   "metadata": {},
   "source": [
    "**Вывод**: Валидация показывает оценку F1-меры >0.59. Основная цель проекта достигнута."
   ]
  }
 ],
 "metadata": {
  "kernelspec": {
   "display_name": "Python 3",
   "language": "python",
   "name": "python3"
  },
  "language_info": {
   "codemirror_mode": {
    "name": "ipython",
    "version": 3
   },
   "file_extension": ".py",
   "mimetype": "text/x-python",
   "name": "python",
   "nbconvert_exporter": "python",
   "pygments_lexer": "ipython3",
   "version": "3.8.10"
  },
  "toc": {
   "base_numbering": 1,
   "nav_menu": {},
   "number_sections": true,
   "sideBar": true,
   "skip_h1_title": true,
   "title_cell": "План проекта",
   "title_sidebar": "Содержание",
   "toc_cell": false,
   "toc_position": {
    "height": "calc(100% - 180px)",
    "left": "10px",
    "top": "150px",
    "width": "384px"
   },
   "toc_section_display": true,
   "toc_window_display": false
  }
 },
 "nbformat": 4,
 "nbformat_minor": 5
}
