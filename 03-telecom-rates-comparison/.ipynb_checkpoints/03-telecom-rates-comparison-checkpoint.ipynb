{
 "cells": [
  {
   "cell_type": "markdown",
   "id": "a84ba910",
   "metadata": {},
   "source": [
    "# Сравнение доходности тарифов мобильного оператора"
   ]
  },
  {
   "cell_type": "markdown",
   "id": "53e2aff4",
   "metadata": {},
   "source": [
    "**Описание проекта**"
   ]
  },
  {
   "cell_type": "markdown",
   "id": "de30d13e",
   "metadata": {},
   "source": [
    "Мы выполняем анализ для компании «Мегалайн» — федерального оператора сотовой связи. Клиентам предлагают два тарифных плана: «Смарт» и «Ультра». Чтобы скорректировать рекламный бюджет, коммерческий департамент хочет понять, какой тариф приносит больше денег.\n",
    "\n",
    "Нам предстоит сделать предварительный анализ тарифов на небольшой выборке клиентов. В нашем распоряжении данные 500 пользователей «Мегалайна»: кто они, откуда, каким тарифом пользуются, сколько звонков и сообщений каждый отправил за 2018 год. Нужно проанализировать поведение клиентов и сделать вывод — какой тариф лучше."
   ]
  },
  {
   "cell_type": "markdown",
   "id": "db017501",
   "metadata": {},
   "source": [
    "**Описание тарифов**"
   ]
  },
  {
   "cell_type": "markdown",
   "id": "1fc20d0b",
   "metadata": {},
   "source": [
    "**Тариф «Смарт»**\n",
    "\n",
    "1. Ежемесячная плата: 550 рублей\n",
    "\n",
    "\n",
    "2. Включено 500 минут разговора, 50 сообщений и 15 Гб интернет-трафика\n",
    "\n",
    "\n",
    "3. Стоимость услуг сверх тарифного пакета:\n",
    "\n",
    "    * минута разговора: 3 рубля\n",
    "    \n",
    "    * сообщение: 3 рубля\n",
    "    \n",
    "    * 1 Гб интернет-трафика: 200 рублей"
   ]
  },
  {
   "cell_type": "markdown",
   "id": "3297ba07",
   "metadata": {},
   "source": [
    "**Тариф «Ультра»**\n",
    "\n",
    "1. Ежемесячная плата: 1950 рублей\n",
    "\n",
    "\n",
    "2. Включено 3000 минут разговора, 1000 сообщений и 30 Гб интернет-трафика\n",
    "\n",
    "\n",
    "3. Стоимость услуг сверх тарифного пакета:\n",
    "\n",
    "* минута разговора: 1 рубль\n",
    "\n",
    "* сообщение: 1 рубль\n",
    "\n",
    "* 1 Гб интернет-трафика: 150 рублей"
   ]
  },
  {
   "cell_type": "markdown",
   "id": "d540ddf9",
   "metadata": {},
   "source": [
    "*«Мегалайн» всегда округляет вверх значения минут и мегабайтов. Если пользователь проговорил всего 1 секунду, в тарифе засчитывается целая минута.*"
   ]
  },
  {
   "cell_type": "markdown",
   "id": "b93f4c42",
   "metadata": {},
   "source": [
    "**Описание данных**"
   ]
  },
  {
   "cell_type": "markdown",
   "id": "ce966507",
   "metadata": {},
   "source": [
    "Таблица `users` (информация о пользователях):\n",
    "* **user_id** — уникальный идентификатор пользователя\n",
    "* **first_name** — имя пользователя\n",
    "* **last_name** — фамилия пользователя\n",
    "* **age** — возраст пользователя (годы)\n",
    "* **reg_date** — дата подключения тарифа (день, месяц, год)\n",
    "* **churn_date** — дата прекращения пользования тарифом (если значение пропущено, то тариф ещё действовал на момент выгрузки данных)\n",
    "* **city** — город проживания пользователя\n",
    "* **tariff** — название тарифного плана"
   ]
  },
  {
   "cell_type": "markdown",
   "id": "0d82a69e",
   "metadata": {},
   "source": [
    "Таблица `calls` (информация о звонках):\n",
    "* **id** — уникальный номер звонка\n",
    "* **call_date** — дата звонка\n",
    "* **duration** — длительность звонка в минутах\n",
    "* **user_id** — идентификатор пользователя, сделавшего звонок"
   ]
  },
  {
   "cell_type": "markdown",
   "id": "30a73f37",
   "metadata": {},
   "source": [
    "Таблица `messages` (информация о сообщениях):\n",
    "* **id** — уникальный номер сообщения\n",
    "* **message_date** — дата сообщения\n",
    "* **user_id** — идентификатор пользователя, отправившего сообщение"
   ]
  },
  {
   "cell_type": "markdown",
   "id": "97414799",
   "metadata": {},
   "source": [
    "Таблица `internet` (информация об интернет-сессиях):\n",
    "* **id** — уникальный номер сессии\n",
    "* **mb_used** — объём потраченного за сессию интернет-трафика (в мегабайтах)\n",
    "* **session_date** — дата интернет-сессии\n",
    "* **user_id** — идентификатор пользователя"
   ]
  },
  {
   "cell_type": "markdown",
   "id": "70a8c275",
   "metadata": {},
   "source": [
    "Таблица `tariffs` (информация о тарифах):\n",
    "* **tariff_name** — название тарифа\n",
    "* **rub_monthly_fee** — ежемесячная абонентская плата в рублях\n",
    "* **minutes_included** — количество минут разговора в месяц, включённых в абонентскую плату\n",
    "* **messages_included** — количество сообщений в месяц, включённых в абонентскую плату\n",
    "* **mb_per_month_included** — объём интернет-трафика, включённого в абонентскую плату (в мегабайтах)\n",
    "* **rub_per_minute** — стоимость минуты разговора сверх тарифного пакета (например, если в тарифе 100 минут разговора в месяц, то со 101 минуты будет взиматься плата)\n",
    "* **rub_per_message** — стоимость отправки сообщения сверх тарифного пакета\n",
    "* **rub_per_gb** — стоимость дополнительного гигабайта интернет-трафика сверх тарифного пакета (1 гигабайт = 1024 мегабайта)"
   ]
  },
  {
   "cell_type": "markdown",
   "id": "0d3ee7ee",
   "metadata": {},
   "source": [
    "## Шаг 1. Подготовка и общий анализ"
   ]
  },
  {
   "cell_type": "markdown",
   "id": "c228865e",
   "metadata": {},
   "source": [
    "### Импорт библиотек"
   ]
  },
  {
   "cell_type": "code",
   "execution_count": 1,
   "id": "35b24617",
   "metadata": {},
   "outputs": [],
   "source": [
    "# библиотека для обработки и анализа данных\n",
    "import pandas as pd\n",
    "\n",
    "# библиотеки для визуализации данных двумерной графикой\n",
    "import matplotlib.pyplot as plt\n",
    "plt.rcParams.update({'font.size': 12})\n",
    "\n",
    "import seaborn as sns\n",
    "sns.set_style('whitegrid')\n",
    "\n",
    "# библиотеки для расширенной математики\n",
    "from scipy import stats as st\n",
    "import numpy as np"
   ]
  },
  {
   "cell_type": "markdown",
   "id": "74c714c7",
   "metadata": {},
   "source": [
    "### Импорт данных"
   ]
  },
  {
   "cell_type": "markdown",
   "id": "094d0c9b",
   "metadata": {},
   "source": [
    "Просмотр первых 5 строк каждой таблицы и информации о ней."
   ]
  },
  {
   "cell_type": "code",
   "execution_count": 2,
   "id": "f8c24fa3",
   "metadata": {
    "scrolled": false
   },
   "outputs": [
    {
     "data": {
      "text/html": [
       "<div>\n",
       "<style scoped>\n",
       "    .dataframe tbody tr th:only-of-type {\n",
       "        vertical-align: middle;\n",
       "    }\n",
       "\n",
       "    .dataframe tbody tr th {\n",
       "        vertical-align: top;\n",
       "    }\n",
       "\n",
       "    .dataframe thead th {\n",
       "        text-align: right;\n",
       "    }\n",
       "</style>\n",
       "<table border=\"1\" class=\"dataframe\">\n",
       "  <thead>\n",
       "    <tr style=\"text-align: right;\">\n",
       "      <th></th>\n",
       "      <th>id</th>\n",
       "      <th>call_date</th>\n",
       "      <th>duration</th>\n",
       "      <th>user_id</th>\n",
       "    </tr>\n",
       "  </thead>\n",
       "  <tbody>\n",
       "    <tr>\n",
       "      <th>0</th>\n",
       "      <td>1000_0</td>\n",
       "      <td>2018-07-25</td>\n",
       "      <td>0.00</td>\n",
       "      <td>1000</td>\n",
       "    </tr>\n",
       "    <tr>\n",
       "      <th>1</th>\n",
       "      <td>1000_1</td>\n",
       "      <td>2018-08-17</td>\n",
       "      <td>0.00</td>\n",
       "      <td>1000</td>\n",
       "    </tr>\n",
       "    <tr>\n",
       "      <th>2</th>\n",
       "      <td>1000_2</td>\n",
       "      <td>2018-06-11</td>\n",
       "      <td>2.85</td>\n",
       "      <td>1000</td>\n",
       "    </tr>\n",
       "    <tr>\n",
       "      <th>3</th>\n",
       "      <td>1000_3</td>\n",
       "      <td>2018-09-21</td>\n",
       "      <td>13.80</td>\n",
       "      <td>1000</td>\n",
       "    </tr>\n",
       "    <tr>\n",
       "      <th>4</th>\n",
       "      <td>1000_4</td>\n",
       "      <td>2018-12-15</td>\n",
       "      <td>5.18</td>\n",
       "      <td>1000</td>\n",
       "    </tr>\n",
       "  </tbody>\n",
       "</table>\n",
       "</div>"
      ],
      "text/plain": [
       "       id   call_date  duration  user_id\n",
       "0  1000_0  2018-07-25      0.00     1000\n",
       "1  1000_1  2018-08-17      0.00     1000\n",
       "2  1000_2  2018-06-11      2.85     1000\n",
       "3  1000_3  2018-09-21     13.80     1000\n",
       "4  1000_4  2018-12-15      5.18     1000"
      ]
     },
     "metadata": {},
     "output_type": "display_data"
    },
    {
     "name": "stdout",
     "output_type": "stream",
     "text": [
      "<class 'pandas.core.frame.DataFrame'>\n",
      "RangeIndex: 202607 entries, 0 to 202606\n",
      "Data columns (total 4 columns):\n",
      " #   Column     Non-Null Count   Dtype  \n",
      "---  ------     --------------   -----  \n",
      " 0   id         202607 non-null  object \n",
      " 1   call_date  202607 non-null  object \n",
      " 2   duration   202607 non-null  float64\n",
      " 3   user_id    202607 non-null  int64  \n",
      "dtypes: float64(1), int64(1), object(2)\n",
      "memory usage: 6.2+ MB\n",
      "------------------------------\n"
     ]
    },
    {
     "data": {
      "text/html": [
       "<div>\n",
       "<style scoped>\n",
       "    .dataframe tbody tr th:only-of-type {\n",
       "        vertical-align: middle;\n",
       "    }\n",
       "\n",
       "    .dataframe tbody tr th {\n",
       "        vertical-align: top;\n",
       "    }\n",
       "\n",
       "    .dataframe thead th {\n",
       "        text-align: right;\n",
       "    }\n",
       "</style>\n",
       "<table border=\"1\" class=\"dataframe\">\n",
       "  <thead>\n",
       "    <tr style=\"text-align: right;\">\n",
       "      <th></th>\n",
       "      <th>id</th>\n",
       "      <th>mb_used</th>\n",
       "      <th>session_date</th>\n",
       "      <th>user_id</th>\n",
       "    </tr>\n",
       "  </thead>\n",
       "  <tbody>\n",
       "    <tr>\n",
       "      <th>0</th>\n",
       "      <td>1000_0</td>\n",
       "      <td>112.95</td>\n",
       "      <td>2018-11-25</td>\n",
       "      <td>1000</td>\n",
       "    </tr>\n",
       "    <tr>\n",
       "      <th>1</th>\n",
       "      <td>1000_1</td>\n",
       "      <td>1052.81</td>\n",
       "      <td>2018-09-07</td>\n",
       "      <td>1000</td>\n",
       "    </tr>\n",
       "    <tr>\n",
       "      <th>2</th>\n",
       "      <td>1000_2</td>\n",
       "      <td>1197.26</td>\n",
       "      <td>2018-06-25</td>\n",
       "      <td>1000</td>\n",
       "    </tr>\n",
       "    <tr>\n",
       "      <th>3</th>\n",
       "      <td>1000_3</td>\n",
       "      <td>550.27</td>\n",
       "      <td>2018-08-22</td>\n",
       "      <td>1000</td>\n",
       "    </tr>\n",
       "    <tr>\n",
       "      <th>4</th>\n",
       "      <td>1000_4</td>\n",
       "      <td>302.56</td>\n",
       "      <td>2018-09-24</td>\n",
       "      <td>1000</td>\n",
       "    </tr>\n",
       "  </tbody>\n",
       "</table>\n",
       "</div>"
      ],
      "text/plain": [
       "       id  mb_used session_date  user_id\n",
       "0  1000_0   112.95   2018-11-25     1000\n",
       "1  1000_1  1052.81   2018-09-07     1000\n",
       "2  1000_2  1197.26   2018-06-25     1000\n",
       "3  1000_3   550.27   2018-08-22     1000\n",
       "4  1000_4   302.56   2018-09-24     1000"
      ]
     },
     "metadata": {},
     "output_type": "display_data"
    },
    {
     "name": "stdout",
     "output_type": "stream",
     "text": [
      "<class 'pandas.core.frame.DataFrame'>\n",
      "Int64Index: 149396 entries, 0 to 149395\n",
      "Data columns (total 4 columns):\n",
      " #   Column        Non-Null Count   Dtype  \n",
      "---  ------        --------------   -----  \n",
      " 0   id            149396 non-null  object \n",
      " 1   mb_used       149396 non-null  float64\n",
      " 2   session_date  149396 non-null  object \n",
      " 3   user_id       149396 non-null  int64  \n",
      "dtypes: float64(1), int64(1), object(2)\n",
      "memory usage: 5.7+ MB\n",
      "------------------------------\n"
     ]
    },
    {
     "data": {
      "text/html": [
       "<div>\n",
       "<style scoped>\n",
       "    .dataframe tbody tr th:only-of-type {\n",
       "        vertical-align: middle;\n",
       "    }\n",
       "\n",
       "    .dataframe tbody tr th {\n",
       "        vertical-align: top;\n",
       "    }\n",
       "\n",
       "    .dataframe thead th {\n",
       "        text-align: right;\n",
       "    }\n",
       "</style>\n",
       "<table border=\"1\" class=\"dataframe\">\n",
       "  <thead>\n",
       "    <tr style=\"text-align: right;\">\n",
       "      <th></th>\n",
       "      <th>id</th>\n",
       "      <th>message_date</th>\n",
       "      <th>user_id</th>\n",
       "    </tr>\n",
       "  </thead>\n",
       "  <tbody>\n",
       "    <tr>\n",
       "      <th>0</th>\n",
       "      <td>1000_0</td>\n",
       "      <td>2018-06-27</td>\n",
       "      <td>1000</td>\n",
       "    </tr>\n",
       "    <tr>\n",
       "      <th>1</th>\n",
       "      <td>1000_1</td>\n",
       "      <td>2018-10-08</td>\n",
       "      <td>1000</td>\n",
       "    </tr>\n",
       "    <tr>\n",
       "      <th>2</th>\n",
       "      <td>1000_2</td>\n",
       "      <td>2018-08-04</td>\n",
       "      <td>1000</td>\n",
       "    </tr>\n",
       "    <tr>\n",
       "      <th>3</th>\n",
       "      <td>1000_3</td>\n",
       "      <td>2018-06-16</td>\n",
       "      <td>1000</td>\n",
       "    </tr>\n",
       "    <tr>\n",
       "      <th>4</th>\n",
       "      <td>1000_4</td>\n",
       "      <td>2018-12-05</td>\n",
       "      <td>1000</td>\n",
       "    </tr>\n",
       "  </tbody>\n",
       "</table>\n",
       "</div>"
      ],
      "text/plain": [
       "       id message_date  user_id\n",
       "0  1000_0   2018-06-27     1000\n",
       "1  1000_1   2018-10-08     1000\n",
       "2  1000_2   2018-08-04     1000\n",
       "3  1000_3   2018-06-16     1000\n",
       "4  1000_4   2018-12-05     1000"
      ]
     },
     "metadata": {},
     "output_type": "display_data"
    },
    {
     "name": "stdout",
     "output_type": "stream",
     "text": [
      "<class 'pandas.core.frame.DataFrame'>\n",
      "RangeIndex: 123036 entries, 0 to 123035\n",
      "Data columns (total 3 columns):\n",
      " #   Column        Non-Null Count   Dtype \n",
      "---  ------        --------------   ----- \n",
      " 0   id            123036 non-null  object\n",
      " 1   message_date  123036 non-null  object\n",
      " 2   user_id       123036 non-null  int64 \n",
      "dtypes: int64(1), object(2)\n",
      "memory usage: 2.8+ MB\n",
      "------------------------------\n"
     ]
    },
    {
     "data": {
      "text/html": [
       "<div>\n",
       "<style scoped>\n",
       "    .dataframe tbody tr th:only-of-type {\n",
       "        vertical-align: middle;\n",
       "    }\n",
       "\n",
       "    .dataframe tbody tr th {\n",
       "        vertical-align: top;\n",
       "    }\n",
       "\n",
       "    .dataframe thead th {\n",
       "        text-align: right;\n",
       "    }\n",
       "</style>\n",
       "<table border=\"1\" class=\"dataframe\">\n",
       "  <thead>\n",
       "    <tr style=\"text-align: right;\">\n",
       "      <th></th>\n",
       "      <th>messages_included</th>\n",
       "      <th>mb_per_month_included</th>\n",
       "      <th>minutes_included</th>\n",
       "      <th>rub_monthly_fee</th>\n",
       "      <th>rub_per_gb</th>\n",
       "      <th>rub_per_message</th>\n",
       "      <th>rub_per_minute</th>\n",
       "      <th>tariff_name</th>\n",
       "    </tr>\n",
       "  </thead>\n",
       "  <tbody>\n",
       "    <tr>\n",
       "      <th>0</th>\n",
       "      <td>50</td>\n",
       "      <td>15360</td>\n",
       "      <td>500</td>\n",
       "      <td>550</td>\n",
       "      <td>200</td>\n",
       "      <td>3</td>\n",
       "      <td>3</td>\n",
       "      <td>smart</td>\n",
       "    </tr>\n",
       "    <tr>\n",
       "      <th>1</th>\n",
       "      <td>1000</td>\n",
       "      <td>30720</td>\n",
       "      <td>3000</td>\n",
       "      <td>1950</td>\n",
       "      <td>150</td>\n",
       "      <td>1</td>\n",
       "      <td>1</td>\n",
       "      <td>ultra</td>\n",
       "    </tr>\n",
       "  </tbody>\n",
       "</table>\n",
       "</div>"
      ],
      "text/plain": [
       "   messages_included  mb_per_month_included  minutes_included  \\\n",
       "0                 50                  15360               500   \n",
       "1               1000                  30720              3000   \n",
       "\n",
       "   rub_monthly_fee  rub_per_gb  rub_per_message  rub_per_minute tariff_name  \n",
       "0              550         200                3               3       smart  \n",
       "1             1950         150                1               1       ultra  "
      ]
     },
     "metadata": {},
     "output_type": "display_data"
    },
    {
     "name": "stdout",
     "output_type": "stream",
     "text": [
      "<class 'pandas.core.frame.DataFrame'>\n",
      "RangeIndex: 2 entries, 0 to 1\n",
      "Data columns (total 8 columns):\n",
      " #   Column                 Non-Null Count  Dtype \n",
      "---  ------                 --------------  ----- \n",
      " 0   messages_included      2 non-null      int64 \n",
      " 1   mb_per_month_included  2 non-null      int64 \n",
      " 2   minutes_included       2 non-null      int64 \n",
      " 3   rub_monthly_fee        2 non-null      int64 \n",
      " 4   rub_per_gb             2 non-null      int64 \n",
      " 5   rub_per_message        2 non-null      int64 \n",
      " 6   rub_per_minute         2 non-null      int64 \n",
      " 7   tariff_name            2 non-null      object\n",
      "dtypes: int64(7), object(1)\n",
      "memory usage: 256.0+ bytes\n",
      "------------------------------\n"
     ]
    },
    {
     "data": {
      "text/html": [
       "<div>\n",
       "<style scoped>\n",
       "    .dataframe tbody tr th:only-of-type {\n",
       "        vertical-align: middle;\n",
       "    }\n",
       "\n",
       "    .dataframe tbody tr th {\n",
       "        vertical-align: top;\n",
       "    }\n",
       "\n",
       "    .dataframe thead th {\n",
       "        text-align: right;\n",
       "    }\n",
       "</style>\n",
       "<table border=\"1\" class=\"dataframe\">\n",
       "  <thead>\n",
       "    <tr style=\"text-align: right;\">\n",
       "      <th></th>\n",
       "      <th>user_id</th>\n",
       "      <th>age</th>\n",
       "      <th>churn_date</th>\n",
       "      <th>city</th>\n",
       "      <th>first_name</th>\n",
       "      <th>last_name</th>\n",
       "      <th>reg_date</th>\n",
       "      <th>tariff</th>\n",
       "    </tr>\n",
       "  </thead>\n",
       "  <tbody>\n",
       "    <tr>\n",
       "      <th>0</th>\n",
       "      <td>1000</td>\n",
       "      <td>52</td>\n",
       "      <td>NaN</td>\n",
       "      <td>Краснодар</td>\n",
       "      <td>Рафаил</td>\n",
       "      <td>Верещагин</td>\n",
       "      <td>2018-05-25</td>\n",
       "      <td>ultra</td>\n",
       "    </tr>\n",
       "    <tr>\n",
       "      <th>1</th>\n",
       "      <td>1001</td>\n",
       "      <td>41</td>\n",
       "      <td>NaN</td>\n",
       "      <td>Москва</td>\n",
       "      <td>Иван</td>\n",
       "      <td>Ежов</td>\n",
       "      <td>2018-11-01</td>\n",
       "      <td>smart</td>\n",
       "    </tr>\n",
       "    <tr>\n",
       "      <th>2</th>\n",
       "      <td>1002</td>\n",
       "      <td>59</td>\n",
       "      <td>NaN</td>\n",
       "      <td>Стерлитамак</td>\n",
       "      <td>Евгений</td>\n",
       "      <td>Абрамович</td>\n",
       "      <td>2018-06-17</td>\n",
       "      <td>smart</td>\n",
       "    </tr>\n",
       "    <tr>\n",
       "      <th>3</th>\n",
       "      <td>1003</td>\n",
       "      <td>23</td>\n",
       "      <td>NaN</td>\n",
       "      <td>Москва</td>\n",
       "      <td>Белла</td>\n",
       "      <td>Белякова</td>\n",
       "      <td>2018-08-17</td>\n",
       "      <td>ultra</td>\n",
       "    </tr>\n",
       "    <tr>\n",
       "      <th>4</th>\n",
       "      <td>1004</td>\n",
       "      <td>68</td>\n",
       "      <td>NaN</td>\n",
       "      <td>Новокузнецк</td>\n",
       "      <td>Татьяна</td>\n",
       "      <td>Авдеенко</td>\n",
       "      <td>2018-05-14</td>\n",
       "      <td>ultra</td>\n",
       "    </tr>\n",
       "  </tbody>\n",
       "</table>\n",
       "</div>"
      ],
      "text/plain": [
       "   user_id  age churn_date         city first_name  last_name    reg_date  \\\n",
       "0     1000   52        NaN    Краснодар     Рафаил  Верещагин  2018-05-25   \n",
       "1     1001   41        NaN       Москва       Иван       Ежов  2018-11-01   \n",
       "2     1002   59        NaN  Стерлитамак    Евгений  Абрамович  2018-06-17   \n",
       "3     1003   23        NaN       Москва      Белла   Белякова  2018-08-17   \n",
       "4     1004   68        NaN  Новокузнецк    Татьяна   Авдеенко  2018-05-14   \n",
       "\n",
       "  tariff  \n",
       "0  ultra  \n",
       "1  smart  \n",
       "2  smart  \n",
       "3  ultra  \n",
       "4  ultra  "
      ]
     },
     "metadata": {},
     "output_type": "display_data"
    },
    {
     "name": "stdout",
     "output_type": "stream",
     "text": [
      "<class 'pandas.core.frame.DataFrame'>\n",
      "RangeIndex: 500 entries, 0 to 499\n",
      "Data columns (total 8 columns):\n",
      " #   Column      Non-Null Count  Dtype \n",
      "---  ------      --------------  ----- \n",
      " 0   user_id     500 non-null    int64 \n",
      " 1   age         500 non-null    int64 \n",
      " 2   churn_date  38 non-null     object\n",
      " 3   city        500 non-null    object\n",
      " 4   first_name  500 non-null    object\n",
      " 5   last_name   500 non-null    object\n",
      " 6   reg_date    500 non-null    object\n",
      " 7   tariff      500 non-null    object\n",
      "dtypes: int64(2), object(6)\n",
      "memory usage: 31.4+ KB\n",
      "------------------------------\n"
     ]
    }
   ],
   "source": [
    "path = ''\n",
    "\n",
    "# импортируем данные\n",
    "calls = pd.read_csv(path + '/datasets/calls.csv')\n",
    "internet = pd.read_csv(path + '/datasets/internet.csv', index_col=0)\n",
    "messages = pd.read_csv(path + '/datasets/messages.csv')\n",
    "tariffs = pd.read_csv(path + '/datasets/tariffs.csv')\n",
    "users = pd.read_csv(path + '/datasets/users.csv')\n",
    "\n",
    "# заведём именованый список с ссылками на все таблицы\n",
    "df_list = [calls, internet, messages, tariffs, users]\n",
    "\n",
    "# выведем первые 5 строк и информвацию о данных\n",
    "for df in df_list:\n",
    "    display(df.head())\n",
    "    df.info()\n",
    "    print('------------------------------')"
   ]
  },
  {
   "cell_type": "markdown",
   "id": "f4d6a34d",
   "metadata": {},
   "source": [
    "**Требуют замены типа на `datetime`**\n",
    "* `calls: call_date`\n",
    "* `internet: session_date`\n",
    "* `messages: message_date`\n",
    "* `users: reg_date`"
   ]
  },
  {
   "cell_type": "markdown",
   "id": "61efc12b",
   "metadata": {},
   "source": [
    "### Поиск проблем в названиях столбцов"
   ]
  },
  {
   "cell_type": "code",
   "execution_count": 3,
   "id": "530f25fe",
   "metadata": {},
   "outputs": [
    {
     "data": {
      "text/plain": [
       "Index(['id', 'call_date', 'duration', 'user_id'], dtype='object')"
      ]
     },
     "metadata": {},
     "output_type": "display_data"
    },
    {
     "data": {
      "text/plain": [
       "Index(['id', 'mb_used', 'session_date', 'user_id'], dtype='object')"
      ]
     },
     "metadata": {},
     "output_type": "display_data"
    },
    {
     "data": {
      "text/plain": [
       "Index(['id', 'message_date', 'user_id'], dtype='object')"
      ]
     },
     "metadata": {},
     "output_type": "display_data"
    },
    {
     "data": {
      "text/plain": [
       "Index(['messages_included', 'mb_per_month_included', 'minutes_included',\n",
       "       'rub_monthly_fee', 'rub_per_gb', 'rub_per_message', 'rub_per_minute',\n",
       "       'tariff_name'],\n",
       "      dtype='object')"
      ]
     },
     "metadata": {},
     "output_type": "display_data"
    },
    {
     "data": {
      "text/plain": [
       "Index(['user_id', 'age', 'churn_date', 'city', 'first_name', 'last_name',\n",
       "       'reg_date', 'tariff'],\n",
       "      dtype='object')"
      ]
     },
     "metadata": {},
     "output_type": "display_data"
    }
   ],
   "source": [
    "# выведем названия столбцов списком\n",
    "for df in df_list:\n",
    "    display(df.columns)"
   ]
  },
  {
   "cell_type": "markdown",
   "id": "d16b4dc0",
   "metadata": {},
   "source": [
    "Проблем нет."
   ]
  },
  {
   "cell_type": "markdown",
   "id": "f2bf1d24",
   "metadata": {},
   "source": [
    "### Поиск полных дубликатов строк"
   ]
  },
  {
   "cell_type": "code",
   "execution_count": 4,
   "id": "f4bb8c3c",
   "metadata": {},
   "outputs": [
    {
     "name": "stdout",
     "output_type": "stream",
     "text": [
      "Количество полных дубликатов в данных: 0\n",
      "Количество полных дубликатов в данных: 0\n",
      "Количество полных дубликатов в данных: 0\n",
      "Количество полных дубликатов в данных: 0\n",
      "Количество полных дубликатов в данных: 0\n"
     ]
    }
   ],
   "source": [
    "# проверим отсутствие полных дубликатов во всех таблицах\n",
    "for df in df_list:\n",
    "    print(f\"Количество полных дубликатов в данных: {df.duplicated().sum()}\")"
   ]
  },
  {
   "cell_type": "markdown",
   "id": "8b516e0b",
   "metadata": {},
   "source": [
    "### Поиск аномалий и ошибок"
   ]
  },
  {
   "cell_type": "code",
   "execution_count": 5,
   "id": "1d63c78d",
   "metadata": {},
   "outputs": [
    {
     "data": {
      "image/png": "[encoded data removed]",
      "text/plain": [
       "<Figure size 432x288 with 1 Axes>"
      ]
     },
     "metadata": {},
     "output_type": "display_data"
    }
   ],
   "source": [
    "# проверим calls: duration\n",
    "calls['duration'].hist(bins=100)\n",
    "plt.title('Длительность звонков')\n",
    "plt.xlabel('Количество минут')\n",
    "plt.ylabel('Частота признака')\n",
    "plt.show()"
   ]
  },
  {
   "cell_type": "markdown",
   "id": "141a0efe",
   "metadata": {},
   "source": [
    "### Вывод"
   ]
  },
  {
   "cell_type": "markdown",
   "id": "47e69524",
   "metadata": {},
   "source": [
    "Каждому звонку, сообщению или сессии доступа в Интернет каждого пользователя соответствует одна запись в одной из соответствующих таблиц.\n",
    "\n",
    "Проблемы на которые стоит обратить внимание:\n",
    "\n",
    "1. Даты требуют конвертации в `datetime`;\n",
    "\n",
    "\n",
    "2. У большого количества звонков `call_date: duration` длительность — 0.0 минут. Это проблема в данных, нужна предобработка;\n",
    "\n",
    "\n",
    "3. `users: churn_date` если значение пропущено, то тариф ещё действовал на момент выгрузки данных – не будем заполнять;"
   ]
  },
  {
   "cell_type": "markdown",
   "id": "950b5d22",
   "metadata": {},
   "source": [
    "## Шаг 2. Предобработка данных"
   ]
  },
  {
   "cell_type": "markdown",
   "id": "05d0569e",
   "metadata": {},
   "source": [
    "### Замена типа данных"
   ]
  },
  {
   "cell_type": "code",
   "execution_count": 6,
   "id": "3040125f",
   "metadata": {},
   "outputs": [
    {
     "name": "stdout",
     "output_type": "stream",
     "text": [
      "Тип данных в call_date после замены: datetime64[ns]\n",
      "Тип данных в session_date после замены: datetime64[ns]\n",
      "Тип данных в message_date после замены: datetime64[ns]\n",
      "Тип данных в reg_date после замены: datetime64[ns]\n"
     ]
    }
   ],
   "source": [
    "# инициализируем список, перечислим в нём нужные столбцы\n",
    "dt_list = [[calls, 'call_date'],\n",
    "           [internet, 'session_date'],\n",
    "           [messages, 'message_date'],\n",
    "           [users, 'reg_date']]\n",
    "\n",
    "# напишем короткий цикл\n",
    "for df, column in dt_list:\n",
    "    # переведем значения в тип datetime\n",
    "    df[column] = pd.to_datetime(df[column])\n",
    "    # выведем сообщение о результате\n",
    "    print(f\"Тип данных в {column} после замены: {df.dtypes[column]}\")"
   ]
  },
  {
   "cell_type": "markdown",
   "id": "b16b5328",
   "metadata": {},
   "source": [
    "### Исправление ошибок"
   ]
  },
  {
   "cell_type": "markdown",
   "id": "f356efd3",
   "metadata": {},
   "source": [
    "#### `calls: duration`"
   ]
  },
  {
   "cell_type": "code",
   "execution_count": 7,
   "id": "15c97522",
   "metadata": {},
   "outputs": [
    {
     "data": {
      "text/html": [
       "<div>\n",
       "<style scoped>\n",
       "    .dataframe tbody tr th:only-of-type {\n",
       "        vertical-align: middle;\n",
       "    }\n",
       "\n",
       "    .dataframe tbody tr th {\n",
       "        vertical-align: top;\n",
       "    }\n",
       "\n",
       "    .dataframe thead th {\n",
       "        text-align: right;\n",
       "    }\n",
       "</style>\n",
       "<table border=\"1\" class=\"dataframe\">\n",
       "  <thead>\n",
       "    <tr style=\"text-align: right;\">\n",
       "      <th></th>\n",
       "      <th>id</th>\n",
       "      <th>call_date</th>\n",
       "      <th>duration</th>\n",
       "      <th>user_id</th>\n",
       "    </tr>\n",
       "  </thead>\n",
       "  <tbody>\n",
       "    <tr>\n",
       "      <th>9303</th>\n",
       "      <td>1025_34</td>\n",
       "      <td>2018-06-26</td>\n",
       "      <td>0.02</td>\n",
       "      <td>1025</td>\n",
       "    </tr>\n",
       "    <tr>\n",
       "      <th>194941</th>\n",
       "      <td>1477_689</td>\n",
       "      <td>2018-08-13</td>\n",
       "      <td>0.42</td>\n",
       "      <td>1477</td>\n",
       "    </tr>\n",
       "    <tr>\n",
       "      <th>37533</th>\n",
       "      <td>1094_153</td>\n",
       "      <td>2018-07-03</td>\n",
       "      <td>0.09</td>\n",
       "      <td>1094</td>\n",
       "    </tr>\n",
       "    <tr>\n",
       "      <th>88307</th>\n",
       "      <td>1222_45</td>\n",
       "      <td>2018-09-08</td>\n",
       "      <td>0.95</td>\n",
       "      <td>1222</td>\n",
       "    </tr>\n",
       "    <tr>\n",
       "      <th>23247</th>\n",
       "      <td>1059_331</td>\n",
       "      <td>2018-06-01</td>\n",
       "      <td>0.68</td>\n",
       "      <td>1059</td>\n",
       "    </tr>\n",
       "  </tbody>\n",
       "</table>\n",
       "</div>"
      ],
      "text/plain": [
       "              id  call_date  duration  user_id\n",
       "9303     1025_34 2018-06-26      0.02     1025\n",
       "194941  1477_689 2018-08-13      0.42     1477\n",
       "37533   1094_153 2018-07-03      0.09     1094\n",
       "88307    1222_45 2018-09-08      0.95     1222\n",
       "23247   1059_331 2018-06-01      0.68     1059"
      ]
     },
     "metadata": {},
     "output_type": "display_data"
    },
    {
     "data": {
      "text/html": [
       "<div>\n",
       "<style scoped>\n",
       "    .dataframe tbody tr th:only-of-type {\n",
       "        vertical-align: middle;\n",
       "    }\n",
       "\n",
       "    .dataframe tbody tr th {\n",
       "        vertical-align: top;\n",
       "    }\n",
       "\n",
       "    .dataframe thead th {\n",
       "        text-align: right;\n",
       "    }\n",
       "</style>\n",
       "<table border=\"1\" class=\"dataframe\">\n",
       "  <thead>\n",
       "    <tr style=\"text-align: right;\">\n",
       "      <th></th>\n",
       "      <th>id</th>\n",
       "      <th>call_date</th>\n",
       "      <th>duration</th>\n",
       "      <th>user_id</th>\n",
       "    </tr>\n",
       "  </thead>\n",
       "  <tbody>\n",
       "    <tr>\n",
       "      <th>141292</th>\n",
       "      <td>1359_251</td>\n",
       "      <td>2018-07-28</td>\n",
       "      <td>1.15</td>\n",
       "      <td>1359</td>\n",
       "    </tr>\n",
       "    <tr>\n",
       "      <th>12508</th>\n",
       "      <td>1032_527</td>\n",
       "      <td>2018-02-18</td>\n",
       "      <td>1.45</td>\n",
       "      <td>1032</td>\n",
       "    </tr>\n",
       "    <tr>\n",
       "      <th>13408</th>\n",
       "      <td>1035_95</td>\n",
       "      <td>2018-10-19</td>\n",
       "      <td>1.14</td>\n",
       "      <td>1035</td>\n",
       "    </tr>\n",
       "    <tr>\n",
       "      <th>14287</th>\n",
       "      <td>1037_59</td>\n",
       "      <td>2018-10-14</td>\n",
       "      <td>1.54</td>\n",
       "      <td>1037</td>\n",
       "    </tr>\n",
       "    <tr>\n",
       "      <th>103176</th>\n",
       "      <td>1264_315</td>\n",
       "      <td>2018-08-23</td>\n",
       "      <td>1.27</td>\n",
       "      <td>1264</td>\n",
       "    </tr>\n",
       "  </tbody>\n",
       "</table>\n",
       "</div>"
      ],
      "text/plain": [
       "              id  call_date  duration  user_id\n",
       "141292  1359_251 2018-07-28      1.15     1359\n",
       "12508   1032_527 2018-02-18      1.45     1032\n",
       "13408    1035_95 2018-10-19      1.14     1035\n",
       "14287    1037_59 2018-10-14      1.54     1037\n",
       "103176  1264_315 2018-08-23      1.27     1264"
      ]
     },
     "metadata": {},
     "output_type": "display_data"
    }
   ],
   "source": [
    "# посмотрим как выглядят звонки до одной и до двух минут\n",
    "display(calls.query('duration > 0 and duration < 1').sample(5))\n",
    "display(calls.query('duration > 1 and duration < 2').sample(5))"
   ]
  },
  {
   "cell_type": "markdown",
   "id": "e6117db9",
   "metadata": {},
   "source": [
    "Нам даны неокругленные цифры."
   ]
  },
  {
   "cell_type": "code",
   "execution_count": 8,
   "id": "4e3025f9",
   "metadata": {
    "scrolled": true
   },
   "outputs": [
    {
     "name": "stdout",
     "output_type": "stream",
     "text": [
      "user_id      492\n",
      "call_date    365\n",
      "dtype: int64\n"
     ]
    }
   ],
   "source": [
    "# посмотрим кто и когда совершил вызовы длиной в 0 секунд\n",
    "print(calls.query('duration == 0')[['user_id', 'call_date']].nunique())"
   ]
  },
  {
   "cell_type": "markdown",
   "id": "85758092",
   "metadata": {},
   "source": [
    "Звонки совершались каждый день в течение года, 492 пользователями из 500. Посмотрим кто сколько раз совершил вызов нулевой длительности."
   ]
  },
  {
   "cell_type": "code",
   "execution_count": 9,
   "id": "b96ffd68",
   "metadata": {},
   "outputs": [
    {
     "data": {
      "image/png": "[encoded data removed]",
      "text/plain": [
       "<Figure size 1152x432 with 1 Axes>"
      ]
     },
     "metadata": {},
     "output_type": "display_data"
    }
   ],
   "source": [
    "# сформируем график\n",
    "calls.groupby('user_id')['duration'].count().plot(figsize=(16, 6))\n",
    "\n",
    "# добавим заголовок и названия осей\n",
    "plt.title('Количество нулевых звонков на каждого пользователя')\n",
    "plt.xlabel('Идентификатор пользователя')\n",
    "plt.ylabel('Количество звонков')\n",
    "\n",
    "# выведем график\n",
    "plt.show()"
   ]
  },
  {
   "cell_type": "markdown",
   "id": "499a512e",
   "metadata": {},
   "source": [
    "Не остаётся сомнений, что это несостоявшиеся разговоры. Возможно это недозвоны или звонки по которым не успела начаться тарификация."
   ]
  },
  {
   "cell_type": "code",
   "execution_count": 10,
   "id": "b8405efc",
   "metadata": {},
   "outputs": [],
   "source": [
    "# удалим нулевые звонки из calls\n",
    "calls = calls.query('duration > 0').copy()"
   ]
  },
  {
   "cell_type": "markdown",
   "id": "3a3d78dc",
   "metadata": {},
   "source": [
    "### Количество сделанных звонков и израсходованных минут разговора по месяцам"
   ]
  },
  {
   "cell_type": "code",
   "execution_count": 11,
   "id": "163ecc66",
   "metadata": {},
   "outputs": [
    {
     "data": {
      "text/html": [
       "<div>\n",
       "<style scoped>\n",
       "    .dataframe tbody tr th:only-of-type {\n",
       "        vertical-align: middle;\n",
       "    }\n",
       "\n",
       "    .dataframe tbody tr th {\n",
       "        vertical-align: top;\n",
       "    }\n",
       "\n",
       "    .dataframe thead th {\n",
       "        text-align: right;\n",
       "    }\n",
       "</style>\n",
       "<table border=\"1\" class=\"dataframe\">\n",
       "  <thead>\n",
       "    <tr style=\"text-align: right;\">\n",
       "      <th></th>\n",
       "      <th>id</th>\n",
       "      <th>call_date</th>\n",
       "      <th>duration</th>\n",
       "      <th>user_id</th>\n",
       "      <th>month</th>\n",
       "      <th>duration_ceiled</th>\n",
       "    </tr>\n",
       "  </thead>\n",
       "  <tbody>\n",
       "    <tr>\n",
       "      <th>153716</th>\n",
       "      <td>1381_591</td>\n",
       "      <td>2018-05-23</td>\n",
       "      <td>1.22</td>\n",
       "      <td>1381</td>\n",
       "      <td>May</td>\n",
       "      <td>2.0</td>\n",
       "    </tr>\n",
       "    <tr>\n",
       "      <th>160463</th>\n",
       "      <td>1395_124</td>\n",
       "      <td>2018-01-12</td>\n",
       "      <td>3.34</td>\n",
       "      <td>1395</td>\n",
       "      <td>January</td>\n",
       "      <td>4.0</td>\n",
       "    </tr>\n",
       "    <tr>\n",
       "      <th>92239</th>\n",
       "      <td>1229_75</td>\n",
       "      <td>2018-12-30</td>\n",
       "      <td>9.79</td>\n",
       "      <td>1229</td>\n",
       "      <td>December</td>\n",
       "      <td>10.0</td>\n",
       "    </tr>\n",
       "    <tr>\n",
       "      <th>129124</th>\n",
       "      <td>1331_20</td>\n",
       "      <td>2018-12-08</td>\n",
       "      <td>6.15</td>\n",
       "      <td>1331</td>\n",
       "      <td>December</td>\n",
       "      <td>7.0</td>\n",
       "    </tr>\n",
       "    <tr>\n",
       "      <th>162761</th>\n",
       "      <td>1401_196</td>\n",
       "      <td>2018-02-03</td>\n",
       "      <td>12.07</td>\n",
       "      <td>1401</td>\n",
       "      <td>February</td>\n",
       "      <td>13.0</td>\n",
       "    </tr>\n",
       "  </tbody>\n",
       "</table>\n",
       "</div>"
      ],
      "text/plain": [
       "              id  call_date  duration  user_id     month  duration_ceiled\n",
       "153716  1381_591 2018-05-23      1.22     1381       May              2.0\n",
       "160463  1395_124 2018-01-12      3.34     1395   January              4.0\n",
       "92239    1229_75 2018-12-30      9.79     1229  December             10.0\n",
       "129124   1331_20 2018-12-08      6.15     1331  December              7.0\n",
       "162761  1401_196 2018-02-03     12.07     1401  February             13.0"
      ]
     },
     "metadata": {},
     "output_type": "display_data"
    }
   ],
   "source": [
    "# заведем столбец с именем месяца\n",
    "calls['month'] = calls['call_date'].dt.month_name()\n",
    "\n",
    "# заведем столбец с округленным значением длительности разговора\n",
    "calls['duration_ceiled'] = np.ceil(calls['duration'])\n",
    "\n",
    "# проверим результат\n",
    "display(calls.sample(5))"
   ]
  },
  {
   "cell_type": "code",
   "execution_count": 12,
   "id": "7b000469",
   "metadata": {},
   "outputs": [
    {
     "data": {
      "text/html": [
       "<div>\n",
       "<style scoped>\n",
       "    .dataframe tbody tr th:only-of-type {\n",
       "        vertical-align: middle;\n",
       "    }\n",
       "\n",
       "    .dataframe tbody tr th {\n",
       "        vertical-align: top;\n",
       "    }\n",
       "\n",
       "    .dataframe thead th {\n",
       "        text-align: right;\n",
       "    }\n",
       "</style>\n",
       "<table border=\"1\" class=\"dataframe\">\n",
       "  <thead>\n",
       "    <tr style=\"text-align: right;\">\n",
       "      <th></th>\n",
       "      <th>user_id</th>\n",
       "      <th>month</th>\n",
       "      <th>calls_count</th>\n",
       "      <th>calls_duration</th>\n",
       "    </tr>\n",
       "  </thead>\n",
       "  <tbody>\n",
       "    <tr>\n",
       "      <th>0</th>\n",
       "      <td>1000</td>\n",
       "      <td>August</td>\n",
       "      <td>42</td>\n",
       "      <td>408.0</td>\n",
       "    </tr>\n",
       "    <tr>\n",
       "      <th>1</th>\n",
       "      <td>1000</td>\n",
       "      <td>December</td>\n",
       "      <td>38</td>\n",
       "      <td>333.0</td>\n",
       "    </tr>\n",
       "    <tr>\n",
       "      <th>2</th>\n",
       "      <td>1000</td>\n",
       "      <td>July</td>\n",
       "      <td>41</td>\n",
       "      <td>340.0</td>\n",
       "    </tr>\n",
       "    <tr>\n",
       "      <th>3</th>\n",
       "      <td>1000</td>\n",
       "      <td>June</td>\n",
       "      <td>28</td>\n",
       "      <td>172.0</td>\n",
       "    </tr>\n",
       "    <tr>\n",
       "      <th>4</th>\n",
       "      <td>1000</td>\n",
       "      <td>May</td>\n",
       "      <td>17</td>\n",
       "      <td>159.0</td>\n",
       "    </tr>\n",
       "  </tbody>\n",
       "</table>\n",
       "</div>"
      ],
      "text/plain": [
       "   user_id     month  calls_count  calls_duration\n",
       "0     1000    August           42           408.0\n",
       "1     1000  December           38           333.0\n",
       "2     1000      July           41           340.0\n",
       "3     1000      June           28           172.0\n",
       "4     1000       May           17           159.0"
      ]
     },
     "metadata": {},
     "output_type": "display_data"
    }
   ],
   "source": [
    "# заведем сводную таблицу по задаче\n",
    "calls_pivot = calls.pivot_table(index=['user_id', 'month'], values='duration_ceiled',\n",
    "                                aggfunc=['count', 'sum']).reset_index()\n",
    "\n",
    "# переименуем столбцы\n",
    "calls_pivot.columns = ['user_id', 'month',\n",
    "                       'calls_count', 'calls_duration']\n",
    "\n",
    "# проверим результат\n",
    "display(calls_pivot.head())"
   ]
  },
  {
   "cell_type": "markdown",
   "id": "946a486e",
   "metadata": {},
   "source": [
    "### Количество отправленных сообщений по месяцам"
   ]
  },
  {
   "cell_type": "code",
   "execution_count": 13,
   "id": "3e31ffd5",
   "metadata": {},
   "outputs": [
    {
     "data": {
      "text/html": [
       "<div>\n",
       "<style scoped>\n",
       "    .dataframe tbody tr th:only-of-type {\n",
       "        vertical-align: middle;\n",
       "    }\n",
       "\n",
       "    .dataframe tbody tr th {\n",
       "        vertical-align: top;\n",
       "    }\n",
       "\n",
       "    .dataframe thead th {\n",
       "        text-align: right;\n",
       "    }\n",
       "</style>\n",
       "<table border=\"1\" class=\"dataframe\">\n",
       "  <thead>\n",
       "    <tr style=\"text-align: right;\">\n",
       "      <th></th>\n",
       "      <th>id</th>\n",
       "      <th>message_date</th>\n",
       "      <th>user_id</th>\n",
       "      <th>month</th>\n",
       "    </tr>\n",
       "  </thead>\n",
       "  <tbody>\n",
       "    <tr>\n",
       "      <th>39448</th>\n",
       "      <td>1168_226</td>\n",
       "      <td>2018-02-04</td>\n",
       "      <td>1168</td>\n",
       "      <td>February</td>\n",
       "    </tr>\n",
       "    <tr>\n",
       "      <th>11417</th>\n",
       "      <td>1048_63</td>\n",
       "      <td>2018-11-12</td>\n",
       "      <td>1048</td>\n",
       "      <td>November</td>\n",
       "    </tr>\n",
       "    <tr>\n",
       "      <th>89237</th>\n",
       "      <td>1373_249</td>\n",
       "      <td>2018-05-07</td>\n",
       "      <td>1373</td>\n",
       "      <td>May</td>\n",
       "    </tr>\n",
       "    <tr>\n",
       "      <th>1087</th>\n",
       "      <td>1004_141</td>\n",
       "      <td>2018-11-08</td>\n",
       "      <td>1004</td>\n",
       "      <td>November</td>\n",
       "    </tr>\n",
       "    <tr>\n",
       "      <th>34751</th>\n",
       "      <td>1149_563</td>\n",
       "      <td>2018-05-24</td>\n",
       "      <td>1149</td>\n",
       "      <td>May</td>\n",
       "    </tr>\n",
       "  </tbody>\n",
       "</table>\n",
       "</div>"
      ],
      "text/plain": [
       "             id message_date  user_id     month\n",
       "39448  1168_226   2018-02-04     1168  February\n",
       "11417   1048_63   2018-11-12     1048  November\n",
       "89237  1373_249   2018-05-07     1373       May\n",
       "1087   1004_141   2018-11-08     1004  November\n",
       "34751  1149_563   2018-05-24     1149       May"
      ]
     },
     "metadata": {},
     "output_type": "display_data"
    }
   ],
   "source": [
    "# заведем столбец с именем месяца\n",
    "messages['month'] = messages['message_date'].dt.month_name()\n",
    "\n",
    "# проверим результат\n",
    "display(messages.sample(5))"
   ]
  },
  {
   "cell_type": "code",
   "execution_count": 14,
   "id": "5675fa7d",
   "metadata": {},
   "outputs": [
    {
     "data": {
      "text/html": [
       "<div>\n",
       "<style scoped>\n",
       "    .dataframe tbody tr th:only-of-type {\n",
       "        vertical-align: middle;\n",
       "    }\n",
       "\n",
       "    .dataframe tbody tr th {\n",
       "        vertical-align: top;\n",
       "    }\n",
       "\n",
       "    .dataframe thead th {\n",
       "        text-align: right;\n",
       "    }\n",
       "</style>\n",
       "<table border=\"1\" class=\"dataframe\">\n",
       "  <thead>\n",
       "    <tr style=\"text-align: right;\">\n",
       "      <th></th>\n",
       "      <th>user_id</th>\n",
       "      <th>month</th>\n",
       "      <th>message_count</th>\n",
       "    </tr>\n",
       "  </thead>\n",
       "  <tbody>\n",
       "    <tr>\n",
       "      <th>0</th>\n",
       "      <td>1000</td>\n",
       "      <td>August</td>\n",
       "      <td>81</td>\n",
       "    </tr>\n",
       "    <tr>\n",
       "      <th>1</th>\n",
       "      <td>1000</td>\n",
       "      <td>December</td>\n",
       "      <td>70</td>\n",
       "    </tr>\n",
       "    <tr>\n",
       "      <th>2</th>\n",
       "      <td>1000</td>\n",
       "      <td>July</td>\n",
       "      <td>75</td>\n",
       "    </tr>\n",
       "    <tr>\n",
       "      <th>3</th>\n",
       "      <td>1000</td>\n",
       "      <td>June</td>\n",
       "      <td>60</td>\n",
       "    </tr>\n",
       "    <tr>\n",
       "      <th>4</th>\n",
       "      <td>1000</td>\n",
       "      <td>May</td>\n",
       "      <td>22</td>\n",
       "    </tr>\n",
       "  </tbody>\n",
       "</table>\n",
       "</div>"
      ],
      "text/plain": [
       "   user_id     month  message_count\n",
       "0     1000    August             81\n",
       "1     1000  December             70\n",
       "2     1000      July             75\n",
       "3     1000      June             60\n",
       "4     1000       May             22"
      ]
     },
     "metadata": {},
     "output_type": "display_data"
    }
   ],
   "source": [
    "# заведем сводную таблицу по задаче\n",
    "messages_pivot = messages.pivot_table(index=['user_id', 'month'], values='message_date',\n",
    "                                      aggfunc=['count']).reset_index()\n",
    "\n",
    "# переименуем столбцы\n",
    "messages_pivot.columns = ['user_id', 'month', 'message_count']\n",
    "\n",
    "# проверим результат\n",
    "display(messages_pivot.head())"
   ]
  },
  {
   "cell_type": "markdown",
   "id": "d569ae72",
   "metadata": {},
   "source": [
    "### Объем израсходованного интернет-трафика по месяцам"
   ]
  },
  {
   "cell_type": "code",
   "execution_count": 15,
   "id": "d1e5b6f3",
   "metadata": {},
   "outputs": [
    {
     "name": "stdout",
     "output_type": "stream",
     "text": [
      "2.2 ms ± 361 µs per loop (mean ± std. dev. of 7 runs, 100 loops each)\n"
     ]
    },
    {
     "data": {
      "text/html": [
       "<div>\n",
       "<style scoped>\n",
       "    .dataframe tbody tr th:only-of-type {\n",
       "        vertical-align: middle;\n",
       "    }\n",
       "\n",
       "    .dataframe tbody tr th {\n",
       "        vertical-align: top;\n",
       "    }\n",
       "\n",
       "    .dataframe thead th {\n",
       "        text-align: right;\n",
       "    }\n",
       "</style>\n",
       "<table border=\"1\" class=\"dataframe\">\n",
       "  <thead>\n",
       "    <tr style=\"text-align: right;\">\n",
       "      <th></th>\n",
       "      <th>id</th>\n",
       "      <th>mb_used</th>\n",
       "      <th>session_date</th>\n",
       "      <th>user_id</th>\n",
       "      <th>month</th>\n",
       "      <th>mb_ceiled</th>\n",
       "    </tr>\n",
       "  </thead>\n",
       "  <tbody>\n",
       "    <tr>\n",
       "      <th>89017</th>\n",
       "      <td>1301_13</td>\n",
       "      <td>400.45</td>\n",
       "      <td>2018-12-26</td>\n",
       "      <td>1301</td>\n",
       "      <td>December</td>\n",
       "      <td>401.0</td>\n",
       "    </tr>\n",
       "    <tr>\n",
       "      <th>58687</th>\n",
       "      <td>1197_322</td>\n",
       "      <td>389.04</td>\n",
       "      <td>2018-08-12</td>\n",
       "      <td>1197</td>\n",
       "      <td>August</td>\n",
       "      <td>390.0</td>\n",
       "    </tr>\n",
       "    <tr>\n",
       "      <th>39214</th>\n",
       "      <td>1136_61</td>\n",
       "      <td>838.28</td>\n",
       "      <td>2018-11-19</td>\n",
       "      <td>1136</td>\n",
       "      <td>November</td>\n",
       "      <td>839.0</td>\n",
       "    </tr>\n",
       "    <tr>\n",
       "      <th>47898</th>\n",
       "      <td>1165_84</td>\n",
       "      <td>509.34</td>\n",
       "      <td>2018-11-02</td>\n",
       "      <td>1165</td>\n",
       "      <td>November</td>\n",
       "      <td>510.0</td>\n",
       "    </tr>\n",
       "    <tr>\n",
       "      <th>59626</th>\n",
       "      <td>1202_89</td>\n",
       "      <td>395.38</td>\n",
       "      <td>2018-11-13</td>\n",
       "      <td>1202</td>\n",
       "      <td>November</td>\n",
       "      <td>396.0</td>\n",
       "    </tr>\n",
       "  </tbody>\n",
       "</table>\n",
       "</div>"
      ],
      "text/plain": [
       "             id  mb_used session_date  user_id     month  mb_ceiled\n",
       "89017   1301_13   400.45   2018-12-26     1301  December      401.0\n",
       "58687  1197_322   389.04   2018-08-12     1197    August      390.0\n",
       "39214   1136_61   838.28   2018-11-19     1136  November      839.0\n",
       "47898   1165_84   509.34   2018-11-02     1165  November      510.0\n",
       "59626   1202_89   395.38   2018-11-13     1202  November      396.0"
      ]
     },
     "metadata": {},
     "output_type": "display_data"
    }
   ],
   "source": [
    "# заведем столбец с именем месяца\n",
    "internet['month'] = internet['session_date'].dt.month_name()\n",
    "\n",
    "# заведем столбец с округленным значением количества мегабайт\n",
    "%timeit internet['mb_ceiled'] = np.ceil(internet['mb_used'])\n",
    "\n",
    "# проверим результат\n",
    "display(internet.sample(5))"
   ]
  },
  {
   "cell_type": "code",
   "execution_count": 16,
   "id": "84e7a329",
   "metadata": {},
   "outputs": [
    {
     "data": {
      "text/html": [
       "<div>\n",
       "<style scoped>\n",
       "    .dataframe tbody tr th:only-of-type {\n",
       "        vertical-align: middle;\n",
       "    }\n",
       "\n",
       "    .dataframe tbody tr th {\n",
       "        vertical-align: top;\n",
       "    }\n",
       "\n",
       "    .dataframe thead th {\n",
       "        text-align: right;\n",
       "    }\n",
       "</style>\n",
       "<table border=\"1\" class=\"dataframe\">\n",
       "  <thead>\n",
       "    <tr style=\"text-align: right;\">\n",
       "      <th></th>\n",
       "      <th>user_id</th>\n",
       "      <th>month</th>\n",
       "      <th>traffic_sum</th>\n",
       "    </tr>\n",
       "  </thead>\n",
       "  <tbody>\n",
       "    <tr>\n",
       "      <th>0</th>\n",
       "      <td>1000</td>\n",
       "      <td>August</td>\n",
       "      <td>14070.0</td>\n",
       "    </tr>\n",
       "    <tr>\n",
       "      <th>1</th>\n",
       "      <td>1000</td>\n",
       "      <td>December</td>\n",
       "      <td>9827.0</td>\n",
       "    </tr>\n",
       "    <tr>\n",
       "      <th>2</th>\n",
       "      <td>1000</td>\n",
       "      <td>July</td>\n",
       "      <td>14016.0</td>\n",
       "    </tr>\n",
       "    <tr>\n",
       "      <th>3</th>\n",
       "      <td>1000</td>\n",
       "      <td>June</td>\n",
       "      <td>23257.0</td>\n",
       "    </tr>\n",
       "    <tr>\n",
       "      <th>4</th>\n",
       "      <td>1000</td>\n",
       "      <td>May</td>\n",
       "      <td>2256.0</td>\n",
       "    </tr>\n",
       "  </tbody>\n",
       "</table>\n",
       "</div>"
      ],
      "text/plain": [
       "   user_id     month  traffic_sum\n",
       "0     1000    August      14070.0\n",
       "1     1000  December       9827.0\n",
       "2     1000      July      14016.0\n",
       "3     1000      June      23257.0\n",
       "4     1000       May       2256.0"
      ]
     },
     "metadata": {},
     "output_type": "display_data"
    }
   ],
   "source": [
    "# заведем сводную таблицу по задаче\n",
    "internet_pivot = internet.pivot_table(index=['user_id', 'month'], values='mb_ceiled',\n",
    "                                      aggfunc=['sum']).reset_index()\n",
    "\n",
    "# переименуем столбцы\n",
    "internet_pivot.columns = ['user_id', 'month', 'traffic_sum']\n",
    "\n",
    "# проверим результат\n",
    "display(internet_pivot.head())"
   ]
  },
  {
   "cell_type": "markdown",
   "id": "645c35ac",
   "metadata": {},
   "source": [
    "### Помесячная выручка с каждого пользователя (RPU)"
   ]
  },
  {
   "cell_type": "code",
   "execution_count": 17,
   "id": "8010711a",
   "metadata": {},
   "outputs": [
    {
     "data": {
      "text/html": [
       "<div>\n",
       "<style scoped>\n",
       "    .dataframe tbody tr th:only-of-type {\n",
       "        vertical-align: middle;\n",
       "    }\n",
       "\n",
       "    .dataframe tbody tr th {\n",
       "        vertical-align: top;\n",
       "    }\n",
       "\n",
       "    .dataframe thead th {\n",
       "        text-align: right;\n",
       "    }\n",
       "</style>\n",
       "<table border=\"1\" class=\"dataframe\">\n",
       "  <thead>\n",
       "    <tr style=\"text-align: right;\">\n",
       "      <th></th>\n",
       "      <th>user_id</th>\n",
       "      <th>month</th>\n",
       "      <th>calls_count</th>\n",
       "      <th>calls_duration</th>\n",
       "      <th>message_count</th>\n",
       "      <th>traffic_sum</th>\n",
       "      <th>tariff</th>\n",
       "      <th>city</th>\n",
       "    </tr>\n",
       "  </thead>\n",
       "  <tbody>\n",
       "    <tr>\n",
       "      <th>0</th>\n",
       "      <td>1000</td>\n",
       "      <td>August</td>\n",
       "      <td>42.0</td>\n",
       "      <td>408.0</td>\n",
       "      <td>81.0</td>\n",
       "      <td>14070.0</td>\n",
       "      <td>ultra</td>\n",
       "      <td>Краснодар</td>\n",
       "    </tr>\n",
       "    <tr>\n",
       "      <th>1</th>\n",
       "      <td>1000</td>\n",
       "      <td>December</td>\n",
       "      <td>38.0</td>\n",
       "      <td>333.0</td>\n",
       "      <td>70.0</td>\n",
       "      <td>9827.0</td>\n",
       "      <td>ultra</td>\n",
       "      <td>Краснодар</td>\n",
       "    </tr>\n",
       "    <tr>\n",
       "      <th>2</th>\n",
       "      <td>1000</td>\n",
       "      <td>July</td>\n",
       "      <td>41.0</td>\n",
       "      <td>340.0</td>\n",
       "      <td>75.0</td>\n",
       "      <td>14016.0</td>\n",
       "      <td>ultra</td>\n",
       "      <td>Краснодар</td>\n",
       "    </tr>\n",
       "    <tr>\n",
       "      <th>3</th>\n",
       "      <td>1000</td>\n",
       "      <td>June</td>\n",
       "      <td>28.0</td>\n",
       "      <td>172.0</td>\n",
       "      <td>60.0</td>\n",
       "      <td>23257.0</td>\n",
       "      <td>ultra</td>\n",
       "      <td>Краснодар</td>\n",
       "    </tr>\n",
       "    <tr>\n",
       "      <th>4</th>\n",
       "      <td>1000</td>\n",
       "      <td>May</td>\n",
       "      <td>17.0</td>\n",
       "      <td>159.0</td>\n",
       "      <td>22.0</td>\n",
       "      <td>2256.0</td>\n",
       "      <td>ultra</td>\n",
       "      <td>Краснодар</td>\n",
       "    </tr>\n",
       "    <tr>\n",
       "      <th>...</th>\n",
       "      <td>...</td>\n",
       "      <td>...</td>\n",
       "      <td>...</td>\n",
       "      <td>...</td>\n",
       "      <td>...</td>\n",
       "      <td>...</td>\n",
       "      <td>...</td>\n",
       "      <td>...</td>\n",
       "    </tr>\n",
       "    <tr>\n",
       "      <th>3209</th>\n",
       "      <td>1489</td>\n",
       "      <td>November</td>\n",
       "      <td>0.0</td>\n",
       "      <td>0.0</td>\n",
       "      <td>20.0</td>\n",
       "      <td>17516.0</td>\n",
       "      <td>smart</td>\n",
       "      <td>Санкт-Петербург</td>\n",
       "    </tr>\n",
       "    <tr>\n",
       "      <th>3210</th>\n",
       "      <td>1489</td>\n",
       "      <td>October</td>\n",
       "      <td>0.0</td>\n",
       "      <td>0.0</td>\n",
       "      <td>21.0</td>\n",
       "      <td>19588.0</td>\n",
       "      <td>smart</td>\n",
       "      <td>Санкт-Петербург</td>\n",
       "    </tr>\n",
       "    <tr>\n",
       "      <th>3211</th>\n",
       "      <td>1489</td>\n",
       "      <td>September</td>\n",
       "      <td>0.0</td>\n",
       "      <td>0.0</td>\n",
       "      <td>32.0</td>\n",
       "      <td>17232.0</td>\n",
       "      <td>smart</td>\n",
       "      <td>Санкт-Петербург</td>\n",
       "    </tr>\n",
       "    <tr>\n",
       "      <th>3212</th>\n",
       "      <td>1240</td>\n",
       "      <td>February</td>\n",
       "      <td>0.0</td>\n",
       "      <td>0.0</td>\n",
       "      <td>0.0</td>\n",
       "      <td>961.0</td>\n",
       "      <td>ultra</td>\n",
       "      <td>Воронеж</td>\n",
       "    </tr>\n",
       "    <tr>\n",
       "      <th>3213</th>\n",
       "      <td>1476</td>\n",
       "      <td>April</td>\n",
       "      <td>0.0</td>\n",
       "      <td>0.0</td>\n",
       "      <td>0.0</td>\n",
       "      <td>531.0</td>\n",
       "      <td>ultra</td>\n",
       "      <td>Москва</td>\n",
       "    </tr>\n",
       "  </tbody>\n",
       "</table>\n",
       "<p>3214 rows × 8 columns</p>\n",
       "</div>"
      ],
      "text/plain": [
       "      user_id      month  calls_count  calls_duration  message_count  \\\n",
       "0        1000     August         42.0           408.0           81.0   \n",
       "1        1000   December         38.0           333.0           70.0   \n",
       "2        1000       July         41.0           340.0           75.0   \n",
       "3        1000       June         28.0           172.0           60.0   \n",
       "4        1000        May         17.0           159.0           22.0   \n",
       "...       ...        ...          ...             ...            ...   \n",
       "3209     1489   November          0.0             0.0           20.0   \n",
       "3210     1489    October          0.0             0.0           21.0   \n",
       "3211     1489  September          0.0             0.0           32.0   \n",
       "3212     1240   February          0.0             0.0            0.0   \n",
       "3213     1476      April          0.0             0.0            0.0   \n",
       "\n",
       "      traffic_sum tariff             city  \n",
       "0         14070.0  ultra        Краснодар  \n",
       "1          9827.0  ultra        Краснодар  \n",
       "2         14016.0  ultra        Краснодар  \n",
       "3         23257.0  ultra        Краснодар  \n",
       "4          2256.0  ultra        Краснодар  \n",
       "...           ...    ...              ...  \n",
       "3209      17516.0  smart  Санкт-Петербург  \n",
       "3210      19588.0  smart  Санкт-Петербург  \n",
       "3211      17232.0  smart  Санкт-Петербург  \n",
       "3212        961.0  ultra          Воронеж  \n",
       "3213        531.0  ultra           Москва  \n",
       "\n",
       "[3214 rows x 8 columns]"
      ]
     },
     "metadata": {},
     "output_type": "display_data"
    }
   ],
   "source": [
    "# создадим сводную таблицу с цифрами расхода по всем видам услуг и названием тарифа\n",
    "users_pivot = calls_pivot.merge(\n",
    "    messages_pivot, on=['user_id', 'month'], how='outer').merge(\n",
    "    internet_pivot, on=['user_id', 'month'], how='outer').merge(\n",
    "    users[['user_id', 'tariff', 'city']], on=['user_id'], how='left')\n",
    "\n",
    "# заполним пустые ячейки нулями\n",
    "users_pivot = users_pivot.fillna(0)\n",
    "\n",
    "# проверим результат\n",
    "display(users_pivot)"
   ]
  },
  {
   "cell_type": "code",
   "execution_count": 18,
   "id": "3347a529",
   "metadata": {},
   "outputs": [],
   "source": [
    "# инициализируем длинную функцию для расчёта revenue\n",
    "def revenue(row):\n",
    "\n",
    "    # заведём короткие переменные\n",
    "    used_minutes = row['calls_duration']\n",
    "    used_messages = row['message_count']\n",
    "    used_internet = row['traffic_sum']\n",
    "    tariff_name = row['tariff']\n",
    "\n",
    "    # достанем данные из тарифного плана\n",
    "    rate = tariffs.query('tariff_name == @tariff_name').reset_index()\n",
    "\n",
    "    # возьмём размер включенных в тариф услуг\n",
    "    minutes_incl = rate['minutes_included'][0]\n",
    "    messages_incl = rate['messages_included'][0]\n",
    "    internet_incl = rate['mb_per_month_included'][0]\n",
    "\n",
    "    # возьмём стоимость услуг\n",
    "    monthly_fee = rate['rub_monthly_fee'][0]\n",
    "\n",
    "    rub_per_minute = rate['rub_per_minute'][0]\n",
    "    rub_per_message = rate['rub_per_message'][0]\n",
    "    rub_per_gb = rate['rub_per_gb'][0]\n",
    "\n",
    "    # переплата за минуты\n",
    "    if used_minutes > minutes_incl:\n",
    "        paid_minutes = int((used_minutes - minutes_incl) * rub_per_minute)\n",
    "    else:\n",
    "        paid_minutes = 0\n",
    "\n",
    "    # переплата за смс\n",
    "    if used_messages > messages_incl:\n",
    "        paid_messages = int((used_messages - messages_incl) * rub_per_message)\n",
    "    else:\n",
    "        paid_messages = 0\n",
    "\n",
    "    # переплата за интернет\n",
    "    if used_internet > internet_incl:\n",
    "        paid_internet = int(\n",
    "            np.ceil((used_internet - internet_incl) / 1024) * rub_per_gb)\n",
    "    else:\n",
    "        paid_internet = 0\n",
    "\n",
    "    # сумма расходов за месяц\n",
    "    revenue = monthly_fee + paid_minutes + paid_messages + paid_internet\n",
    "\n",
    "    return revenue"
   ]
  },
  {
   "cell_type": "code",
   "execution_count": 19,
   "id": "f0659063",
   "metadata": {},
   "outputs": [
    {
     "data": {
      "text/html": [
       "<div>\n",
       "<style scoped>\n",
       "    .dataframe tbody tr th:only-of-type {\n",
       "        vertical-align: middle;\n",
       "    }\n",
       "\n",
       "    .dataframe tbody tr th {\n",
       "        vertical-align: top;\n",
       "    }\n",
       "\n",
       "    .dataframe thead th {\n",
       "        text-align: right;\n",
       "    }\n",
       "</style>\n",
       "<table border=\"1\" class=\"dataframe\">\n",
       "  <thead>\n",
       "    <tr style=\"text-align: right;\">\n",
       "      <th></th>\n",
       "      <th>user_id</th>\n",
       "      <th>month</th>\n",
       "      <th>calls_count</th>\n",
       "      <th>calls_duration</th>\n",
       "      <th>message_count</th>\n",
       "      <th>traffic_sum</th>\n",
       "      <th>tariff</th>\n",
       "      <th>city</th>\n",
       "      <th>revenue</th>\n",
       "    </tr>\n",
       "  </thead>\n",
       "  <tbody>\n",
       "    <tr>\n",
       "      <th>2287</th>\n",
       "      <td>1368</td>\n",
       "      <td>December</td>\n",
       "      <td>45.0</td>\n",
       "      <td>403.0</td>\n",
       "      <td>89.0</td>\n",
       "      <td>20500.0</td>\n",
       "      <td>smart</td>\n",
       "      <td>Омск</td>\n",
       "      <td>1867</td>\n",
       "    </tr>\n",
       "    <tr>\n",
       "      <th>1648</th>\n",
       "      <td>1265</td>\n",
       "      <td>July</td>\n",
       "      <td>81.0</td>\n",
       "      <td>752.0</td>\n",
       "      <td>94.0</td>\n",
       "      <td>38924.0</td>\n",
       "      <td>ultra</td>\n",
       "      <td>Омск</td>\n",
       "      <td>3300</td>\n",
       "    </tr>\n",
       "    <tr>\n",
       "      <th>1681</th>\n",
       "      <td>1270</td>\n",
       "      <td>October</td>\n",
       "      <td>38.0</td>\n",
       "      <td>352.0</td>\n",
       "      <td>53.0</td>\n",
       "      <td>5916.0</td>\n",
       "      <td>ultra</td>\n",
       "      <td>Нижневартовск</td>\n",
       "      <td>1950</td>\n",
       "    </tr>\n",
       "    <tr>\n",
       "      <th>287</th>\n",
       "      <td>1046</td>\n",
       "      <td>August</td>\n",
       "      <td>22.0</td>\n",
       "      <td>228.0</td>\n",
       "      <td>13.0</td>\n",
       "      <td>7645.0</td>\n",
       "      <td>smart</td>\n",
       "      <td>Тула</td>\n",
       "      <td>550</td>\n",
       "    </tr>\n",
       "    <tr>\n",
       "      <th>2475</th>\n",
       "      <td>1393</td>\n",
       "      <td>December</td>\n",
       "      <td>75.0</td>\n",
       "      <td>651.0</td>\n",
       "      <td>59.0</td>\n",
       "      <td>17391.0</td>\n",
       "      <td>smart</td>\n",
       "      <td>Краснодар</td>\n",
       "      <td>1430</td>\n",
       "    </tr>\n",
       "  </tbody>\n",
       "</table>\n",
       "</div>"
      ],
      "text/plain": [
       "      user_id     month  calls_count  calls_duration  message_count  \\\n",
       "2287     1368  December         45.0           403.0           89.0   \n",
       "1648     1265      July         81.0           752.0           94.0   \n",
       "1681     1270   October         38.0           352.0           53.0   \n",
       "287      1046    August         22.0           228.0           13.0   \n",
       "2475     1393  December         75.0           651.0           59.0   \n",
       "\n",
       "      traffic_sum tariff           city  revenue  \n",
       "2287      20500.0  smart           Омск     1867  \n",
       "1648      38924.0  ultra           Омск     3300  \n",
       "1681       5916.0  ultra  Нижневартовск     1950  \n",
       "287        7645.0  smart           Тула      550  \n",
       "2475      17391.0  smart      Краснодар     1430  "
      ]
     },
     "metadata": {},
     "output_type": "display_data"
    }
   ],
   "source": [
    "# заполним столбец\n",
    "users_pivot['revenue'] = users_pivot.apply(revenue, axis=1)\n",
    "\n",
    "# проверим результат\n",
    "display(users_pivot.sample(5))"
   ]
  },
  {
   "cell_type": "markdown",
   "id": "80d285ee",
   "metadata": {},
   "source": [
    "### Категоризация: Москва / Регионы"
   ]
  },
  {
   "cell_type": "code",
   "execution_count": 20,
   "id": "f9102f8d",
   "metadata": {},
   "outputs": [
    {
     "data": {
      "text/html": [
       "<div>\n",
       "<style scoped>\n",
       "    .dataframe tbody tr th:only-of-type {\n",
       "        vertical-align: middle;\n",
       "    }\n",
       "\n",
       "    .dataframe tbody tr th {\n",
       "        vertical-align: top;\n",
       "    }\n",
       "\n",
       "    .dataframe thead th {\n",
       "        text-align: right;\n",
       "    }\n",
       "</style>\n",
       "<table border=\"1\" class=\"dataframe\">\n",
       "  <thead>\n",
       "    <tr style=\"text-align: right;\">\n",
       "      <th></th>\n",
       "      <th>user_id</th>\n",
       "      <th>month</th>\n",
       "      <th>calls_count</th>\n",
       "      <th>calls_duration</th>\n",
       "      <th>message_count</th>\n",
       "      <th>traffic_sum</th>\n",
       "      <th>tariff</th>\n",
       "      <th>city</th>\n",
       "      <th>revenue</th>\n",
       "      <th>is_moscow</th>\n",
       "    </tr>\n",
       "  </thead>\n",
       "  <tbody>\n",
       "    <tr>\n",
       "      <th>845</th>\n",
       "      <td>1135</td>\n",
       "      <td>July</td>\n",
       "      <td>44.0</td>\n",
       "      <td>382.0</td>\n",
       "      <td>22.0</td>\n",
       "      <td>19434.0</td>\n",
       "      <td>smart</td>\n",
       "      <td>Архангельск</td>\n",
       "      <td>1350</td>\n",
       "      <td>False</td>\n",
       "    </tr>\n",
       "    <tr>\n",
       "      <th>529</th>\n",
       "      <td>1084</td>\n",
       "      <td>December</td>\n",
       "      <td>52.0</td>\n",
       "      <td>501.0</td>\n",
       "      <td>98.0</td>\n",
       "      <td>30372.0</td>\n",
       "      <td>ultra</td>\n",
       "      <td>Саранск</td>\n",
       "      <td>1950</td>\n",
       "      <td>False</td>\n",
       "    </tr>\n",
       "    <tr>\n",
       "      <th>1370</th>\n",
       "      <td>1217</td>\n",
       "      <td>September</td>\n",
       "      <td>52.0</td>\n",
       "      <td>418.0</td>\n",
       "      <td>68.0</td>\n",
       "      <td>16031.0</td>\n",
       "      <td>smart</td>\n",
       "      <td>Ульяновск</td>\n",
       "      <td>804</td>\n",
       "      <td>False</td>\n",
       "    </tr>\n",
       "    <tr>\n",
       "      <th>1955</th>\n",
       "      <td>1313</td>\n",
       "      <td>December</td>\n",
       "      <td>104.0</td>\n",
       "      <td>964.0</td>\n",
       "      <td>28.0</td>\n",
       "      <td>21673.0</td>\n",
       "      <td>smart</td>\n",
       "      <td>Ставрополь</td>\n",
       "      <td>3342</td>\n",
       "      <td>False</td>\n",
       "    </tr>\n",
       "    <tr>\n",
       "      <th>3172</th>\n",
       "      <td>1091</td>\n",
       "      <td>May</td>\n",
       "      <td>0.0</td>\n",
       "      <td>0.0</td>\n",
       "      <td>30.0</td>\n",
       "      <td>10714.0</td>\n",
       "      <td>ultra</td>\n",
       "      <td>Набережные Челны</td>\n",
       "      <td>1950</td>\n",
       "      <td>False</td>\n",
       "    </tr>\n",
       "  </tbody>\n",
       "</table>\n",
       "</div>"
      ],
      "text/plain": [
       "      user_id      month  calls_count  calls_duration  message_count  \\\n",
       "845      1135       July         44.0           382.0           22.0   \n",
       "529      1084   December         52.0           501.0           98.0   \n",
       "1370     1217  September         52.0           418.0           68.0   \n",
       "1955     1313   December        104.0           964.0           28.0   \n",
       "3172     1091        May          0.0             0.0           30.0   \n",
       "\n",
       "      traffic_sum tariff              city  revenue  is_moscow  \n",
       "845       19434.0  smart       Архангельск     1350      False  \n",
       "529       30372.0  ultra           Саранск     1950      False  \n",
       "1370      16031.0  smart         Ульяновск      804      False  \n",
       "1955      21673.0  smart        Ставрополь     3342      False  \n",
       "3172      10714.0  ultra  Набережные Челны     1950      False  "
      ]
     },
     "metadata": {},
     "output_type": "display_data"
    }
   ],
   "source": [
    "# добавим столбец с категорией is_moscow для простого разделения на Москву и регионы\n",
    "users_pivot['is_moscow'] = users_pivot.apply(\n",
    "    lambda row: True if row['city'] == \"Москва\" else False, axis=1)\n",
    "\n",
    "# проверим результат\n",
    "display(users_pivot.sample(5))"
   ]
  },
  {
   "cell_type": "markdown",
   "id": "9fb56b4b",
   "metadata": {},
   "source": [
    "### Категоризация по превышению включенных в абон. плату услуг"
   ]
  },
  {
   "cell_type": "code",
   "execution_count": 21,
   "id": "bb6f243f",
   "metadata": {},
   "outputs": [],
   "source": [
    "# инициализируем функцию для расчёта превышения абон. платы\n",
    "def is_overlimit(row):\n",
    "    if row['tariff'] == 'smart' and row['revenue'] > 550:\n",
    "        return True\n",
    "\n",
    "    if row['tariff'] == 'ultra' and row['revenue'] > 1950:\n",
    "        return True\n",
    "\n",
    "    return False"
   ]
  },
  {
   "cell_type": "code",
   "execution_count": 22,
   "id": "c5524819",
   "metadata": {},
   "outputs": [
    {
     "data": {
      "text/html": [
       "<div>\n",
       "<style scoped>\n",
       "    .dataframe tbody tr th:only-of-type {\n",
       "        vertical-align: middle;\n",
       "    }\n",
       "\n",
       "    .dataframe tbody tr th {\n",
       "        vertical-align: top;\n",
       "    }\n",
       "\n",
       "    .dataframe thead th {\n",
       "        text-align: right;\n",
       "    }\n",
       "</style>\n",
       "<table border=\"1\" class=\"dataframe\">\n",
       "  <thead>\n",
       "    <tr style=\"text-align: right;\">\n",
       "      <th></th>\n",
       "      <th>user_id</th>\n",
       "      <th>month</th>\n",
       "      <th>calls_count</th>\n",
       "      <th>calls_duration</th>\n",
       "      <th>message_count</th>\n",
       "      <th>traffic_sum</th>\n",
       "      <th>tariff</th>\n",
       "      <th>city</th>\n",
       "      <th>revenue</th>\n",
       "      <th>is_moscow</th>\n",
       "      <th>is_overlimit</th>\n",
       "    </tr>\n",
       "  </thead>\n",
       "  <tbody>\n",
       "    <tr>\n",
       "      <th>1560</th>\n",
       "      <td>1250</td>\n",
       "      <td>July</td>\n",
       "      <td>59.0</td>\n",
       "      <td>487.0</td>\n",
       "      <td>38.0</td>\n",
       "      <td>12946.0</td>\n",
       "      <td>smart</td>\n",
       "      <td>Смоленск</td>\n",
       "      <td>550</td>\n",
       "      <td>False</td>\n",
       "      <td>False</td>\n",
       "    </tr>\n",
       "    <tr>\n",
       "      <th>79</th>\n",
       "      <td>1011</td>\n",
       "      <td>August</td>\n",
       "      <td>58.0</td>\n",
       "      <td>515.0</td>\n",
       "      <td>15.0</td>\n",
       "      <td>21526.0</td>\n",
       "      <td>smart</td>\n",
       "      <td>Самара</td>\n",
       "      <td>1995</td>\n",
       "      <td>False</td>\n",
       "      <td>True</td>\n",
       "    </tr>\n",
       "    <tr>\n",
       "      <th>1086</th>\n",
       "      <td>1174</td>\n",
       "      <td>February</td>\n",
       "      <td>16.0</td>\n",
       "      <td>118.0</td>\n",
       "      <td>19.0</td>\n",
       "      <td>11345.0</td>\n",
       "      <td>smart</td>\n",
       "      <td>Санкт-Петербург</td>\n",
       "      <td>550</td>\n",
       "      <td>False</td>\n",
       "      <td>False</td>\n",
       "    </tr>\n",
       "    <tr>\n",
       "      <th>2539</th>\n",
       "      <td>1401</td>\n",
       "      <td>October</td>\n",
       "      <td>45.0</td>\n",
       "      <td>402.0</td>\n",
       "      <td>40.0</td>\n",
       "      <td>12410.0</td>\n",
       "      <td>smart</td>\n",
       "      <td>Москва</td>\n",
       "      <td>550</td>\n",
       "      <td>True</td>\n",
       "      <td>False</td>\n",
       "    </tr>\n",
       "    <tr>\n",
       "      <th>1119</th>\n",
       "      <td>1177</td>\n",
       "      <td>November</td>\n",
       "      <td>42.0</td>\n",
       "      <td>341.0</td>\n",
       "      <td>0.0</td>\n",
       "      <td>15395.0</td>\n",
       "      <td>smart</td>\n",
       "      <td>Новосибирск</td>\n",
       "      <td>750</td>\n",
       "      <td>False</td>\n",
       "      <td>True</td>\n",
       "    </tr>\n",
       "  </tbody>\n",
       "</table>\n",
       "</div>"
      ],
      "text/plain": [
       "      user_id     month  calls_count  calls_duration  message_count  \\\n",
       "1560     1250      July         59.0           487.0           38.0   \n",
       "79       1011    August         58.0           515.0           15.0   \n",
       "1086     1174  February         16.0           118.0           19.0   \n",
       "2539     1401   October         45.0           402.0           40.0   \n",
       "1119     1177  November         42.0           341.0            0.0   \n",
       "\n",
       "      traffic_sum tariff             city  revenue  is_moscow  is_overlimit  \n",
       "1560      12946.0  smart         Смоленск      550      False         False  \n",
       "79        21526.0  smart           Самара     1995      False          True  \n",
       "1086      11345.0  smart  Санкт-Петербург      550      False         False  \n",
       "2539      12410.0  smart           Москва      550       True         False  \n",
       "1119      15395.0  smart      Новосибирск      750      False          True  "
      ]
     },
     "metadata": {},
     "output_type": "display_data"
    }
   ],
   "source": [
    "# добавим столбец с категорией is_overlimit для простого разделения на абонентов с превышением и без\n",
    "users_pivot['is_overlimit'] = users_pivot.apply(is_overlimit, axis=1)\n",
    "\n",
    "# проверим результат\n",
    "display(users_pivot.sample(5))"
   ]
  },
  {
   "cell_type": "markdown",
   "id": "2d0c4174",
   "metadata": {},
   "source": [
    "### Вывод"
   ]
  },
  {
   "cell_type": "markdown",
   "id": "7906b4cb",
   "metadata": {},
   "source": [
    "Мы заменили типы, исправили ошибку со звонками нулевой длины. Расчитали округлённые параметры и на их основе добавили в таблицу сумму ежемесячного дохода по каждому клиенту. Ввели категоризацию для разделения абонентов из Москвы и регионов, с превышением лимитов и без. Можно переходить к следующему шагу."
   ]
  },
  {
   "cell_type": "markdown",
   "id": "8f66b989",
   "metadata": {},
   "source": [
    "## Шаг 3. Анализ данных"
   ]
  },
  {
   "cell_type": "markdown",
   "id": "df9d7481",
   "metadata": {},
   "source": [
    "Опишем поведение клиентов оператора, исходя из выборки. Узнаем сколько минут разговора, сколько сообщений и какой объём интернет-трафика требуется пользователям каждого тарифа в месяц. Посчитаем среднее количество, дисперсию и стандартное отклонение. Построим гистограммы. Опишем распределения."
   ]
  },
  {
   "cell_type": "code",
   "execution_count": 23,
   "id": "9bc131ae",
   "metadata": {},
   "outputs": [
    {
     "data": {
      "text/html": [
       "<div>\n",
       "<style scoped>\n",
       "    .dataframe tbody tr th:only-of-type {\n",
       "        vertical-align: middle;\n",
       "    }\n",
       "\n",
       "    .dataframe tbody tr th {\n",
       "        vertical-align: top;\n",
       "    }\n",
       "\n",
       "    .dataframe thead th {\n",
       "        text-align: right;\n",
       "    }\n",
       "</style>\n",
       "<table border=\"1\" class=\"dataframe\">\n",
       "  <thead>\n",
       "    <tr style=\"text-align: right;\">\n",
       "      <th></th>\n",
       "      <th>tariff</th>\n",
       "      <th>user_id</th>\n",
       "      <th>calls_mean</th>\n",
       "      <th>messages_mean</th>\n",
       "      <th>internet_mean</th>\n",
       "    </tr>\n",
       "  </thead>\n",
       "  <tbody>\n",
       "    <tr>\n",
       "      <th>0</th>\n",
       "      <td>smart</td>\n",
       "      <td>1001</td>\n",
       "      <td>422</td>\n",
       "      <td>0</td>\n",
       "      <td>16252</td>\n",
       "    </tr>\n",
       "    <tr>\n",
       "      <th>1</th>\n",
       "      <td>smart</td>\n",
       "      <td>1002</td>\n",
       "      <td>217</td>\n",
       "      <td>10</td>\n",
       "      <td>16598</td>\n",
       "    </tr>\n",
       "    <tr>\n",
       "      <th>2</th>\n",
       "      <td>smart</td>\n",
       "      <td>1005</td>\n",
       "      <td>550</td>\n",
       "      <td>46</td>\n",
       "      <td>8318</td>\n",
       "    </tr>\n",
       "    <tr>\n",
       "      <th>3</th>\n",
       "      <td>smart</td>\n",
       "      <td>1006</td>\n",
       "      <td>318</td>\n",
       "      <td>0</td>\n",
       "      <td>14945</td>\n",
       "    </tr>\n",
       "    <tr>\n",
       "      <th>4</th>\n",
       "      <td>smart</td>\n",
       "      <td>1007</td>\n",
       "      <td>487</td>\n",
       "      <td>25</td>\n",
       "      <td>14644</td>\n",
       "    </tr>\n",
       "    <tr>\n",
       "      <th>...</th>\n",
       "      <td>...</td>\n",
       "      <td>...</td>\n",
       "      <td>...</td>\n",
       "      <td>...</td>\n",
       "      <td>...</td>\n",
       "    </tr>\n",
       "    <tr>\n",
       "      <th>493</th>\n",
       "      <td>ultra</td>\n",
       "      <td>1476</td>\n",
       "      <td>467</td>\n",
       "      <td>5</td>\n",
       "      <td>16714</td>\n",
       "    </tr>\n",
       "    <tr>\n",
       "      <th>494</th>\n",
       "      <td>ultra</td>\n",
       "      <td>1485</td>\n",
       "      <td>584</td>\n",
       "      <td>155</td>\n",
       "      <td>23447</td>\n",
       "    </tr>\n",
       "    <tr>\n",
       "      <th>495</th>\n",
       "      <td>ultra</td>\n",
       "      <td>1491</td>\n",
       "      <td>513</td>\n",
       "      <td>48</td>\n",
       "      <td>17957</td>\n",
       "    </tr>\n",
       "    <tr>\n",
       "      <th>496</th>\n",
       "      <td>ultra</td>\n",
       "      <td>1493</td>\n",
       "      <td>372</td>\n",
       "      <td>47</td>\n",
       "      <td>27234</td>\n",
       "    </tr>\n",
       "    <tr>\n",
       "      <th>497</th>\n",
       "      <td>ultra</td>\n",
       "      <td>1495</td>\n",
       "      <td>784</td>\n",
       "      <td>68</td>\n",
       "      <td>25507</td>\n",
       "    </tr>\n",
       "  </tbody>\n",
       "</table>\n",
       "<p>498 rows × 5 columns</p>\n",
       "</div>"
      ],
      "text/plain": [
       "    tariff  user_id  calls_mean  messages_mean  internet_mean\n",
       "0    smart     1001         422              0          16252\n",
       "1    smart     1002         217             10          16598\n",
       "2    smart     1005         550             46           8318\n",
       "3    smart     1006         318              0          14945\n",
       "4    smart     1007         487             25          14644\n",
       "..     ...      ...         ...            ...            ...\n",
       "493  ultra     1476         467              5          16714\n",
       "494  ultra     1485         584            155          23447\n",
       "495  ultra     1491         513             48          17957\n",
       "496  ultra     1493         372             47          27234\n",
       "497  ultra     1495         784             68          25507\n",
       "\n",
       "[498 rows x 5 columns]"
      ]
     },
     "metadata": {},
     "output_type": "display_data"
    }
   ],
   "source": [
    "# составим сводную таблицу со средними значениями по всем услугам (с группировкой по user_id)\n",
    "tariff_users_mean = users_pivot.pivot_table(index=['tariff', 'user_id'], values=[\n",
    "                                            'calls_duration', 'message_count', 'traffic_sum']).reset_index()\n",
    "# переименуем столбцы\n",
    "tariff_users_mean.columns = ['tariff', 'user_id',\n",
    "                             'calls_mean', 'messages_mean', 'internet_mean']\n",
    "\n",
    "# преобразуем float в int в столбцах с рассчитанным средним\n",
    "tariff_users_mean[['calls_mean', 'messages_mean', 'internet_mean']] = round(tariff_users_mean[[\n",
    "    'calls_mean', 'messages_mean', 'internet_mean']]).astype('int')\n",
    "\n",
    "# проверим результат\n",
    "display(tariff_users_mean)"
   ]
  },
  {
   "cell_type": "markdown",
   "id": "45555f38",
   "metadata": {},
   "source": [
    "### Минуты разговора"
   ]
  },
  {
   "cell_type": "code",
   "execution_count": 24,
   "id": "02938075",
   "metadata": {
    "scrolled": false
   },
   "outputs": [
    {
     "data": {
      "text/html": [
       "<div>\n",
       "<style scoped>\n",
       "    .dataframe tbody tr th:only-of-type {\n",
       "        vertical-align: middle;\n",
       "    }\n",
       "\n",
       "    .dataframe tbody tr th {\n",
       "        vertical-align: top;\n",
       "    }\n",
       "\n",
       "    .dataframe thead tr th {\n",
       "        text-align: left;\n",
       "    }\n",
       "</style>\n",
       "<table border=\"1\" class=\"dataframe\">\n",
       "  <thead>\n",
       "    <tr>\n",
       "      <th></th>\n",
       "      <th>tariff</th>\n",
       "      <th>median</th>\n",
       "      <th>mean</th>\n",
       "      <th>var</th>\n",
       "      <th>std</th>\n",
       "    </tr>\n",
       "    <tr>\n",
       "      <th></th>\n",
       "      <th></th>\n",
       "      <th>calls_duration</th>\n",
       "      <th>calls_duration</th>\n",
       "      <th>calls_duration</th>\n",
       "      <th>calls_duration</th>\n",
       "    </tr>\n",
       "  </thead>\n",
       "  <tbody>\n",
       "    <tr>\n",
       "      <th>0</th>\n",
       "      <td>smart</td>\n",
       "      <td>422.0</td>\n",
       "      <td>418.0</td>\n",
       "      <td>36219.0</td>\n",
       "      <td>190.0</td>\n",
       "    </tr>\n",
       "    <tr>\n",
       "      <th>1</th>\n",
       "      <td>ultra</td>\n",
       "      <td>518.0</td>\n",
       "      <td>527.0</td>\n",
       "      <td>100874.0</td>\n",
       "      <td>318.0</td>\n",
       "    </tr>\n",
       "  </tbody>\n",
       "</table>\n",
       "</div>"
      ],
      "text/plain": [
       "  tariff         median           mean            var            std\n",
       "         calls_duration calls_duration calls_duration calls_duration\n",
       "0  smart          422.0          418.0        36219.0          190.0\n",
       "1  ultra          518.0          527.0       100874.0          318.0"
      ]
     },
     "metadata": {},
     "output_type": "display_data"
    },
    {
     "data": {
      "image/png": "[encoded data removed]",
      "text/plain": [
       "<Figure size 793.2x360 with 2 Axes>"
      ]
     },
     "metadata": {},
     "output_type": "display_data"
    }
   ],
   "source": [
    "# построим график\n",
    "sns.displot(data=tariff_users_mean, x=\"calls_mean\", hue=\"tariff\", col=\"tariff\")\n",
    "\n",
    "# построим сводную таблицу\n",
    "calls_describe = users_pivot.pivot_table(\n",
    "    index='tariff', values='calls_duration', aggfunc=['median', 'mean', 'var', 'std']).reset_index().round()\n",
    "\n",
    "# выведем таблицу\n",
    "display(calls_describe)\n",
    "\n",
    "# выведем график\n",
    "plt.show()"
   ]
  },
  {
   "cell_type": "markdown",
   "id": "38d3b4a8",
   "metadata": {},
   "source": [
    "* На тарифе \"Смарт\" пользователи в среднем разговаривают 418 минут в месяц. Около трети пользователей превышает лимит в 500 включенных минут. Распределение вытянуто вверх, похоже на нормальное.\n",
    "\n",
    "\n",
    "* На тарифе \"Ультра\" пользователи в среднем разговаривают 527 минут в месяц. Максимальный расход в 2,5 раза ниже лимита в 3000 минут, средний в 6 раз ниже. Распределение более плоское, равномерное, без явной моды, похоже на нормальное.\n",
    "\n",
    "\n",
    "* Среднее количество потреблённых минут отличаются на 26% в большую сторону для пользователей тарифа \"Ультра\"."
   ]
  },
  {
   "cell_type": "markdown",
   "id": "4b7f0b53",
   "metadata": {},
   "source": [
    "### Сообщения"
   ]
  },
  {
   "cell_type": "code",
   "execution_count": 25,
   "id": "56e374de",
   "metadata": {
    "scrolled": false
   },
   "outputs": [
    {
     "data": {
      "text/html": [
       "<div>\n",
       "<style scoped>\n",
       "    .dataframe tbody tr th:only-of-type {\n",
       "        vertical-align: middle;\n",
       "    }\n",
       "\n",
       "    .dataframe tbody tr th {\n",
       "        vertical-align: top;\n",
       "    }\n",
       "\n",
       "    .dataframe thead tr th {\n",
       "        text-align: left;\n",
       "    }\n",
       "</style>\n",
       "<table border=\"1\" class=\"dataframe\">\n",
       "  <thead>\n",
       "    <tr>\n",
       "      <th></th>\n",
       "      <th>tariff</th>\n",
       "      <th>median</th>\n",
       "      <th>mean</th>\n",
       "      <th>var</th>\n",
       "      <th>std</th>\n",
       "    </tr>\n",
       "    <tr>\n",
       "      <th></th>\n",
       "      <th></th>\n",
       "      <th>message_count</th>\n",
       "      <th>message_count</th>\n",
       "      <th>message_count</th>\n",
       "      <th>message_count</th>\n",
       "    </tr>\n",
       "  </thead>\n",
       "  <tbody>\n",
       "    <tr>\n",
       "      <th>0</th>\n",
       "      <td>smart</td>\n",
       "      <td>28.0</td>\n",
       "      <td>33.0</td>\n",
       "      <td>797.0</td>\n",
       "      <td>28.0</td>\n",
       "    </tr>\n",
       "    <tr>\n",
       "      <th>1</th>\n",
       "      <td>ultra</td>\n",
       "      <td>38.0</td>\n",
       "      <td>49.0</td>\n",
       "      <td>2285.0</td>\n",
       "      <td>48.0</td>\n",
       "    </tr>\n",
       "  </tbody>\n",
       "</table>\n",
       "</div>"
      ],
      "text/plain": [
       "  tariff        median          mean           var           std\n",
       "         message_count message_count message_count message_count\n",
       "0  smart          28.0          33.0         797.0          28.0\n",
       "1  ultra          38.0          49.0        2285.0          48.0"
      ]
     },
     "metadata": {},
     "output_type": "display_data"
    },
    {
     "data": {
      "image/png": "[encoded data removed]",
      "text/plain": [
       "<Figure size 793.2x360 with 2 Axes>"
      ]
     },
     "metadata": {},
     "output_type": "display_data"
    }
   ],
   "source": [
    "# построим график\n",
    "sns.displot(data=tariff_users_mean, x=\"messages_mean\",\n",
    "            hue=\"tariff\", col=\"tariff\")\n",
    "\n",
    "# построим сводную таблицу\n",
    "minutes_describe = users_pivot.pivot_table(\n",
    "    index='tariff', values='message_count', aggfunc=['median', 'mean', 'var', 'std']).reset_index().round()\n",
    "\n",
    "# выведем таблицу\n",
    "display(minutes_describe)\n",
    "\n",
    "# выведем график\n",
    "plt.show()"
   ]
  },
  {
   "cell_type": "markdown",
   "id": "2ebb7f69",
   "metadata": {},
   "source": [
    "* На тарифе \"Смарт\" пользователи в среднем отправляют 33 собщения в месяц, часть клиентов превышает месячный лимит в 50 сообщений, около 100 пользователей не отправляет сообщений вообще. Распределение вытянуто вверх у нулевой отметки, похоже на Пуассоновское.\n",
    "\n",
    "\n",
    "* На тарифе \"Ультра\" пользователи в среднем отправляют 49 собщений в месяц, только 30 пользователей не отправляют сообщений вообще. Максимальный расход в 5 ниже лимита в 1000 сообщений. Распределение не так сильно вытянуто у нулевой отметки, похоже на Пуассоновское.\n",
    "\n",
    "\n",
    "* Среднее количество отправленных сообщений отличается в 1,5 раза в большую сторону для пользователей тарифа \"Ультра\"."
   ]
  },
  {
   "cell_type": "markdown",
   "id": "d3ea107d",
   "metadata": {},
   "source": [
    "### Объём интернет-трафика"
   ]
  },
  {
   "cell_type": "code",
   "execution_count": 26,
   "id": "505cd324",
   "metadata": {
    "scrolled": false
   },
   "outputs": [
    {
     "data": {
      "text/html": [
       "<div>\n",
       "<style scoped>\n",
       "    .dataframe tbody tr th:only-of-type {\n",
       "        vertical-align: middle;\n",
       "    }\n",
       "\n",
       "    .dataframe tbody tr th {\n",
       "        vertical-align: top;\n",
       "    }\n",
       "\n",
       "    .dataframe thead tr th {\n",
       "        text-align: left;\n",
       "    }\n",
       "</style>\n",
       "<table border=\"1\" class=\"dataframe\">\n",
       "  <thead>\n",
       "    <tr>\n",
       "      <th></th>\n",
       "      <th>tariff</th>\n",
       "      <th>median</th>\n",
       "      <th>mean</th>\n",
       "      <th>var</th>\n",
       "      <th>std</th>\n",
       "    </tr>\n",
       "    <tr>\n",
       "      <th></th>\n",
       "      <th></th>\n",
       "      <th>traffic_sum</th>\n",
       "      <th>traffic_sum</th>\n",
       "      <th>traffic_sum</th>\n",
       "      <th>traffic_sum</th>\n",
       "    </tr>\n",
       "  </thead>\n",
       "  <tbody>\n",
       "    <tr>\n",
       "      <th>0</th>\n",
       "      <td>smart</td>\n",
       "      <td>16531.0</td>\n",
       "      <td>16229.0</td>\n",
       "      <td>34545911.0</td>\n",
       "      <td>5878.0</td>\n",
       "    </tr>\n",
       "    <tr>\n",
       "      <th>1</th>\n",
       "      <td>ultra</td>\n",
       "      <td>19324.0</td>\n",
       "      <td>19487.0</td>\n",
       "      <td>101935621.0</td>\n",
       "      <td>10096.0</td>\n",
       "    </tr>\n",
       "  </tbody>\n",
       "</table>\n",
       "</div>"
      ],
      "text/plain": [
       "  tariff      median        mean          var         std\n",
       "         traffic_sum traffic_sum  traffic_sum traffic_sum\n",
       "0  smart     16531.0     16229.0   34545911.0      5878.0\n",
       "1  ultra     19324.0     19487.0  101935621.0     10096.0"
      ]
     },
     "metadata": {},
     "output_type": "display_data"
    },
    {
     "data": {
      "image/png": "[encoded data removed]",
      "text/plain": [
       "<Figure size 793.2x360 with 2 Axes>"
      ]
     },
     "metadata": {},
     "output_type": "display_data"
    }
   ],
   "source": [
    "# построим график\n",
    "sns.displot(data=tariff_users_mean, x=\"internet_mean\",\n",
    "            hue=\"tariff\", col=\"tariff\")\n",
    "\n",
    "# построим сводную таблицу\n",
    "internet_describe = users_pivot.pivot_table(\n",
    "    index='tariff', values='traffic_sum', aggfunc=['median', 'mean', 'var', 'std']).reset_index().round()\n",
    "\n",
    "# выведем таблицу\n",
    "display(internet_describe)\n",
    "\n",
    "# выведем график\n",
    "plt.show()"
   ]
  },
  {
   "cell_type": "markdown",
   "id": "3c10d08b",
   "metadata": {},
   "source": [
    "* На тарифе \"Смарт\" пользователи в среднем используют 16,2 Гб интернет трафика в месяц. Это больше включенных в тариф 15 Гб. Больше половины пользователей не укладывается в лимит. Распределение вытянуто вверх, похоже на нормальное.\n",
    "\n",
    "\n",
    "* На тарифе \"Ультра\" пользователи в среднем используют 19,5 Гб интернет трафика в месяц. Около 13% клиентов превышает включенные в тариф 30 Гб. Распределение вытянуто по краям, похоже на нормальное.\n",
    "\n",
    "\n",
    "* Среднее количество потреблённого трафика отличаются на 20% в большую сторону для пользователей тарифа \"Ультра\"."
   ]
  },
  {
   "cell_type": "markdown",
   "id": "fc9f9430",
   "metadata": {},
   "source": [
    "### Доход: \"Смарт\" / \"Ультра\""
   ]
  },
  {
   "cell_type": "markdown",
   "id": "087f1c2d",
   "metadata": {},
   "source": [
    "Сравним распределения и посмотрим отличаются ли дисперсии двух выборок: для пользователей тарифов \"Смарт\" и \"Ультра\" (не группированные по `user_id` данные).\n",
    "\n",
    "*Пояснение: без группировки по `user_id` и расчета среднего `revenue` на графике можно четко видеть пользователей, которые не превышают ежемесячную абон. плату. Отсутствие усреднения влияет на статистические параметры несущественно.*"
   ]
  },
  {
   "cell_type": "code",
   "execution_count": 27,
   "id": "c9145afd",
   "metadata": {
    "scrolled": false
   },
   "outputs": [
    {
     "data": {
      "text/html": [
       "<div>\n",
       "<style scoped>\n",
       "    .dataframe tbody tr th:only-of-type {\n",
       "        vertical-align: middle;\n",
       "    }\n",
       "\n",
       "    .dataframe tbody tr th {\n",
       "        vertical-align: top;\n",
       "    }\n",
       "\n",
       "    .dataframe thead tr th {\n",
       "        text-align: left;\n",
       "    }\n",
       "</style>\n",
       "<table border=\"1\" class=\"dataframe\">\n",
       "  <thead>\n",
       "    <tr>\n",
       "      <th></th>\n",
       "      <th>tariff</th>\n",
       "      <th>mean</th>\n",
       "      <th>var</th>\n",
       "      <th>std</th>\n",
       "    </tr>\n",
       "    <tr>\n",
       "      <th></th>\n",
       "      <th></th>\n",
       "      <th>revenue</th>\n",
       "      <th>revenue</th>\n",
       "      <th>revenue</th>\n",
       "    </tr>\n",
       "  </thead>\n",
       "  <tbody>\n",
       "    <tr>\n",
       "      <th>0</th>\n",
       "      <td>smart</td>\n",
       "      <td>1295.0</td>\n",
       "      <td>673931.0</td>\n",
       "      <td>821.0</td>\n",
       "    </tr>\n",
       "    <tr>\n",
       "      <th>1</th>\n",
       "      <td>ultra</td>\n",
       "      <td>2071.0</td>\n",
       "      <td>143491.0</td>\n",
       "      <td>379.0</td>\n",
       "    </tr>\n",
       "  </tbody>\n",
       "</table>\n",
       "</div>"
      ],
      "text/plain": [
       "  tariff    mean       var     std\n",
       "         revenue   revenue revenue\n",
       "0  smart  1295.0  673931.0   821.0\n",
       "1  ultra  2071.0  143491.0   379.0"
      ]
     },
     "metadata": {},
     "output_type": "display_data"
    },
    {
     "data": {
      "image/png": "[encoded data removed]",
      "text/plain": [
       "<Figure size 793.2x360 with 2 Axes>"
      ]
     },
     "metadata": {},
     "output_type": "display_data"
    }
   ],
   "source": [
    "# построим график\n",
    "sns.displot(data=users_pivot, x=\"revenue\", hue=\"tariff\", col=\"tariff\",\n",
    "            hue_order=['smart', 'ultra'], col_order=['smart', 'ultra'])\n",
    "\n",
    "# построим сводную таблицу\n",
    "revenue_describe = users_pivot.pivot_table(\n",
    "    index='tariff', values='revenue', aggfunc=['mean', 'var', 'std']).reset_index().round()\n",
    "\n",
    "# выведем таблицу\n",
    "display(revenue_describe)\n",
    "\n",
    "# выведем график\n",
    "plt.show()"
   ]
  },
  {
   "cell_type": "markdown",
   "id": "85d88cc0",
   "metadata": {},
   "source": [
    "Оценим по превышению абон. платы в каком проценте случаев клиенты выходят за лимиты включенных в пакет услуг (не группированные по `user_id` данные)."
   ]
  },
  {
   "cell_type": "code",
   "execution_count": 28,
   "id": "8c346bae",
   "metadata": {},
   "outputs": [
    {
     "data": {
      "text/html": [
       "<div>\n",
       "<style scoped>\n",
       "    .dataframe tbody tr th:only-of-type {\n",
       "        vertical-align: middle;\n",
       "    }\n",
       "\n",
       "    .dataframe tbody tr th {\n",
       "        vertical-align: top;\n",
       "    }\n",
       "\n",
       "    .dataframe thead th {\n",
       "        text-align: right;\n",
       "    }\n",
       "</style>\n",
       "<table border=\"1\" class=\"dataframe\">\n",
       "  <thead>\n",
       "    <tr style=\"text-align: right;\">\n",
       "      <th></th>\n",
       "      <th>in_limit</th>\n",
       "      <th>overlimit</th>\n",
       "      <th>overlimit_%</th>\n",
       "    </tr>\n",
       "    <tr>\n",
       "      <th>tariff</th>\n",
       "      <th></th>\n",
       "      <th></th>\n",
       "      <th></th>\n",
       "    </tr>\n",
       "  </thead>\n",
       "  <tbody>\n",
       "    <tr>\n",
       "      <th>smart</th>\n",
       "      <td>564</td>\n",
       "      <td>1665</td>\n",
       "      <td>0.75</td>\n",
       "    </tr>\n",
       "    <tr>\n",
       "      <th>ultra</th>\n",
       "      <td>851</td>\n",
       "      <td>134</td>\n",
       "      <td>0.14</td>\n",
       "    </tr>\n",
       "  </tbody>\n",
       "</table>\n",
       "</div>"
      ],
      "text/plain": [
       "        in_limit  overlimit  overlimit_%\n",
       "tariff                                  \n",
       "smart        564       1665         0.75\n",
       "ultra        851        134         0.14"
      ]
     },
     "metadata": {},
     "output_type": "display_data"
    }
   ],
   "source": [
    "# построим сводную таблицу\n",
    "overlimit_pivot = users_pivot.pivot_table(\n",
    "    index='tariff', columns='is_overlimit', values='revenue', aggfunc='count')\n",
    "\n",
    "# переименуем столбцы\n",
    "overlimit_pivot.columns = ['in_limit', 'overlimit']\n",
    "\n",
    "# добавим столбец с процентом превышения\n",
    "overlimit_pivot['overlimit_%'] = round(overlimit_pivot['overlimit'] /\n",
    "                                       (overlimit_pivot['in_limit'] + overlimit_pivot['overlimit']), 2)\n",
    "\n",
    "# выведем таблицу\n",
    "display(overlimit_pivot)"
   ]
  },
  {
   "cell_type": "markdown",
   "id": "7fad9a46",
   "metadata": {},
   "source": [
    "### Доход: Москва / Регионы"
   ]
  },
  {
   "cell_type": "markdown",
   "id": "084566f8",
   "metadata": {},
   "source": [
    "Сравним распределения и посмотрим отличаются ли дисперсии для двух выборок: для абонентов в Москве и других городах (не группированные по `user_id` данные)."
   ]
  },
  {
   "cell_type": "code",
   "execution_count": 29,
   "id": "e37a4376",
   "metadata": {},
   "outputs": [
    {
     "data": {
      "text/html": [
       "<div>\n",
       "<style scoped>\n",
       "    .dataframe tbody tr th:only-of-type {\n",
       "        vertical-align: middle;\n",
       "    }\n",
       "\n",
       "    .dataframe tbody tr th {\n",
       "        vertical-align: top;\n",
       "    }\n",
       "\n",
       "    .dataframe thead tr th {\n",
       "        text-align: left;\n",
       "    }\n",
       "</style>\n",
       "<table border=\"1\" class=\"dataframe\">\n",
       "  <thead>\n",
       "    <tr>\n",
       "      <th></th>\n",
       "      <th>is_moscow</th>\n",
       "      <th>mean</th>\n",
       "      <th>var</th>\n",
       "      <th>std</th>\n",
       "    </tr>\n",
       "    <tr>\n",
       "      <th></th>\n",
       "      <th></th>\n",
       "      <th>revenue</th>\n",
       "      <th>revenue</th>\n",
       "      <th>revenue</th>\n",
       "    </tr>\n",
       "  </thead>\n",
       "  <tbody>\n",
       "    <tr>\n",
       "      <th>0</th>\n",
       "      <td>False</td>\n",
       "      <td>1528.0</td>\n",
       "      <td>656767.0</td>\n",
       "      <td>810.0</td>\n",
       "    </tr>\n",
       "    <tr>\n",
       "      <th>1</th>\n",
       "      <td>True</td>\n",
       "      <td>1551.0</td>\n",
       "      <td>566183.0</td>\n",
       "      <td>752.0</td>\n",
       "    </tr>\n",
       "  </tbody>\n",
       "</table>\n",
       "</div>"
      ],
      "text/plain": [
       "  is_moscow    mean       var     std\n",
       "            revenue   revenue revenue\n",
       "0     False  1528.0  656767.0   810.0\n",
       "1      True  1551.0  566183.0   752.0"
      ]
     },
     "metadata": {},
     "output_type": "display_data"
    },
    {
     "data": {
      "image/png": "[encoded data removed]",
      "text/plain": [
       "<Figure size 792.45x360 with 2 Axes>"
      ]
     },
     "metadata": {},
     "output_type": "display_data"
    }
   ],
   "source": [
    "# построим график\n",
    "sns.displot(data=users_pivot, x=\"revenue\", hue=\"is_moscow\", col=\"is_moscow\",\n",
    "            hue_order=[True, False], col_order=[True, False])\n",
    "\n",
    "# построим сводную таблицу\n",
    "revenue_is_moscow_describe = users_pivot.pivot_table(\n",
    "    index='is_moscow', values='revenue', aggfunc=['mean', 'var', 'std']).reset_index().round()\n",
    "\n",
    "# выведем таблицу\n",
    "display(revenue_is_moscow_describe)\n",
    "\n",
    "# выведем график\n",
    "plt.show()"
   ]
  },
  {
   "cell_type": "markdown",
   "id": "4a4fa452",
   "metadata": {},
   "source": [
    "### Вывод"
   ]
  },
  {
   "cell_type": "markdown",
   "id": "c6b68dbd",
   "metadata": {},
   "source": [
    "Мы изучили поведение клиентов. Пользователи тарифа «Ультра» в среднем активнее пользуются мобильной связью: на 26% больше разговаривают, шлют 1,5 раза больше сообщений и используют на 20% больше интернет трафика.\n",
    "\n",
    "В 75% случаев для тарифа \"Смарт\" и в 14% случаев для тарифа \"Ультра\" доход по абонентам превышал абонентскую плату. Средний ежемесячный доход по тарифу \"Смарт\" составляет 1295 рублей, по тарифу \"Ультра\" 2071 рубль.\n",
    "\n",
    "Можем переходить к последнему шагу."
   ]
  },
  {
   "cell_type": "markdown",
   "id": "0b07dcc0",
   "metadata": {},
   "source": [
    "## Шаг 4. Проверка гипотез"
   ]
  },
  {
   "cell_type": "markdown",
   "id": "6be29775",
   "metadata": {},
   "source": [
    "### О средней выручке по двум тарифам"
   ]
  },
  {
   "cell_type": "markdown",
   "id": "4e093118",
   "metadata": {},
   "source": [
    "* **H₀** всегда формулируется так, чтобы использовать знак равенства. Сформулируем **нулевую гипотезу H₀**: `средняя выручка для пользователей тарифов «Ультра» и «Смарт» одинакова`.\n",
    "\n",
    "\n",
    "* Сформулируем **альтернативную гипотезу H₁**: `средняя выручка для пользователей тарифов «Ультра» и «Смарт» различается`.\n",
    "\n",
    "\n",
    "* Будем считать, что **H₀** можно отвергнуть при `p-уровне значимости < alpha = 0,05`. Это распространенная, не строгая величина alpha.\n",
    "\n",
    "\n",
    "* Для проверки гипотезы о равенстве двух средних будем использовать **t-тест Стьюдента**, решение будем принимать по нему. Как альтернативу мы могли бы использовать дисперсионный анализ **ANOVA**, однако в этом нет нужды на двух выборках.\n",
    "\n",
    "\n",
    "* Дисперсии выборок существенно различаются, применим аргумент `equal_var=False`.\n",
    "\n",
    "\n",
    "* Также выполним сравнение с использованием непараметрического **U-теста по методу Манна и Уитни**, для валидации результата."
   ]
  },
  {
   "cell_type": "code",
   "execution_count": 30,
   "id": "eb707ab5",
   "metadata": {},
   "outputs": [
    {
     "name": "stdout",
     "output_type": "stream",
     "text": [
      "p-уровень значимости t-test: 2.7240946993530856e-246\n",
      "p-уровень значимости u-test: 4.8813241860052426e-186\n",
      "\n",
      "Отвергаем нулевую гипотезу\n"
     ]
    }
   ],
   "source": [
    "# зададим короткие имена для выборок по тарифам\n",
    "smart = users_pivot.query('tariff == \"smart\"')['revenue']\n",
    "ultra = users_pivot.query('tariff == \"ultra\"')['revenue']\n",
    "\n",
    "# зададим критический уровень статистической значимости\n",
    "alpha = 0.05\n",
    "\n",
    "# проверим гипотезу о равенстве средних двух независимых совокупностей\n",
    "results = st.ttest_ind(smart, ultra, equal_var=False)\n",
    "results_u = st.mannwhitneyu(smart, ultra)\n",
    "\n",
    "# выведем на экран получившиеся p-значения\n",
    "print('p-уровень значимости t-test:', results.pvalue)\n",
    "print('p-уровень значимости u-test:', results_u.pvalue)\n",
    "print()\n",
    "\n",
    "# сравним получившееся t-test p-значение с заданным уровнем статистической значимости\n",
    "if (results.pvalue < alpha):\n",
    "    print(\"Отвергаем нулевую гипотезу\")\n",
    "else:\n",
    "    print(\"Не получилось отвергнуть нулевую гипотезу\")"
   ]
  },
  {
   "cell_type": "markdown",
   "id": "6b65ef88",
   "metadata": {},
   "source": [
    "#### Вывод\n",
    "\n",
    "Полученное значение p-value говорит о том, что вероятность получить такое или еще большее различие равно 2.72 * 10 в -246 степени. Это явно слишком малая вероятность, чтобы принять нулевую гипотезу.\n",
    "\n",
    "Принимаем гипотезу о том, что средняя выручка пользователей тарифов «Ультра» и «Смарт» различается."
   ]
  },
  {
   "cell_type": "markdown",
   "id": "77b57d3b",
   "metadata": {},
   "source": [
    "### О средней выручке в Москве и за её пределами"
   ]
  },
  {
   "cell_type": "markdown",
   "id": "18841367",
   "metadata": {},
   "source": [
    "* **H₀** всегда формулируется так, чтобы использовать знак равенства. Сформулируем **нулевую гипотезу H₀**: `средняя выручка пользователей из Москвы равна выручке пользователей из других регионов`.\n",
    "\n",
    "\n",
    "* Сформулируем **альтернативную гипотезу H₁**: `средняя выручка пользователей из Москвы отличается от выручки пользователей из других регионов`.\n",
    "\n",
    "\n",
    "* Будем считать, что **H₀** можно отвергнуть при `p-уровне значимости < alpha = 0,05`. Это распространенная, не строгая величина alpha.\n",
    "\n",
    "\n",
    "* Для проверки гипотезы о равенстве двух средних будем использовать **t-тест Стьюдента**, решение будем принимать по нему. Как альтернативу мы могли бы использовать дисперсионный анализ **ANOVA**, однако в этом нет нужды на двух выборках.\n",
    "\n",
    "\n",
    "* Дисперсии выборок существенно различаются, применим аргумент `equal_var=False`.\n",
    "\n",
    "\n",
    "* Также выполним сравнение с использованием непараметрического **U-теста по методу Манна и Уитни**, для валидации результата."
   ]
  },
  {
   "cell_type": "code",
   "execution_count": 31,
   "id": "cebcb9b7",
   "metadata": {},
   "outputs": [
    {
     "name": "stdout",
     "output_type": "stream",
     "text": [
      "p-уровень значимости t-test: 0.5126564657748214\n",
      "p-уровень значимости u-test: 0.19208767770645735\n",
      "\n",
      "Не получилось отвергнуть нулевую гипотезу\n"
     ]
    }
   ],
   "source": [
    "# зададим короткие имена для выборок по тарифам\n",
    "is_moscow = users_pivot.query('is_moscow == True')['revenue']\n",
    "not_moscow = users_pivot.query('is_moscow == False')['revenue']\n",
    "\n",
    "# зададим критический уровень статистической значимости\n",
    "alpha = 0.05\n",
    "\n",
    "# проверим гипотезу о равенстве средних двух независимых совокупностей\n",
    "results = st.ttest_ind(is_moscow, not_moscow, equal_var=False)\n",
    "results_u = st.mannwhitneyu(is_moscow, not_moscow)\n",
    "\n",
    "# выведем на экран получившиеся p-значения\n",
    "print('p-уровень значимости t-test:', results.pvalue)\n",
    "print('p-уровень значимости u-test:', results_u.pvalue)\n",
    "print()\n",
    "\n",
    "# сравним получившееся t-test p-значение с заданным уровнем статистической значимости\n",
    "if (results.pvalue < alpha):\n",
    "    print(\"Отвергаем нулевую гипотезу\")\n",
    "else:\n",
    "    print(\"Не получилось отвергнуть нулевую гипотезу\")"
   ]
  },
  {
   "cell_type": "markdown",
   "id": "92aaced4",
   "metadata": {},
   "source": [
    "#### Вывод\n",
    "\n",
    "Полученное значение p-value говорит о том, что с очень высокой вероятностью средняя выручка пользователей из Москвы не отличается от выручки пользователей из других регионов."
   ]
  },
  {
   "cell_type": "markdown",
   "id": "7568530b",
   "metadata": {},
   "source": [
    "## Общий вывод"
   ]
  },
  {
   "cell_type": "markdown",
   "id": "f40c2c7c",
   "metadata": {},
   "source": [
    "В результате анализа мы выяснили.\n",
    "\n",
    "* Пользователи тарифа «Ультра» в среднем активнее пользуются мобильной связью: дольше разговаривают, шлют больше сообщений и используют больше интернет трафика.\n",
    "\n",
    "> Пользователю тарифа \"Смарт\" в среднем требуется 418 минут, 33 сообщения и 16,2 Гб интернет-трафика в месяц. Средняя абонентская плата составляет 1295 рублей. В 75% случаев пользователи тарифа платят в месяц больше, чем составляет их абонентская плата.\n",
    "    \n",
    "> Пользователю тарифа \"Ультра\" в среднем требуется 527 минут, 49 сообщений и 19,5 Гб интернет-трафика в месяц. Средняя абонентская плата составляет 2071 рубль. В 14% случаев пользователи тарифа платят в месяц больше, чем составляет их абонентская плата.\n",
    "    \n",
    "В результате проверки гипотез мы выяснили:\n",
    "\n",
    "* Средняя выручка пользователей тарифов «Ультра» и «Смарт» различается.\n",
    "\n",
    "\n",
    "* Cредняя выручка пользователей из Москвы не отличается от выручки пользователей из других регионов.\n",
    "\n",
    "> Несмотря на то, что пользователи тарифа \"Смарт\" чаще превышают лимиты, пользователи тарифа \"Ультра\" в среднем приносят больший доход за счёт высокой фиксированной абонентской платы. При увеличении среднего дохода на 63%, они утилизируют сеть оператора лишь в среднем на 23-26% больше. Таким образом, стоит активнее продвигать тариф \"Ультра\"."
   ]
  }
 ],
 "metadata": {
  "kernelspec": {
   "display_name": "Python 3",
   "language": "python",
   "name": "python3"
  },
  "language_info": {
   "codemirror_mode": {
    "name": "ipython",
    "version": 3
   },
   "file_extension": ".py",
   "mimetype": "text/x-python",
   "name": "python",
   "nbconvert_exporter": "python",
   "pygments_lexer": "ipython3",
   "version": "3.8.10"
  },
  "toc": {
   "base_numbering": 1,
   "nav_menu": {},
   "number_sections": true,
   "sideBar": true,
   "skip_h1_title": true,
   "title_cell": "Оглавление",
   "title_sidebar": "Содержание",
   "toc_cell": false,
   "toc_position": {
    "height": "calc(100% - 180px)",
    "left": "10px",
    "top": "150px",
    "width": "297px"
   },
   "toc_section_display": true,
   "toc_window_display": false
  }
 },
 "nbformat": 4,
 "nbformat_minor": 5
}
