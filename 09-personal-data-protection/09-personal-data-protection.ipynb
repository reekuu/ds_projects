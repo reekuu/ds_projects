{
 "cells": [
  {
   "cell_type": "markdown",
   "metadata": {},
   "source": [
    "# Защита персональных данных клиентов"
   ]
  },
  {
   "cell_type": "markdown",
   "metadata": {},
   "source": [
    "**Описание проекта**\n",
    "\n",
    "Нужно защитить данные клиентов страховой компании «Хоть потоп». Разработать такой метод преобразования данных, чтобы по ним было сложно восстановить персональную информацию. Обосновать корректность его работы."
   ]
  },
  {
   "cell_type": "markdown",
   "metadata": {},
   "source": [
    "**Описание данных**\n",
    "\n",
    "Признаки:\n",
    "\n",
    "* пол,\n",
    "* возраст,\n",
    "* зарплата застрахованного,\n",
    "* количество членов семьи.\n",
    "\n",
    "Целевой признак:\n",
    "\n",
    "* количество страховых выплат клиенту за последние 5 лет."
   ]
  },
  {
   "cell_type": "markdown",
   "metadata": {},
   "source": [
    "## Загрузка данных"
   ]
  },
  {
   "cell_type": "code",
   "execution_count": 1,
   "metadata": {},
   "outputs": [],
   "source": [
    "import pandas as pd\n",
    "import numpy as np\n",
    "\n",
    "from sklearn.model_selection import train_test_split\n",
    "from sklearn.linear_model import LinearRegression\n",
    "from sklearn.metrics import r2_score"
   ]
  },
  {
   "cell_type": "code",
   "execution_count": 2,
   "metadata": {},
   "outputs": [],
   "source": [
    "try:  # local import\n",
    "    df = pd.read_csv('./datasets/insurance.csv')\n",
    "except:  # from Praktikum server\n",
    "    df = pd.read_csv('/datasets/insurance.csv')"
   ]
  },
  {
   "cell_type": "code",
   "execution_count": 3,
   "metadata": {},
   "outputs": [
    {
     "data": {
      "text/html": [
       "<div>\n",
       "<style scoped>\n",
       "    .dataframe tbody tr th:only-of-type {\n",
       "        vertical-align: middle;\n",
       "    }\n",
       "\n",
       "    .dataframe tbody tr th {\n",
       "        vertical-align: top;\n",
       "    }\n",
       "\n",
       "    .dataframe thead th {\n",
       "        text-align: right;\n",
       "    }\n",
       "</style>\n",
       "<table border=\"1\" class=\"dataframe\">\n",
       "  <thead>\n",
       "    <tr style=\"text-align: right;\">\n",
       "      <th></th>\n",
       "      <th>Пол</th>\n",
       "      <th>Возраст</th>\n",
       "      <th>Зарплата</th>\n",
       "      <th>Члены семьи</th>\n",
       "      <th>Страховые выплаты</th>\n",
       "    </tr>\n",
       "  </thead>\n",
       "  <tbody>\n",
       "    <tr>\n",
       "      <th>0</th>\n",
       "      <td>1</td>\n",
       "      <td>41</td>\n",
       "      <td>49600</td>\n",
       "      <td>1</td>\n",
       "      <td>0</td>\n",
       "    </tr>\n",
       "    <tr>\n",
       "      <th>1</th>\n",
       "      <td>0</td>\n",
       "      <td>46</td>\n",
       "      <td>38000</td>\n",
       "      <td>1</td>\n",
       "      <td>1</td>\n",
       "    </tr>\n",
       "    <tr>\n",
       "      <th>2</th>\n",
       "      <td>0</td>\n",
       "      <td>29</td>\n",
       "      <td>21000</td>\n",
       "      <td>0</td>\n",
       "      <td>0</td>\n",
       "    </tr>\n",
       "    <tr>\n",
       "      <th>3</th>\n",
       "      <td>0</td>\n",
       "      <td>21</td>\n",
       "      <td>41700</td>\n",
       "      <td>2</td>\n",
       "      <td>0</td>\n",
       "    </tr>\n",
       "    <tr>\n",
       "      <th>4</th>\n",
       "      <td>1</td>\n",
       "      <td>28</td>\n",
       "      <td>26100</td>\n",
       "      <td>0</td>\n",
       "      <td>0</td>\n",
       "    </tr>\n",
       "  </tbody>\n",
       "</table>\n",
       "</div>"
      ],
      "text/plain": [
       "   Пол  Возраст  Зарплата  Члены семьи  Страховые выплаты\n",
       "0    1       41     49600            1                  0\n",
       "1    0       46     38000            1                  1\n",
       "2    0       29     21000            0                  0\n",
       "3    0       21     41700            2                  0\n",
       "4    1       28     26100            0                  0"
      ]
     },
     "metadata": {},
     "output_type": "display_data"
    },
    {
     "name": "stdout",
     "output_type": "stream",
     "text": [
      "<class 'pandas.core.frame.DataFrame'>\n",
      "RangeIndex: 5000 entries, 0 to 4999\n",
      "Data columns (total 5 columns):\n",
      " #   Column             Non-Null Count  Dtype\n",
      "---  ------             --------------  -----\n",
      " 0   Пол                5000 non-null   int64\n",
      " 1   Возраст            5000 non-null   int64\n",
      " 2   Зарплата           5000 non-null   int64\n",
      " 3   Члены семьи        5000 non-null   int64\n",
      " 4   Страховые выплаты  5000 non-null   int64\n",
      "dtypes: int64(5)\n",
      "memory usage: 195.4 KB\n"
     ]
    }
   ],
   "source": [
    "df = df.astype('int')\n",
    "display(df.head())\n",
    "df.info()"
   ]
  },
  {
   "cell_type": "markdown",
   "metadata": {},
   "source": [
    "Даннные не содержат пропусков, можно переходить на следующий шаг."
   ]
  },
  {
   "cell_type": "markdown",
   "metadata": {},
   "source": [
    "## Умножение матриц"
   ]
  },
  {
   "cell_type": "markdown",
   "metadata": {},
   "source": [
    "Предсказания:\n",
    "\n",
    "$$\n",
    "a = Xw\n",
    "$$\n",
    "\n",
    "Задача обучения:\n",
    "\n",
    "$$\n",
    "w = \\arg\\min_w MSE(Xw, y)\n",
    "$$\n",
    "\n",
    "Формула обучения:\n",
    "\n",
    "$$ w = (X^T X)^{-1} X^T y $$\n",
    "\n",
    "$$ \\Leftrightarrow w = X^{-1} (X^T)^{-1} X^T y $$\n",
    "\n",
    "$$ \\Leftrightarrow w = X^{-1} y $$"
   ]
  },
  {
   "cell_type": "markdown",
   "metadata": {},
   "source": [
    "Обозначения:\n",
    "\n",
    "- $X$ — матрица признаков (нулевой столбец состоит из единиц)\n",
    "\n",
    "- $y$ — вектор целевого признака\n",
    "\n",
    "- $P$ — матрица, на которую умножаются признаки\n",
    "\n",
    "- $w$ — вектор весов линейной регрессии (нулевой элемент равен сдвигу)"
   ]
  },
  {
   "cell_type": "markdown",
   "metadata": {},
   "source": [
    "**Подготовка:**\n",
    "\n",
    "Умножим признаки на обратимую матрицу. Проверим, изменится ли качество линейной регресии.\n",
    "\n",
    "Для раскрытия скобок и преобразований воспользуемся свойствами матриц:\n",
    "\n",
    "* Транспонированное произведение матриц равно произведению транспонированных матриц, взятых в обратном порядке:  \n",
    "    $ (AB)^T = B^T A^T $\n",
    "\n",
    "\n",
    "* Произведение матриц ассоциативно:  \n",
    "    $ (AB)C = A(BC) $\n",
    "    \n",
    "    \n",
    "* Свойства обратных и единичных матриц:  \n",
    "    $ AA^{-1} = A^{-1}A = E $  \n",
    "    $ AE = EA = A $  \n",
    "    $ (AB)^{-1} = B^{-1}A^{-1} $  "
   ]
  },
  {
   "cell_type": "markdown",
   "metadata": {},
   "source": [
    "**Обоснование:**\n",
    "\n",
    "Умножим матрицу признаков $X$ на произвольную, обратимую матрицу $P$, получим: $a' = XPw'$, где $ w' = ((XP)^T\\space XP)^{-1}\\space(XP)^T y $\n",
    "\n",
    "упростим: $ w' = ((XP)^T\\space XP)^{-1}\\space(XP)^T y $\n",
    "\n",
    "$ \\Leftrightarrow w' = (XP)^{-1}\\space((XP)^T)^{-1}\\space(XP)^T y $\n",
    "\n",
    "$ \\Leftrightarrow w' = (XP)^{-1}\\space(P^T X^T)^{-1}\\space P^T X^T y $\n",
    "\n",
    "$ \\Leftrightarrow w' = (XP)^{-1} E y $\n",
    "\n",
    "$ \\Leftrightarrow w' = P^{-1} X^{-1} y $\n",
    "\n",
    "$ \\Leftrightarrow w' = P^{-1} w $\n",
    "\n",
    "Подставим: $𝑤′$ в формулу: $a'=XPw'$, получим:\n",
    "\n",
    "$ a'= XP\\space P^{-1}w$\n",
    "\n",
    "$ \\Leftrightarrow a'= Xw$\n",
    "\n",
    "$ \\Leftrightarrow a'= a$"
   ]
  },
  {
   "cell_type": "markdown",
   "metadata": {},
   "source": [
    "**Ответ:** Качество линейной регрессии не изменится, так как $a=a'$ и $w=w'$."
   ]
  },
  {
   "cell_type": "markdown",
   "metadata": {},
   "source": [
    "## Алгоритм преобразования"
   ]
  },
  {
   "cell_type": "markdown",
   "metadata": {},
   "source": [
    "**Алгоритм**\n",
    "\n",
    "1. Возьмем случайно сгенерированную матрицу $P$ размера $n*n$, определим $n$ по числу признаков в $X-1$;\n",
    "2. Проверим существование обратной матрицы $P$;\n",
    "3. Если обратная матрица существует, то умножим исходную матрицу $X$ на матрицу $P$.\n",
    "4. Для проверки определим метрику R2, и сравним результат на оригинальном и преобразованном датасетах."
   ]
  },
  {
   "cell_type": "markdown",
   "metadata": {},
   "source": [
    "**Обоснование**\n",
    "\n",
    "Согласно доказательству выше, при умножении матрицы признаков $X$ на произвольную, обратимую матрицу $P$, качество линейной регрессии останется неизменным."
   ]
  },
  {
   "cell_type": "code",
   "execution_count": 4,
   "metadata": {},
   "outputs": [],
   "source": [
    "def obfuscation(dataset, target, seed=42):\n",
    "    \n",
    "    np.random.seed(seed)\n",
    "    n = dataset.shape[1] - 1\n",
    "    \n",
    "    try:\n",
    "        P = np.random.normal(size=(n, n))\n",
    "        np.linalg.inv(P)\n",
    "    except:\n",
    "        P = np.random.normal(size=(n, n))\n",
    "        np.linalg.inv(P)\n",
    "    \n",
    "    select = dataset.drop(target, axis=1).columns\n",
    "    \n",
    "    dataset[select] = dataset[select] @ P\n",
    "    \n",
    "    return dataset"
   ]
  },
  {
   "cell_type": "markdown",
   "metadata": {},
   "source": [
    "## Проверка алгоритма"
   ]
  },
  {
   "cell_type": "code",
   "execution_count": 5,
   "metadata": {},
   "outputs": [],
   "source": [
    "def ml_run(dataset, target, secret=False):\n",
    "    \n",
    "    if secret:\n",
    "        X = obfuscation(dataset, target).drop(target, axis=1)\n",
    "    else:\n",
    "        X = dataset.drop(target, axis=1)\n",
    "        \n",
    "    y = dataset[target]\n",
    "    \n",
    "    X_train, X_test, y_train, y_test = train_test_split(X, y, test_size=0.25, random_state=42)\n",
    " \n",
    "    model = LinearRegression()\n",
    "    model.fit(X_train, y_train)\n",
    "    prediction = model.predict(X_test)\n",
    "    \n",
    "    return r2_score(y_test, prediction)"
   ]
  },
  {
   "cell_type": "code",
   "execution_count": 6,
   "metadata": {},
   "outputs": [
    {
     "name": "stdout",
     "output_type": "stream",
     "text": [
      "R2 score on the original dataset: 0.42547785\n",
      "R2 score on the obfuscated dataset: 0.42547785\n"
     ]
    }
   ],
   "source": [
    "target = 'Страховые выплаты'\n",
    "\n",
    "print(f'R2 score on the original dataset: {ml_run(df, target, secret=False):.8f}')\n",
    "print(f'R2 score on the obfuscated dataset: {ml_run(df, target, secret=True):.8f}')"
   ]
  },
  {
   "cell_type": "markdown",
   "metadata": {},
   "source": [
    "**Вывод**\n",
    "\n",
    "Оценка R2 совпадает до восьмого знака после запятой для моделей линейной регрессии, обученных на оригинальном и обфусцированном датасетах. Таким образом мы экспериментально подтвердили математическое обоснование."
   ]
  }
 ],
 "metadata": {
  "kernelspec": {
   "display_name": "Python 3",
   "language": "python",
   "name": "python3"
  },
  "language_info": {
   "codemirror_mode": {
    "name": "ipython",
    "version": 3
   },
   "file_extension": ".py",
   "mimetype": "text/x-python",
   "name": "python",
   "nbconvert_exporter": "python",
   "pygments_lexer": "ipython3",
   "version": "3.8.10"
  },
  "toc": {
   "base_numbering": 1,
   "nav_menu": {},
   "number_sections": true,
   "sideBar": true,
   "skip_h1_title": true,
   "title_cell": "Содержание",
   "title_sidebar": "Contents",
   "toc_cell": false,
   "toc_position": {},
   "toc_section_display": true,
   "toc_window_display": false
  }
 },
 "nbformat": 4,
 "nbformat_minor": 2
}
