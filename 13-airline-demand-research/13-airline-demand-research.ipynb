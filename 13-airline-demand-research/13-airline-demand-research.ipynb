{
 "cells": [
  {
   "cell_type": "markdown",
   "metadata": {},
   "source": [
    "# Спрос на рейсы авиакомпании"
   ]
  },
  {
   "cell_type": "markdown",
   "metadata": {},
   "source": [
    "Вы аналитик российской авиакомпании F9, выполняющей внутренние пассажирские перевозки. Важно понять предпочтения пользователей, покупающих билеты на разные направления.\n",
    "\n",
    "Вам предстоит изучить базу данных и проанализировать спрос пассажиров на рейсы в города, где проходят крупнейшие культурные фестивали."
   ]
  },
  {
   "cell_type": "markdown",
   "metadata": {},
   "source": [
    "**Описание данных**\n",
    "\n",
    "У вас есть файлы с результатами запросов из предыдущих заданий.\n",
    "\n",
    "`query_1.csv` — результат первого SQL-запроса. В нём:\n",
    "\n",
    "* `model` — модель самолета;\n",
    "\n",
    "* `flights_amount` — количество рейсов для каждой модели самолетов ***model*** в сентябре 2018 года.\n",
    "\n",
    "`query_3.csv` — результат третьего SQL-запроса. В нём:\n",
    "\n",
    "- `city` — город;\n",
    "- `average_flights` — среднее количество рейсов, прибывающих в **город (*city*)** за день в сентябре 2018 года.\n",
    "\n",
    "**Инструкция по выполнению проекта**\n",
    "\n",
    "Для двух наборов данных нужно:\n",
    "\n",
    "- импортировать файлы;\n",
    "- изучить данные в них;\n",
    "- проверить типы данных на корректность;\n",
    "- выбрать топ-10 городов по количеству рейсов;\n",
    "- построить графики: модели самолётов и количество рейсов, города и количество рейсов, топ-10 городов и количество рейсов;\n",
    "- сделать выводы по каждому из графиков, пояснить результат."
   ]
  },
  {
   "cell_type": "markdown",
   "metadata": {},
   "source": [
    "## Выгрузка данных"
   ]
  },
  {
   "cell_type": "markdown",
   "metadata": {},
   "source": [
    "query_1.csv\n",
    "```sql\n",
    "\n",
    "SELECT \n",
    "  aircrafts.model, \n",
    "  COUNT(flights.flight_id) AS flights_amount \n",
    "FROM \n",
    "  flights \n",
    "  LEFT JOIN aircrafts ON aircrafts.aircraft_code = flights.aircraft_code \n",
    "WHERE \n",
    "  EXTRACT(\n",
    "    'year' \n",
    "    FROM \n",
    "      flights.departure_time\n",
    "  ) = 2018 \n",
    "  AND EXTRACT(\n",
    "    'month' \n",
    "    FROM \n",
    "      flights.departure_time\n",
    "  ) = 09 \n",
    "GROUP BY \n",
    "  aircrafts.model\n",
    "\n"
   ]
  },
  {
   "cell_type": "markdown",
   "metadata": {},
   "source": [
    "query_3.csv\n",
    "\n",
    "```sql\n",
    "SELECT \n",
    "  city, \n",
    "  AVG(flights_per_day) AS average_flights \n",
    "FROM \n",
    "  (\n",
    "    SELECT \n",
    "      airports.city, \n",
    "      COUNT(flights.flight_id) as flights_per_day \n",
    "    FROM \n",
    "      flights \n",
    "      LEFT JOIN airports ON airports.airport_code = flights.arrival_airport \n",
    "    WHERE \n",
    "      EXTRACT(\n",
    "        'year' \n",
    "        FROM \n",
    "          flights.arrival_time\n",
    "      ) = 2018 \n",
    "      AND EXTRACT(\n",
    "        'month' \n",
    "        FROM \n",
    "          flights.arrival_time\n",
    "      ) = 08 \n",
    "    GROUP BY \n",
    "      airports.city, \n",
    "      EXTRACT(\n",
    "        'day' \n",
    "        FROM \n",
    "          flights.arrival_time\n",
    "      )\n",
    "  ) AS SUBQ \n",
    "GROUP BY \n",
    "  city\n",
    "\n"
   ]
  },
  {
   "cell_type": "markdown",
   "metadata": {},
   "source": [
    "## Подготовка"
   ]
  },
  {
   "cell_type": "markdown",
   "metadata": {},
   "source": [
    "Импорт библиотек."
   ]
  },
  {
   "cell_type": "code",
   "execution_count": 1,
   "metadata": {},
   "outputs": [],
   "source": [
    "import pandas as pd\n",
    "import matplotlib.pyplot as plt\n",
    "from pyspark.sql import SparkSession"
   ]
  },
  {
   "cell_type": "markdown",
   "metadata": {},
   "source": [
    "Создадим датафрейм PySpark, загрузим в него csv-таблички."
   ]
  },
  {
   "cell_type": "code",
   "execution_count": 2,
   "metadata": {},
   "outputs": [],
   "source": [
    "APP_NAME = \"DataFrames\"\n",
    "SPARK_URL = \"local[*]\"\n",
    "\n",
    "# create entry point, builder is a session constructor\n",
    "spark = SparkSession.builder.appName(APP_NAME) \\\n",
    "        .config('spark.ui.showConsoleProgress', 'false') \\\n",
    "        .getOrCreate()\n",
    "\n",
    "df1 = spark.read.load('/datasets/query_1.csv', format='csv', header='true', inferSchema='true')\n",
    "df3 = spark.read.load('/datasets/query_3.csv', format='csv', header='true', inferSchema='true')\n",
    "\n",
    "df1.registerTempTable(\"df1\")\n",
    "df3.registerTempTable(\"df3\")"
   ]
  },
  {
   "cell_type": "markdown",
   "metadata": {},
   "source": [
    "Посмотрим на данные."
   ]
  },
  {
   "cell_type": "code",
   "execution_count": 3,
   "metadata": {
    "scrolled": false
   },
   "outputs": [
    {
     "data": {
      "text/plain": [
       "[('model', 'string'), ('flights_amount', 'int')]"
      ]
     },
     "metadata": {},
     "output_type": "display_data"
    },
    {
     "name": "stdout",
     "output_type": "stream",
     "text": [
      "+-------+-------------------+------------------+\n",
      "|summary|              model|    flights_amount|\n",
      "+-------+-------------------+------------------+\n",
      "|  count|                  8|                 8|\n",
      "|   mean|               null|          2035.625|\n",
      "| stddev|               null|1965.2039470679445|\n",
      "|    min|    Airbus A319-100|               300|\n",
      "|    max|Sukhoi SuperJet-100|              4557|\n",
      "+-------+-------------------+------------------+\n",
      "\n"
     ]
    },
    {
     "data": {
      "text/plain": [
       "None"
      ]
     },
     "metadata": {},
     "output_type": "display_data"
    },
    {
     "data": {
      "text/plain": [
       "[Row(model='Airbus A319-100', flights_amount=607),\n",
       " Row(model='Airbus A321-200', flights_amount=960),\n",
       " Row(model='Boeing 737-300', flights_amount=630),\n",
       " Row(model='Boeing 767-300', flights_amount=600),\n",
       " Row(model='Boeing 777-300', flights_amount=300),\n",
       " Row(model='Bombardier CRJ-200', flights_amount=4446),\n",
       " Row(model='Cessna 208 Caravan', flights_amount=4557),\n",
       " Row(model='Sukhoi SuperJet-100', flights_amount=4185)]"
      ]
     },
     "metadata": {},
     "output_type": "display_data"
    }
   ],
   "source": [
    "display(df1.dtypes)\n",
    "display(df1.describe().show())\n",
    "display(df1.take(8))"
   ]
  },
  {
   "cell_type": "markdown",
   "metadata": {},
   "source": [
    "* Небольшой датасет, содержит в себе частоту эксплуатации воздушного парка в сентябре 2018-го;\n",
    "* Модели бортов в типе *string*, средние в типе *integer*."
   ]
  },
  {
   "cell_type": "code",
   "execution_count": 4,
   "metadata": {},
   "outputs": [
    {
     "data": {
      "text/plain": [
       "[('city', 'string'), ('average_flights', 'double')]"
      ]
     },
     "metadata": {},
     "output_type": "display_data"
    },
    {
     "name": "stdout",
     "output_type": "stream",
     "text": [
      "+-------+---------+-----------------+\n",
      "|summary|     city|  average_flights|\n",
      "+-------+---------+-----------------+\n",
      "|  count|      101|              101|\n",
      "|   mean|     null|5.494189113891766|\n",
      "| stddev|     null|13.11979040852178|\n",
      "|    min|   Абакан|              1.0|\n",
      "|    max|Ярославль|129.7741935483871|\n",
      "+-------+---------+-----------------+\n",
      "\n"
     ]
    },
    {
     "data": {
      "text/plain": [
       "None"
      ]
     },
     "metadata": {},
     "output_type": "display_data"
    },
    {
     "data": {
      "text/plain": [
       "[Row(city='Абакан', average_flights=3.870967741935484),\n",
       " Row(city='Анадырь', average_flights=1.0),\n",
       " Row(city='Анапа', average_flights=2.161290322580645),\n",
       " Row(city='Архангельск', average_flights=5.354838709677419),\n",
       " Row(city='Астрахань', average_flights=2.4516129032258065)]"
      ]
     },
     "metadata": {},
     "output_type": "display_data"
    }
   ],
   "source": [
    "display(df3.dtypes)\n",
    "display(df3.describe().show())\n",
    "display(df3.take(5))"
   ]
  },
  {
   "cell_type": "markdown",
   "metadata": {},
   "source": [
    "* Также небольшой датасет, содержит среднее в день количество посадок в каждом городе маршрутной сети за сентябрь 2018-го;\n",
    "* Города в типе *string*, средние в типе *double (float)*."
   ]
  },
  {
   "cell_type": "markdown",
   "metadata": {},
   "source": [
    "## Аналитика"
   ]
  },
  {
   "cell_type": "markdown",
   "metadata": {},
   "source": [
    "Выберем топ-10 городов по количеству прибывших рейсов;"
   ]
  },
  {
   "cell_type": "code",
   "execution_count": 5,
   "metadata": {},
   "outputs": [
    {
     "name": "stdout",
     "output_type": "stream",
     "text": [
      "-RECORD 0--------------------------\n",
      " city            | Москва          \n",
      " average_flights | 130             \n",
      "-RECORD 1--------------------------\n",
      " city            | Санкт-Петербург \n",
      " average_flights | 32              \n",
      "-RECORD 2--------------------------\n",
      " city            | Новосибирск     \n",
      " average_flights | 18              \n",
      "-RECORD 3--------------------------\n",
      " city            | Екатеринбург    \n",
      " average_flights | 12              \n",
      "-RECORD 4--------------------------\n",
      " city            | Красноярск      \n",
      " average_flights | 12              \n",
      "-RECORD 5--------------------------\n",
      " city            | Пермь           \n",
      " average_flights | 11              \n",
      "-RECORD 6--------------------------\n",
      " city            | Ростов-на-Дону  \n",
      " average_flights | 11              \n",
      "-RECORD 7--------------------------\n",
      " city            | Брянск          \n",
      " average_flights | 10              \n",
      "-RECORD 8--------------------------\n",
      " city            | Сочи            \n",
      " average_flights | 10              \n",
      "-RECORD 9--------------------------\n",
      " city            | Ульяновск       \n",
      " average_flights | 10              \n",
      "\n"
     ]
    },
    {
     "data": {
      "text/plain": [
       "None"
      ]
     },
     "metadata": {},
     "output_type": "display_data"
    }
   ],
   "source": [
    "display(spark.sql(\n",
    "    'SELECT city, CEILING(average_flights) as average_flights '\n",
    "    'FROM df3 ORDER BY average_flights DESC LIMIT 10').show(vertical=True))"
   ]
  },
  {
   "cell_type": "code",
   "execution_count": 6,
   "metadata": {},
   "outputs": [],
   "source": [
    "def stylish_bar(df, col, xlabel, ylabel, y_coors, xlim, figsize=(6, 3.5)):\n",
    "\n",
    "    # set font\n",
    "    plt.rcParams['font.family'] = 'DejaVu Sans'\n",
    "    plt.rcParams['font.sans-serif'] = 'Helvetica'\n",
    "\n",
    "    # set the style of the axes and the text color\n",
    "    plt.rcParams['axes.edgecolor'] = '#333F4B'\n",
    "    plt.rcParams['axes.linewidth'] = 0.8\n",
    "    plt.rcParams['xtick.color'] = '#333F4B'\n",
    "    plt.rcParams['ytick.color'] = '#333F4B'\n",
    "    plt.rcParams['text.color'] = '#333F4B'\n",
    "\n",
    "    # create a numeric placeholder for the y-axis\n",
    "    my_range = list(range(1, len(df.index)+1))\n",
    "\n",
    "    # set the figure size\n",
    "    fig, ax = plt.subplots(figsize=figsize)\n",
    "\n",
    "    # create for each plane model an horizontal line that starts at x=0\n",
    "    # with the length represented by the specific amount of flights.\n",
    "    plt.hlines(y=my_range, xmin=0,\n",
    "               xmax=df[col], color='#007ACC', alpha=0.2, linewidth=5)\n",
    "\n",
    "    # create for each line a dot on its edge\n",
    "    plt.plot(df[col], my_range, 'o',\n",
    "             markersize=5, color='#007ACC', alpha=0.6)\n",
    "\n",
    "    # set labels\n",
    "    ax.set_xlabel(xlabel, fontsize=15,\n",
    "                  fontweight='black', color='#333F4B')\n",
    "    ax.set_ylabel('')\n",
    "\n",
    "    # set axis\n",
    "    ax.tick_params(axis='both', which='major', labelsize=12)\n",
    "    plt.yticks(my_range, df.index)\n",
    "\n",
    "    # add an horizonal label for the y-axis\n",
    "    fig.text(*y_coors, ylabel, fontsize=15,\n",
    "             fontweight='black', color='#333F4B')\n",
    "\n",
    "    # change the style of the axis spines\n",
    "    ax.spines['top'].set_visible(False)\n",
    "    ax.spines['right'].set_visible(False)\n",
    "    \n",
    "    ax.spines['left'].set_bounds(1, len(my_range))\n",
    "    ax.set_xlim(0, xlim)\n",
    "\n",
    "    ax.spines['left'].set_position(('outward', 8))\n",
    "    ax.spines['bottom'].set_position(('outward', 5))\n",
    "\n",
    "    #plt.savefig('hist2.png', dpi=300, bbox_inches='tight')"
   ]
  },
  {
   "cell_type": "code",
   "execution_count": 7,
   "metadata": {},
   "outputs": [
    {
     "data": {
      "image/png": "[encoded data removed]",
      "text/plain": [
       "<Figure size 432x252 with 1 Axes>"
      ]
     },
     "metadata": {
      "needs_background": "light"
     },
     "output_type": "display_data"
    }
   ],
   "source": [
    "data = df1.toPandas().set_index('model').sort_values(by='flights_amount')\n",
    "\n",
    "stylish_bar(data, col='flights_amount', xlim=5000, y_coors=(-0.25, 0.96),\n",
    "            xlabel='Количество рейсов в сентябре 2018', ylabel='Модель самолёта')"
   ]
  },
  {
   "cell_type": "markdown",
   "metadata": {},
   "source": [
    "Топ-3:\n",
    "\n",
    "* `Cessna 208` – ближнемагистральный лёгкий одномоторный турбовинтовой самолёт, предназначен для перевозки от 9 до 13 пассажиров на дальность 1200 км;\n",
    "\n",
    "* `CRJ-200` – среднемагистральный узкофюзеляжный пассажирский самолёт, предназначен для перевозки до 50 пассажиров на дальность 3000 или 3710 км;\n",
    "\n",
    "* `SSJ-100` – среднемагистральный узкофюзеляжный пассажирский самолёт, предназначен для перевозки от 87 до 108 пассажиров на дальность 3050 или 4600 км.\n",
    "\n",
    "Эти три модели чаще других используются на коротких дистанциях. Длина и вес пригодны для взлетно-посадочных полос в региональных аэропортах. Одновременно с этим, плохая шумоизоляция делает их эксплуатацию на бОльших расстояниях некомфортной для пассажиров."
   ]
  },
  {
   "cell_type": "code",
   "execution_count": 8,
   "metadata": {
    "scrolled": false
   },
   "outputs": [
    {
     "data": {
      "image/png": "[encoded data removed]",
      "text/plain": [
       "<Figure size 432x252 with 1 Axes>"
      ]
     },
     "metadata": {
      "needs_background": "light"
     },
     "output_type": "display_data"
    }
   ],
   "source": [
    "data = df3.toPandas().set_index('city').sort_values(by='average_flights')\n",
    "\n",
    "stylish_bar(data.tail(10), col='average_flights', xlim=140, y_coors=(-0.18, 0.96),\n",
    "            xlabel='Среднее количество рейсов в день', ylabel='Города топ-10')"
   ]
  },
  {
   "cell_type": "markdown",
   "metadata": {},
   "source": [
    "* Москва – крупнейший пересадочный хаб в России, располагается на первой позиции с большим отрывом;\n",
    "* Санкт-Петербург – крупное туристическое и бизнес направление в Европейской части;\n",
    "* Новосибирск – пересадочный хаб на пути на Дальний Восток, позволяет летать среднемагистральными самолетами во Владивосток и проч.;\n",
    "* Следующие 4 позиций занимают города миллионники: Красноярск, Екатеринбург, Ростов-на-Дону и Пермь.\n",
    "\n",
    "Региональные внутренние авиаперевозки на 2018 год развиты слабо, в основном представлены Москвой и Петербургом. Из 15 городов-миллионников в топ-10 вошло лишь 5."
   ]
  },
  {
   "cell_type": "code",
   "execution_count": 9,
   "metadata": {},
   "outputs": [
    {
     "data": {
      "image/png": "[encoded data removed]",
      "text/plain": [
       "<Figure size 432x1728 with 1 Axes>"
      ]
     },
     "metadata": {
      "needs_background": "light"
     },
     "output_type": "display_data"
    }
   ],
   "source": [
    "stylish_bar(data.head(91), col='average_flights', xlim=10, y_coors=(-0.2, 0.86), figsize=(6, 24),\n",
    "            xlabel='Среднее количество рейсов в день', ylabel='Прочие города')"
   ]
  },
  {
   "cell_type": "markdown",
   "metadata": {},
   "source": [
    "* 91 город принимает от 1 до 10 рейсов в день;\n",
    "* Из-за низкой востребованности, на этих направлениях используется преимущественно малая авиация (*читай* Cessna 208)."
   ]
  },
  {
   "cell_type": "markdown",
   "metadata": {},
   "source": [
    "## Вывод"
   ]
  },
  {
   "cell_type": "markdown",
   "metadata": {},
   "source": [
    "На 2018 год тремя самыми востребованными направлениями являются: Москва, Санкт-Петербург и Новосибирск – в этих городах расположены крупнейшие пересадочные узлы.\n",
    "\n",
    "Цифры косвенно указывает на низкую востребованность внутрирегиональных перевозок и, как следствие, слабое развитие региональной сети выражающееся в малом количестве ежедневных рейсов и активном использовании малой авиации (Cessna 208 – самый популярный самолёт, имеет около 10 посадочных мест)."
   ]
  }
 ],
 "metadata": {
  "ExecuteTimeLog": [
   {
    "duration": 108,
    "start_time": "2021-07-07T19:34:55.349Z"
   },
   {
    "duration": 916,
    "start_time": "2021-07-09T09:45:32.950Z"
   },
   {
    "duration": 245,
    "start_time": "2021-07-09T09:45:33.869Z"
   },
   {
    "duration": 21,
    "start_time": "2021-07-09T09:45:34.117Z"
   },
   {
    "duration": 17,
    "start_time": "2021-07-09T09:45:34.141Z"
   },
   {
    "duration": 18,
    "start_time": "2021-07-09T09:45:34.160Z"
   },
   {
    "duration": 6,
    "start_time": "2021-07-09T09:45:34.200Z"
   },
   {
    "duration": 11,
    "start_time": "2021-07-09T09:45:34.208Z"
   },
   {
    "duration": 884,
    "start_time": "2021-07-09T09:45:34.222Z"
   },
   {
    "duration": 396,
    "start_time": "2021-07-09T09:45:34.712Z"
   },
   {
    "duration": 388,
    "start_time": "2021-07-09T09:45:34.721Z"
   },
   {
    "duration": 10,
    "start_time": "2021-07-09T09:47:02.010Z"
   },
   {
    "duration": 1227,
    "start_time": "2021-07-09T09:47:02.743Z"
   },
   {
    "duration": 56,
    "start_time": "2021-07-09T09:48:30.894Z"
   },
   {
    "duration": 729,
    "start_time": "2021-07-09T09:48:31.750Z"
   },
   {
    "duration": 11,
    "start_time": "2021-07-09T09:49:12.718Z"
   },
   {
    "duration": 1637,
    "start_time": "2021-07-09T09:49:13.320Z"
   },
   {
    "duration": 1483,
    "start_time": "2021-07-09T09:49:41.685Z"
   },
   {
    "duration": 8910,
    "start_time": "2021-07-09T09:49:43.525Z"
   },
   {
    "duration": 1067,
    "start_time": "2021-07-09T09:54:49.105Z"
   },
   {
    "duration": 200,
    "start_time": "2021-07-09T09:54:50.175Z"
   },
   {
    "duration": 22,
    "start_time": "2021-07-09T09:54:50.378Z"
   },
   {
    "duration": 14,
    "start_time": "2021-07-09T09:54:50.403Z"
   },
   {
    "duration": 14,
    "start_time": "2021-07-09T09:54:50.420Z"
   },
   {
    "duration": 8,
    "start_time": "2021-07-09T09:54:50.437Z"
   },
   {
    "duration": 54,
    "start_time": "2021-07-09T09:54:50.448Z"
   },
   {
    "duration": 1430,
    "start_time": "2021-07-09T09:54:50.506Z"
   },
   {
    "duration": 1433,
    "start_time": "2021-07-09T09:54:51.939Z"
   },
   {
    "duration": 8879,
    "start_time": "2021-07-09T09:54:53.375Z"
   },
   {
    "duration": 16827,
    "start_time": "2021-07-09T10:59:53.696Z"
   },
   {
    "duration": 7,
    "start_time": "2021-07-09T11:01:08.038Z"
   },
   {
    "duration": 127,
    "start_time": "2021-07-09T11:01:12.630Z"
   },
   {
    "duration": 99,
    "start_time": "2021-07-09T11:01:18.565Z"
   },
   {
    "duration": 310,
    "start_time": "2021-07-09T11:01:26.231Z"
   },
   {
    "duration": 8527,
    "start_time": "2021-07-09T11:15:43.521Z"
   },
   {
    "duration": 58,
    "start_time": "2021-07-09T11:16:07.451Z"
   },
   {
    "duration": 1531,
    "start_time": "2021-07-09T11:16:41.421Z"
   },
   {
    "duration": 2051,
    "start_time": "2021-07-09T11:27:27.949Z"
   },
   {
    "duration": 402,
    "start_time": "2021-07-09T11:38:46.521Z"
   },
   {
    "duration": 399,
    "start_time": "2021-07-09T11:38:52.304Z"
   },
   {
    "duration": 246,
    "start_time": "2021-07-09T11:39:05.569Z"
   },
   {
    "duration": 371,
    "start_time": "2021-07-09T11:39:13.362Z"
   },
   {
    "duration": 2091,
    "start_time": "2021-07-09T11:39:20.522Z"
   },
   {
    "duration": 835,
    "start_time": "2021-07-09T11:39:28.979Z"
   },
   {
    "duration": 741,
    "start_time": "2021-07-09T11:51:43.466Z"
   },
   {
    "duration": 2077,
    "start_time": "2021-07-09T11:51:55.633Z"
   },
   {
    "duration": 1221,
    "start_time": "2021-07-09T11:53:14.005Z"
   },
   {
    "duration": 1339,
    "start_time": "2021-07-09T11:53:16.363Z"
   },
   {
    "duration": 1288,
    "start_time": "2021-07-09T11:54:55.424Z"
   },
   {
    "duration": 705,
    "start_time": "2021-07-09T11:55:11.601Z"
   },
   {
    "duration": 995,
    "start_time": "2021-07-09T11:56:30.246Z"
   },
   {
    "duration": 6,
    "start_time": "2021-07-09T11:57:32.549Z"
   },
   {
    "duration": 587,
    "start_time": "2021-07-09T11:57:52.615Z"
   },
   {
    "duration": 502,
    "start_time": "2021-07-09T11:58:32.216Z"
   },
   {
    "duration": 1234,
    "start_time": "2021-07-09T12:03:21.482Z"
   },
   {
    "duration": 261,
    "start_time": "2021-07-09T12:03:28.164Z"
   },
   {
    "duration": 294,
    "start_time": "2021-07-09T12:03:34.226Z"
   },
   {
    "duration": 318,
    "start_time": "2021-07-09T12:03:43.404Z"
   },
   {
    "duration": 481,
    "start_time": "2021-07-09T12:04:23.238Z"
   },
   {
    "duration": 312,
    "start_time": "2021-07-09T12:05:36.808Z"
   },
   {
    "duration": 246,
    "start_time": "2021-07-09T12:06:18.865Z"
   },
   {
    "duration": 158,
    "start_time": "2021-07-09T12:06:23.952Z"
   },
   {
    "duration": 303,
    "start_time": "2021-07-09T12:06:29.905Z"
   },
   {
    "duration": 213,
    "start_time": "2021-07-09T12:06:54.100Z"
   },
   {
    "duration": 282,
    "start_time": "2021-07-09T12:07:03.299Z"
   },
   {
    "duration": 214,
    "start_time": "2021-07-09T12:07:06.322Z"
   },
   {
    "duration": 401,
    "start_time": "2021-07-09T12:07:17.540Z"
   },
   {
    "duration": 187,
    "start_time": "2021-07-09T12:07:19.972Z"
   },
   {
    "duration": 288,
    "start_time": "2021-07-09T12:07:55.141Z"
   },
   {
    "duration": 209,
    "start_time": "2021-07-09T12:08:26.293Z"
   },
   {
    "duration": 232,
    "start_time": "2021-07-09T12:09:02.422Z"
   },
   {
    "duration": 244,
    "start_time": "2021-07-09T12:09:28.224Z"
   },
   {
    "duration": 275,
    "start_time": "2021-07-09T12:10:31.347Z"
   },
   {
    "duration": 255,
    "start_time": "2021-07-09T12:10:44.954Z"
   },
   {
    "duration": 4,
    "start_time": "2021-07-09T12:10:58.043Z"
   },
   {
    "duration": 283,
    "start_time": "2021-07-09T12:10:59.433Z"
   },
   {
    "duration": 85,
    "start_time": "2021-07-09T12:11:00.394Z"
   },
   {
    "duration": 87,
    "start_time": "2021-07-09T12:11:06.428Z"
   },
   {
    "duration": 994,
    "start_time": "2021-07-09T12:11:08.723Z"
   },
   {
    "duration": 448,
    "start_time": "2021-07-09T12:11:10.826Z"
   },
   {
    "duration": 435,
    "start_time": "2021-07-09T12:11:25.875Z"
   },
   {
    "duration": 324,
    "start_time": "2021-07-09T12:11:44.247Z"
   },
   {
    "duration": 14,
    "start_time": "2021-07-09T12:11:46.100Z"
   },
   {
    "duration": 264,
    "start_time": "2021-07-09T12:11:50.734Z"
   },
   {
    "duration": 635,
    "start_time": "2021-07-09T12:12:00.534Z"
   },
   {
    "duration": 260,
    "start_time": "2021-07-09T12:12:12.214Z"
   },
   {
    "duration": 573,
    "start_time": "2021-07-09T12:12:18.351Z"
   },
   {
    "duration": 181,
    "start_time": "2021-07-09T12:13:40.075Z"
   },
   {
    "duration": 1634,
    "start_time": "2021-07-09T12:13:49.105Z"
   },
   {
    "duration": 160,
    "start_time": "2021-07-09T12:14:11.172Z"
   },
   {
    "duration": 192,
    "start_time": "2021-07-09T12:14:21.139Z"
   },
   {
    "duration": 200,
    "start_time": "2021-07-09T12:14:29.212Z"
   },
   {
    "duration": 1653,
    "start_time": "2021-07-09T12:14:43.164Z"
   },
   {
    "duration": 93,
    "start_time": "2021-07-09T12:15:05.095Z"
   },
   {
    "duration": 119,
    "start_time": "2021-07-09T12:15:11.221Z"
   },
   {
    "duration": 1649,
    "start_time": "2021-07-09T12:15:14.558Z"
   },
   {
    "duration": 1715,
    "start_time": "2021-07-09T12:15:56.152Z"
   },
   {
    "duration": 9582,
    "start_time": "2021-07-09T12:16:17.872Z"
   },
   {
    "duration": 1638,
    "start_time": "2021-07-09T12:16:36.858Z"
   },
   {
    "duration": 9593,
    "start_time": "2021-07-09T12:16:47.344Z"
   },
   {
    "duration": 1634,
    "start_time": "2021-07-09T12:17:25.002Z"
   },
   {
    "duration": 9075,
    "start_time": "2021-07-09T12:17:26.639Z"
   },
   {
    "duration": 979,
    "start_time": "2021-07-09T12:17:48.097Z"
   },
   {
    "duration": 214,
    "start_time": "2021-07-09T12:17:49.079Z"
   },
   {
    "duration": 26325,
    "start_time": "2021-07-09T12:17:49.297Z"
   },
   {
    "duration": 2507,
    "start_time": "2021-07-09T12:18:15.626Z"
   },
   {
    "duration": 1307,
    "start_time": "2021-07-09T12:18:18.200Z"
   },
   {
    "duration": 919,
    "start_time": "2021-07-09T12:18:19.510Z"
   },
   {
    "duration": 77,
    "start_time": "2021-07-09T12:18:20.432Z"
   },
   {
    "duration": 2110,
    "start_time": "2021-07-09T12:18:20.512Z"
   },
   {
    "duration": 2343,
    "start_time": "2021-07-09T12:18:22.625Z"
   },
   {
    "duration": 9465,
    "start_time": "2021-07-09T12:18:24.970Z"
   },
   {
    "duration": 1024,
    "start_time": "2021-07-09T12:18:56.196Z"
   },
   {
    "duration": 26203,
    "start_time": "2021-07-09T12:18:57.223Z"
   },
   {
    "duration": 2596,
    "start_time": "2021-07-09T12:19:23.429Z"
   },
   {
    "duration": 1474,
    "start_time": "2021-07-09T12:19:26.028Z"
   },
   {
    "duration": 1006,
    "start_time": "2021-07-09T12:19:27.505Z"
   },
   {
    "duration": 20,
    "start_time": "2021-07-09T12:19:28.514Z"
   },
   {
    "duration": 1973,
    "start_time": "2021-07-09T12:19:28.601Z"
   },
   {
    "duration": 1817,
    "start_time": "2021-07-09T12:19:30.577Z"
   },
   {
    "duration": 9280,
    "start_time": "2021-07-09T12:19:32.401Z"
   },
   {
    "duration": 1931,
    "start_time": "2021-07-10T04:14:19.468Z"
   },
   {
    "duration": 45466,
    "start_time": "2021-07-10T04:14:21.401Z"
   },
   {
    "duration": 5203,
    "start_time": "2021-07-10T04:15:06.872Z"
   },
   {
    "duration": 2694,
    "start_time": "2021-07-10T04:15:12.084Z"
   },
   {
    "duration": 1789,
    "start_time": "2021-07-10T04:15:14.782Z"
   },
   {
    "duration": 19,
    "start_time": "2021-07-10T04:15:16.574Z"
   },
   {
    "duration": 1416,
    "start_time": "2021-07-10T04:15:16.670Z"
   },
   {
    "duration": 1106,
    "start_time": "2021-07-10T04:15:18.089Z"
   },
   {
    "duration": 4513,
    "start_time": "2021-07-10T04:15:19.198Z"
   }
  ],
  "kernelspec": {
   "display_name": "Python 3",
   "language": "python",
   "name": "python3"
  },
  "language_info": {
   "codemirror_mode": {
    "name": "ipython",
    "version": 3
   },
   "file_extension": ".py",
   "mimetype": "text/x-python",
   "name": "python",
   "nbconvert_exporter": "python",
   "pygments_lexer": "ipython3",
   "version": "3.8.10"
  },
  "toc": {
   "base_numbering": 1,
   "nav_menu": {},
   "number_sections": true,
   "sideBar": true,
   "skip_h1_title": true,
   "title_cell": "Содержание",
   "title_sidebar": "Contents",
   "toc_cell": false,
   "toc_position": {},
   "toc_section_display": true,
   "toc_window_display": false
  }
 },
 "nbformat": 4,
 "nbformat_minor": 2
}
